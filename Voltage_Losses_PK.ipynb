{
 "cells": [
  {
   "cell_type": "code",
   "execution_count": null,
   "metadata": {},
   "outputs": [],
   "source": [
    "## Do\n",
    "# plot contribution to j0rad integral --> rewrite j0_rad function\n",
    "# modify V_loss_Rau outputs, so it gives all voltages (Eref,Voc_SQ,Voc_jsc,Voc_rad,Voc) and all Deltas (Delta_SQ,Delta_jsc,Deta_rad,Delta_nonrad)\n",
    "#find AM1.5 file difficult"
   ]
  },
  {
   "cell_type": "code",
   "execution_count": null,
   "metadata": {},
   "outputs": [],
   "source": [
    "import math\n",
    "import pandas as pd\n",
    "import numpy as np\n",
    "import matplotlib.pyplot as plt\n",
    "import os\n",
    "from scipy.optimize import curve_fit\n",
    "from scipy import integrate as ig\n",
    "from scipy.interpolate import interp1d\n",
    "from functions import J0, J0_rad, SQ, Voc_rad, LED_QE, calculate_summary, Vloss_CT, Vloss_SQ, calculate_Jsc\n",
    "from utils import bb, getAM15, linear, set_up_plot\n",
    "from utils_EQE import extend_EQE"
   ]
  },
  {
   "cell_type": "code",
   "execution_count": null,
   "metadata": {},
   "outputs": [],
   "source": [
    "T = 293 # [K] ambient & cell temperature\n",
    "h = 6.626 * 10**(-34) # [kgm^2/s]\n",
    "h_eV = 4.1357*10**(-15) # eV s\n",
    "c = 2.998 * 10**(8) # [m/s]\n",
    "k = 1.3806 * 10**(-23) # [kgm^2/s^2K]\n",
    "k_eV = 8.6173*10**(-5) # eV / K\n",
    "q = 1.60217662 * 10**(-19) # [C]\n",
    "q_eV = 1\n",
    "Vth = k_eV*T/q_eV # thermal voltage [eV]"
   ]
  },
  {
   "cell_type": "code",
   "execution_count": null,
   "metadata": {},
   "outputs": [],
   "source": [
    "codePath = os.getcwd()#only makes sense after kernel restart\n",
    "codePath"
   ]
  },
  {
   "cell_type": "code",
   "execution_count": null,
   "metadata": {},
   "outputs": [],
   "source": [
    "os.chdir('C:/Users/pasca/OneDrive - Nexus365/Post/data/')#/home/jungbluth/Desktop/\n",
    "os.getcwd()"
   ]
  },
  {
   "cell_type": "markdown",
   "metadata": {},
   "source": [
    "### additional functions"
   ]
  },
  {
   "cell_type": "code",
   "execution_count": null,
   "metadata": {},
   "outputs": [],
   "source": [
    "# Radiative limit of saturation current density\n",
    "def J0_rad_alt(EQE_df, phi_bb_df):\n",
    "    \"\"\"\n",
    "    Function to calculate the radiative limit of the saturation current density (J0,rad)\n",
    "    :param EQE_df: dataFrame of EQE spectra, with columns 'Energy' and 'EQE' [dataFrame of floats]\n",
    "    :param phi_bb_df: dataFrame of black-body spectrum, with columns 'Energy' and 'Phi' [dataFrame of floats]\n",
    "    :return: J0_rad: radiative limit of the saturation current density [float]\n",
    "    \"\"\"\n",
    "    \n",
    "    #EQE_intp = interp1d(EQE_df['Energy'].values, EQE_df['EQE'].values)\n",
    "    #Phi_intp = interp1d(phi_bb_df['Energy'].values, phi_bb_df['Phi'].values)\n",
    "\n",
    "    J0_rad_integral = q/10*ig.simps(EQE_df['EQE'].values*phi_bb_df['Phi'].values,EQE_df['Energy'].values)\n",
    "    #ig.simps(AM15flux[energy>=Eg],energy[energy>=Eg])\n",
    "    ##plt.semilogy(EQE_df['Energy'].values,EQE_df['EQE'].values*phi_bb_df['Phi'].values)\n",
    "    ##plt.semilogy(EQE_df['Energy'].values,EQE_df['EQE'].values)\n",
    "    ##plt.xlim([0.8,2])\n",
    "    ##plt.ylim([1e-6,1e6])\n",
    "    #result = ig.quad(lambda e: q*EQE_intp(e)*Phi_intp(e), min(EQE_df['Energy']), max(EQE_df['Energy']))\n",
    "    #J0_rad_integral = result[0]/10 # result[0] = integral result, result[1] = estimate of the absolute error on the result\n",
    "    return J0_rad_integral"
   ]
  },
  {
   "cell_type": "code",
   "execution_count": null,
   "metadata": {},
   "outputs": [],
   "source": [
    "#def getAM15():\n",
    "    #filePath = codePath + '\\ASTMG173.csv'# 1:wavelength [nm], 3:AM15g spectral power [W/(m^2nm)]\n",
    "    "
   ]
  },
  {
   "cell_type": "code",
   "execution_count": null,
   "metadata": {},
   "outputs": [],
   "source": [
    "#loading flips the data!\n",
    "##VTE\n",
    "#binFile = r'C:\\Users\\pasca\\OneDrive - Nexus365\\Post\\projects\\_MY-SAMPLES\\mobombination\\Vloss\\bins_Vloss_sel-fitted.csv'\n",
    "##NFA bilayer\n",
    "binFile = r'C:\\Users\\pasca\\OneDrive - Nexus365\\Post\\projects\\_MY-SAMPLES\\bilayer_solution\\DataAnalysis\\Vloss\\bins_Vloss_stitched.csv'\n",
    "df = pd.read_csv(binFile, sep = ',') #uses .csv headers as column labels \n",
    "#row = df.loc[9]#thin2,4,8 #thick3,5,9\n",
    "row = df.loc[3]\n",
    "EQE_file = row['EQE_folder'] + '\\\\' + row['EQE_file']\n",
    "EQEdata = np.genfromtxt(EQE_file, skip_header = 1, delimiter = ',')\n",
    "EQE_df = pd.DataFrame()\n",
    "EQE_df['Energy'] = np.flip(EQEdata[:,2])\n",
    "EQE_df['EQE'] = np.flip(EQEdata[:,3])*row['EQE_fac']\n",
    "os.chdir(codePath) \n",
    "phi_bb_df = bb(EQE_df['Energy'])\n",
    "\n",
    "Jsc_EQE = calculate_Jsc(EQE_df['Energy'],EQE_df['EQE'])\n",
    "J0rad_EQE_alt = J0_rad_alt(EQE_df, phi_bb_df)\n",
    "Voc_rad_alt = k*T/q * np.log((Jsc_EQE/J0rad_EQE_alt )+1)\n",
    "\n",
    "#cumulative sum (contribution to integral, lower boundary varied for *_rev) \n",
    "J0_rad_cum_rev = -q/10*ig.cumulative_trapezoid(np.flip(EQE_df['EQE'].values*phi_bb_df['Phi'].values),np.flip(EQE_df['Energy'].values))\n",
    "Voc_rad_cum = k*T/q * np.log((Jsc_EQE/J0_rad_cum_rev )+1)\n",
    "####J0_rad_cum = q/10*ig.cumulative_trapezoid(EQE_df['EQE'].values*phi_bb_df['Phi'].values,EQE_df['Energy'].values)\n",
    "##"
   ]
  },
  {
   "cell_type": "code",
   "execution_count": null,
   "metadata": {},
   "outputs": [],
   "source": [
    "df_Vocrad = pd.DataFrame()\n",
    "df_Vocrad['Emin'] = np.flip(EQE_df.loc[1:,'Energy'].values)\n",
    "df_Vocrad['Vocrad'] = Voc_rad_cum\n",
    "save_dir = r'C:\\Users\\pasca\\OneDrive - Nexus365\\Post\\projects\\_MY-SAMPLES\\mobombination\\Vloss\\res'\n",
    "save_path = os.path.join(save_dir, 'Vocrad_contrib_' + row['run'] + '.csv')\n",
    "df_Vocrad.to_csv(save_path)"
   ]
  },
  {
   "cell_type": "code",
   "execution_count": null,
   "metadata": {},
   "outputs": [],
   "source": [
    "## plot Vocrad contributions\n",
    "print(J0rad_EQE_alt )\n",
    "print(Voc_rad_alt)\n",
    "\n",
    "plt.figure(1)\n",
    "plt.semilogy(EQE_df['Energy'].values, EQE_df['EQE'].values)\n",
    "plt.semilogy(EQE_df['Energy'].values, EQE_df['EQE'].values*phi_bb_df['Phi'].values)\n",
    "plt.ylim([1e-8,1e6])\n",
    "plt.xlim([0.6,1.8])\n",
    "plt.ylabel('EQE, integrand = EQE*phi_bb')\n",
    "plt.xlabel('energy E [eV]')\n",
    "\n",
    "plt.figure(2)\n",
    "plt.semilogy(np.flip(EQE_df.loc[1:,'Energy'].values),J0_rad_cum_rev)\n",
    "plt.xlim([0.5,1.8])\n",
    "plt.ylim([1e-26,1e-14])\n",
    "plt.ylabel('J0_rad')\n",
    "plt.xlabel('lower boundary of integral E_min [eV]')\n",
    "\n",
    "plt.figure(3)\n",
    "plt.plot(np.flip(EQE_df.loc[1:,'Energy'].values),Voc_rad_cum)\n",
    "plt.xlim([0.6,1.4])\n",
    "plt.ylim([0.8,1.5])\n",
    "plt.ylabel('Voc_rad')\n",
    "plt.xlabel('lower boundary of integral E_min [eV]')"
   ]
  },
  {
   "cell_type": "code",
   "execution_count": null,
   "metadata": {},
   "outputs": [],
   "source": [
    "#loading doesn't flip the data!\n",
    "binFile = r'C:\\Users\\pasca\\OneDrive - Nexus365\\Post\\projects\\_MY-SAMPLES\\mobombination\\Vloss\\bins_Vloss_extrapolate.csv'\n",
    "df = pd.read_csv(binFile, sep = ',') #uses .csv headers as column labels \n",
    "row = df.loc[0]\n",
    "EQE_file = row['EQE_folder'] + '\\\\' + row['EQE_file']\n",
    "EQEdata = np.genfromtxt(EQE_file, skip_header = 1, delimiter = ',')\n",
    "EQE_df = pd.DataFrame()\n",
    "EQE_df['Energy'] = EQEdata[:,2]\n",
    "EQE_df['EQE'] = EQEdata[:,3]*row['EQE_fac']\n",
    "os.chdir(codePath) \n",
    "phi_bb_df = bb(EQE_df['Energy'])"
   ]
  },
  {
   "cell_type": "code",
   "execution_count": null,
   "metadata": {},
   "outputs": [],
   "source": [
    "#'linear' extrapolation --> not successful\n",
    "EQE_extrap = extend_EQE(EQE_df, 'linear', min_energy=0.8, start = 1.3, stop = 1.4)\n",
    "phi_bb_df_etrap = bb(EQE_extrap['Energy'])\n",
    "#plt.figure(11)\n",
    "#plt.plot(EQE_extrap['Energy'])\n",
    "#plt.figure(12)\n",
    "#plt.semilogy(EQE_extrap['EQE'])\n",
    "plt.figure(10)\n",
    "plt.semilogy(EQE_extrap['Energy'],EQE_extrap['EQE'])"
   ]
  },
  {
   "cell_type": "code",
   "execution_count": null,
   "metadata": {},
   "outputs": [],
   "source": [
    "# 'gaussian' extrapolation\n",
    "## equivalent to sitiching fit & data"
   ]
  },
  {
   "cell_type": "code",
   "execution_count": null,
   "metadata": {},
   "outputs": [],
   "source": [
    "plt.figure(0)\n",
    "plt.semilogy(EQE_df['Energy'].values, EQE_df['EQE'].values)\n",
    "plt.semilogy(EQE_df['Energy'].values, EQE_df['EQE'].values*phi_bb_df['Phi'].values)\n",
    "###\n",
    "plt.semilogy(EQE_extrap['Energy'].values, EQE_extrap['EQE'].values)\n",
    "plt.semilogy(EQE_extrap['Energy'].values, EQE_extrap['EQE'].values*phi_bb_df_etrap['Phi'].values)\n",
    "plt.ylim([1e-14,1e6])\n",
    "plt.xlim([0.5,2])\n",
    "plt.ylabel('EQE, integrand = EQE*phi_bb')\n",
    "plt.xlabel('energy E [eV]')"
   ]
  },
  {
   "cell_type": "markdown",
   "metadata": {},
   "source": [
    "### Calculate Relevant Parameters"
   ]
  },
  {
   "cell_type": "code",
   "execution_count": null,
   "metadata": {
    "scrolled": false
   },
   "outputs": [],
   "source": [
    "##VTE\n",
    "#binFile = r'C:\\Users\\pasca\\OneDrive - Nexus365\\Post\\projects\\_MY-SAMPLES\\mobombination\\Vloss\\bins_Vloss_sel-fitted.csv'\n",
    "##NFA bilayer\n",
    "binFile = r'C:\\Users\\pasca\\OneDrive - Nexus365\\Post\\projects\\_MY-SAMPLES\\bilayer_solution\\DataAnalysis\\Vloss\\bins_Vloss_stitched.csv'\n",
    "df = pd.read_csv(binFile, sep = ',') #uses .csv headers as column labels    \n",
    "df['Voc_SQ']=np.nan\n",
    "df['Voc_sc']=np.nan\n",
    "df['Voc_rad']=np.nan\n",
    "##\n",
    "#df['Voc_rad_alt']=np.nan\n",
    "##\n",
    "df['Delta_V_SQ'] = np.nan\n",
    "df['Delta_V_sc']=np.nan\n",
    "df['Delta_V_rad']=np.nan\n",
    "df['Delta_V_nonrad']=np.nan\n",
    "df['Q_LED']=np.nan\n",
    "\n",
    "for ind, row in df.iterrows():\n",
    "    EQE_file = row['EQE_folder'] + '\\\\' + row['EQE_file']\n",
    "    EQEdata = np.genfromtxt(EQE_file, skip_header = 1, delimiter = ',')\n",
    "    EQE_df = pd.DataFrame()\n",
    "    EQE_df['Energy'] = np.flip(EQEdata[:,2])\n",
    "    EQE_df['EQE'] = np.flip(EQEdata[:,3])*row['EQE_fac']\n",
    "    os.chdir(codePath)  \n",
    "    phi_bb_df = bb(EQE_df['Energy'])\n",
    "    Jsc_EQE = calculate_Jsc(EQE_df['Energy'],EQE_df['EQE'])\n",
    "    ##\n",
    "    J0rad_EQE = J0_rad(EQE_df, phi_bb_df)\n",
    "    vocrad,temp = Voc_rad(row['Voc'], Jsc_EQE, J0rad_EQE)\n",
    "    df.at[ind,'Voc_rad'] = vocrad\n",
    "    \n",
    "    #J0rad_EQE_alt = J0_rad_alt(EQE_df, phi_bb_df)\n",
    "    #vocrad,temp = Voc_rad(row['Voc'], Jsc_EQE, J0rad_EQE_alt)\n",
    "    #df.at[ind,'Voc_rad_alt'] = vocrad        \n",
    "    ##\n",
    "    df.at[ind,'Voc_SQ'], df.at[ind,'Delta_V_sc'], df.at[ind,'Delta_V_rad'], df.at[ind,'Delta_V_nonrad'] = Vloss_SQ(row['Eg'], row['Voc'], row['Jsc'], voc_rad = vocrad)#\n",
    "df['Voc_sc'] = df['Voc_SQ'] - df['Delta_V_sc']\n",
    "df['Delta_V_SQ'] = df['Eg'] - df['Voc_SQ']\n",
    "for ind, row in df.iterrows():\n",
    "    df.at[ind,'Q_LED'] = LED_QE( row['Delta_V_nonrad'])"
   ]
  },
  {
   "cell_type": "code",
   "execution_count": null,
   "metadata": {},
   "outputs": [],
   "source": [
    "df"
   ]
  },
  {
   "cell_type": "code",
   "execution_count": null,
   "metadata": {},
   "outputs": [],
   "source": [
    "###VTE\n",
    "#save_dir = r'C:\\Users\\pasca\\OneDrive - Nexus365\\Post\\projects\\_MY-SAMPLES\\mobombination\\Vloss\\res'\n",
    "##NFA bilayer\n",
    "save_dir = r'C:\\Users\\pasca\\OneDrive - Nexus365\\Post\\projects\\_MY-SAMPLES\\bilayer_solution\\DataAnalysis\\Vloss\\res'\n",
    "save_path = os.path.join(save_dir, 'VlossAnalysis_new.csv')\n",
    "df.to_csv(save_path)\n",
    " "
   ]
  },
  {
   "cell_type": "code",
   "execution_count": null,
   "metadata": {},
   "outputs": [],
   "source": []
  }
 ],
 "metadata": {
  "kernelspec": {
   "display_name": "Python 3",
   "language": "python",
   "name": "python3"
  },
  "language_info": {
   "codemirror_mode": {
    "name": "ipython",
    "version": 3
   },
   "file_extension": ".py",
   "mimetype": "text/x-python",
   "name": "python",
   "nbconvert_exporter": "python",
   "pygments_lexer": "ipython3",
   "version": "3.7.9"
  }
 },
 "nbformat": 4,
 "nbformat_minor": 2
}
