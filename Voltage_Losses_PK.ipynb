{
 "cells": [
  {
   "cell_type": "code",
   "execution_count": 1,
   "metadata": {},
   "outputs": [],
   "source": [
    "## Do\n",
    "# plot contribution to j0rad integral --> rewrite j0_rad function\n",
    "# modify V_loss_Rau outputs, so it gives all voltages (Eref,Voc_SQ,Voc_jsc,Voc_rad,Voc) and all Deltas (Delta_SQ,Delta_jsc,Deta_rad,Delta_nonrad)\n",
    "#find AM1.5 file difficult"
   ]
  },
  {
   "cell_type": "code",
   "execution_count": 1,
   "metadata": {},
   "outputs": [],
   "source": [
    "import math\n",
    "import pandas as pd\n",
    "import numpy as np\n",
    "import matplotlib.pyplot as plt\n",
    "import os\n",
    "from scipy.optimize import curve_fit\n",
    "from scipy import integrate as ig\n",
    "from scipy.interpolate import interp1d\n",
    "from functions import J0, J0_rad, SQ, Voc_rad, LED_QE, calculate_summary, Vloss_CT, Vloss_SQ, calculate_Jsc\n",
    "from utils import bb, getAM15, linear, set_up_plot\n",
    "from utils_EQE import extend_EQE\n",
    "from utils_EQE import Marcus_Gaussian"
   ]
  },
  {
   "cell_type": "code",
   "execution_count": 2,
   "metadata": {},
   "outputs": [],
   "source": [
    "T = 293 # [K] ambient & cell temperature\n",
    "h = 6.626 * 10**(-34) # [kgm^2/s]\n",
    "h_eV = 4.1357*10**(-15) # eV s\n",
    "c = 2.998 * 10**(8) # [m/s]\n",
    "k = 1.3806 * 10**(-23) # [kgm^2/s^2K]\n",
    "k_eV = 8.6173*10**(-5) # eV / K\n",
    "q = 1.60217662 * 10**(-19) # [C]\n",
    "q_eV = 1\n",
    "Vth = k_eV*T/q_eV # thermal voltage [eV]"
   ]
  },
  {
   "cell_type": "code",
   "execution_count": 3,
   "metadata": {},
   "outputs": [
    {
     "data": {
      "text/plain": [
       "'C:\\\\Users\\\\pasca\\\\Documents\\\\GitHub\\\\Voltage-Loss-Calculations'"
      ]
     },
     "execution_count": 3,
     "metadata": {},
     "output_type": "execute_result"
    }
   ],
   "source": [
    "codePath = os.getcwd()#only makes sense after kernel restart\n",
    "codePath"
   ]
  },
  {
   "cell_type": "code",
   "execution_count": 4,
   "metadata": {},
   "outputs": [
    {
     "data": {
      "text/plain": [
       "'C:\\\\Users\\\\pasca\\\\OneDrive - Nexus365\\\\Post\\\\data'"
      ]
     },
     "execution_count": 4,
     "metadata": {},
     "output_type": "execute_result"
    }
   ],
   "source": [
    "os.chdir('C:/Users/pasca/OneDrive - Nexus365/Post/data/')#/home/jungbluth/Desktop/\n",
    "os.getcwd()"
   ]
  },
  {
   "cell_type": "markdown",
   "metadata": {},
   "source": [
    "## generate EQE from  Marcus parameters"
   ]
  },
  {
   "cell_type": "code",
   "execution_count": 49,
   "metadata": {},
   "outputs": [],
   "source": [
    "EQE_folder = r'C:\\Users\\pasca\\OneDrive - Nexus365\\Post\\projects\\_MY-SAMPLES\\mobombination\\Vloss'\n",
    "EQE_file = r'HB194_A7_50nm'\n",
    "\n",
    "os.chdir(codePath) \n",
    "E_extrap = np.arange(1,2.5,0.005)\n",
    "E_CT = 1.618\n",
    "l_CT = 0.334\n",
    "f_CT = 0.155\n",
    "Temperature = 295\n",
    "EQE_fit = Marcus_Gaussian(E_extrap, E_CT, l_CT,f_CT, np.nan, np.nan, np.nan, Temperature)\n",
    "\n",
    "EQE_fit_export = pd.DataFrame()\n",
    "EQE_fit_export['Energy'] = EQE_fit['Energy']\n",
    "EQE_fit_export['Signal']= EQE_fit['EQE (CT)']\n",
    "EQE_fit_export['Temperature'] = Temperature\n",
    "EQE_fit_export['Oscillator Strength (eV**2)'] = f_CT\n",
    "EQE_fit_export['Reorganization Energy (eV)'] = l_CT\n",
    "EQE_fit_export['CT State Energy (eV)'] = E_CT\n",
    "\n",
    "save_path = os.path.join(EQE_folder, EQE_file + '_CT-fit')\n",
    "EQE_fit_export.to_csv(save_path)"
   ]
  },
  {
   "cell_type": "markdown",
   "metadata": {},
   "source": [
    "### additional functions"
   ]
  },
  {
   "cell_type": "code",
   "execution_count": 5,
   "metadata": {},
   "outputs": [],
   "source": [
    "# Radiative limit of saturation current density\n",
    "def J0_rad_alt(EQE_df, phi_bb_df):\n",
    "    \"\"\"\n",
    "    Function to calculate the radiative limit of the saturation current density (J0,rad)\n",
    "    :param EQE_df: dataFrame of EQE spectra, with columns 'Energy' and 'EQE' [dataFrame of floats]\n",
    "    :param phi_bb_df: dataFrame of black-body spectrum, with columns 'Energy' and 'Phi' [dataFrame of floats]\n",
    "    :return: J0_rad: radiative limit of the saturation current density [float]\n",
    "    \"\"\"\n",
    "    \n",
    "    #EQE_intp = interp1d(EQE_df['Energy'].values, EQE_df['EQE'].values)\n",
    "    #Phi_intp = interp1d(phi_bb_df['Energy'].values, phi_bb_df['Phi'].values)\n",
    "\n",
    "    J0_rad_integral = q/10*ig.simps(EQE_df['EQE'].values*phi_bb_df['Phi'].values,EQE_df['Energy'].values)\n",
    "    #ig.simps(AM15flux[energy>=Eg],energy[energy>=Eg])\n",
    "    ##plt.semilogy(EQE_df['Energy'].values,EQE_df['EQE'].values*phi_bb_df['Phi'].values)\n",
    "    ##plt.semilogy(EQE_df['Energy'].values,EQE_df['EQE'].values)\n",
    "    ##plt.xlim([0.8,2])\n",
    "    ##plt.ylim([1e-6,1e6])\n",
    "    #result = ig.quad(lambda e: q*EQE_intp(e)*Phi_intp(e), min(EQE_df['Energy']), max(EQE_df['Energy']))\n",
    "    #J0_rad_integral = result[0]/10 # result[0] = integral result, result[1] = estimate of the absolute error on the result\n",
    "    return J0_rad_integral"
   ]
  },
  {
   "cell_type": "code",
   "execution_count": null,
   "metadata": {},
   "outputs": [],
   "source": [
    "#def getAM15():\n",
    "    #filePath = codePath + '\\ASTMG173.csv'# 1:wavelength [nm], 3:AM15g spectral power [W/(m^2nm)]\n",
    "    "
   ]
  },
  {
   "cell_type": "markdown",
   "metadata": {},
   "source": [
    "# calc & plot Voc,rad contributions"
   ]
  },
  {
   "cell_type": "code",
   "execution_count": 12,
   "metadata": {},
   "outputs": [
    {
     "name": "stderr",
     "output_type": "stream",
     "text": [
      "C:\\Users\\pasca\\Documents\\GitHub\\Voltage-Loss-Calculations\\functions.py:61: IntegrationWarning: The maximum number of subdivisions (50) has been achieved.\n",
      "  If increasing the limit yields no improvement it is advised to analyze \n",
      "  the integrand in order to determine the difficulties.  If the position of a \n",
      "  local difficulty can be determined (singularity, discontinuity) one will \n",
      "  probably gain from splitting up the interval and calling the integrator \n",
      "  on the subranges.  Perhaps a special-purpose integrator should be used.\n",
      "  result = ig.quad(lambda e: q*EQE_intp(e)*AM15_intp(e), min(E), max(E))\n"
     ]
    }
   ],
   "source": [
    "#loading flips the data!\n",
    "##VTE\n",
    "#binFile = r'C:\\Users\\pasca\\OneDrive - Nexus365\\Post\\projects\\_MY-SAMPLES\\mobombination\\Vloss\\bins_Vloss_sel-fitted.csv'\n",
    "##NFA bilayer\n",
    "binFile = r'C:\\Users\\pasca\\OneDrive - Nexus365\\Post\\projects\\_MY-SAMPLES\\mobombination\\Vloss\\bins_Vloss_sel-fitted.csv'\n",
    "df = pd.read_csv(binFile, sep = ',') #uses .csv headers as column labels \n",
    "#row = df.loc[9]#thin2,4,8 #thick3,5,9\n",
    "row = df.loc[4]\n",
    "EQE_file = row['EQE_folder'] + '\\\\' + row['EQE_file']\n",
    "EQEdata = np.genfromtxt(EQE_file, skip_header = 1, delimiter = ',')\n",
    "EQE_df = pd.DataFrame()\n",
    "EQE_df['Energy'] = np.flip(EQEdata[:,2])\n",
    "EQE_df['EQE'] = np.flip(EQEdata[:,3])*row['EQE_fac']\n",
    "os.chdir(codePath) \n",
    "phi_bb_df = bb(EQE_df['Energy'])\n",
    "\n",
    "Jsc_EQE = calculate_Jsc(EQE_df['Energy'],EQE_df['EQE'])\n",
    "J0rad_EQE_alt = J0_rad_alt(EQE_df, phi_bb_df)\n",
    "Voc_rad_alt = k*T/q * np.log((Jsc_EQE/J0rad_EQE_alt )+1)\n",
    "\n",
    "#cumulative sum (contribution to integral, lower boundary varied for *_rev) \n",
    "J0_rad_cum_rev = -q/10*ig.cumulative_trapezoid(np.flip(EQE_df['EQE'].values*phi_bb_df['Phi'].values),np.flip(EQE_df['Energy'].values))\n",
    "Voc_rad_cum = k*T/q * np.log((Jsc_EQE/J0_rad_cum_rev )+1)\n",
    "####J0_rad_cum = q/10*ig.cumulative_trapezoid(EQE_df['EQE'].values*phi_bb_df['Phi'].values,EQE_df['Energy'].values)\n",
    "##"
   ]
  },
  {
   "cell_type": "code",
   "execution_count": 13,
   "metadata": {},
   "outputs": [],
   "source": [
    "df_Vocrad = pd.DataFrame()\n",
    "df_Vocrad['Emin'] = np.flip(EQE_df.loc[1:,'Energy'].values)\n",
    "df_Vocrad['Vocrad'] = Voc_rad_cum\n",
    "save_dir = r'C:\\Users\\pasca\\OneDrive - Nexus365\\Post\\projects\\_MY-SAMPLES\\mobombination\\Vloss\\res'\n",
    "save_path = os.path.join(save_dir, 'Vocrad_contrib_' + row['run'] + '.csv')\n",
    "df_Vocrad.to_csv(save_path)"
   ]
  },
  {
   "cell_type": "code",
   "execution_count": 14,
   "metadata": {},
   "outputs": [
    {
     "name": "stdout",
     "output_type": "stream",
     "text": [
      "5.049670652685436e-22\n",
      "1.2870362323004734\n"
     ]
    },
    {
     "data": {
      "text/plain": [
       "Text(0.5, 0, 'lower boundary of integral E_min [eV]')"
      ]
     },
     "execution_count": 14,
     "metadata": {},
     "output_type": "execute_result"
    },
    {
     "data": {
      "image/png": "[encoded data removed]",
      "text/plain": [
       "<Figure size 432x288 with 1 Axes>"
      ]
     },
     "metadata": {
      "needs_background": "light"
     },
     "output_type": "display_data"
    },
    {
     "data": {
      "image/png": "[encoded data removed]",
      "text/plain": [
       "<Figure size 432x288 with 1 Axes>"
      ]
     },
     "metadata": {
      "needs_background": "light"
     },
     "output_type": "display_data"
    },
    {
     "data": {
      "image/png": "[encoded data removed]",
      "text/plain": [
       "<Figure size 432x288 with 1 Axes>"
      ]
     },
     "metadata": {
      "needs_background": "light"
     },
     "output_type": "display_data"
    }
   ],
   "source": [
    "## plot Vocrad contributions\n",
    "print(J0rad_EQE_alt )\n",
    "print(Voc_rad_alt)\n",
    "\n",
    "plt.figure(1)\n",
    "plt.semilogy(EQE_df['Energy'].values, EQE_df['EQE'].values)\n",
    "plt.semilogy(EQE_df['Energy'].values, EQE_df['EQE'].values*phi_bb_df['Phi'].values)\n",
    "plt.ylim([1e-8,1e6])\n",
    "plt.xlim([0.6,1.8])\n",
    "plt.ylabel('EQE, integrand = EQE*phi_bb')\n",
    "plt.xlabel('energy E [eV]')\n",
    "\n",
    "plt.figure(2)\n",
    "plt.semilogy(np.flip(EQE_df.loc[1:,'Energy'].values),J0_rad_cum_rev)\n",
    "plt.xlim([0.5,1.8])\n",
    "plt.ylim([1e-26,1e-14])\n",
    "plt.ylabel('J0_rad')\n",
    "plt.xlabel('lower boundary of integral E_min [eV]')\n",
    "\n",
    "plt.figure(3)\n",
    "plt.plot(np.flip(EQE_df.loc[1:,'Energy'].values),Voc_rad_cum)\n",
    "plt.xlim([0.6,1.4])\n",
    "plt.ylim([0.8,1.5])\n",
    "plt.ylabel('Voc_rad')\n",
    "plt.xlabel('lower boundary of integral E_min [eV]')"
   ]
  },
  {
   "cell_type": "markdown",
   "metadata": {},
   "source": [
    "## extrapolation attempt? "
   ]
  },
  {
   "cell_type": "code",
   "execution_count": null,
   "metadata": {},
   "outputs": [],
   "source": [
    "#loading doesn't flip the data!\n",
    "binFile = r'C:\\Users\\pasca\\OneDrive - Nexus365\\Post\\projects\\_MY-SAMPLES\\mobombination\\Vloss\\bins_Vloss_sel-fitted.csv'\n",
    "df = pd.read_csv(binFile, sep = ',') #uses .csv headers as column labels \n",
    "row = df.loc[0]\n",
    "EQE_file = row['EQE_folder'] + '\\\\' + row['EQE_file']\n",
    "EQEdata = np.genfromtxt(EQE_file, skip_header = 1, delimiter = ',')\n",
    "EQE_df = pd.DataFrame()\n",
    "EQE_df['Energy'] = EQEdata[:,2]\n",
    "EQE_df['EQE'] = EQEdata[:,3]*row['EQE_fac']\n",
    "os.chdir(codePath) \n",
    "phi_bb_df = bb(EQE_df['Energy'])"
   ]
  },
  {
   "cell_type": "code",
   "execution_count": null,
   "metadata": {},
   "outputs": [],
   "source": [
    "#'linear' extrapolation --> not successful\n",
    "EQE_extrap = extend_EQE(EQE_df, 'linear', min_energy=0.8, start = 1.3, stop = 1.4)\n",
    "phi_bb_df_etrap = bb(EQE_extrap['Energy'])\n",
    "#plt.figure(11)\n",
    "#plt.plot(EQE_extrap['Energy'])\n",
    "#plt.figure(12)\n",
    "#plt.semilogy(EQE_extrap['EQE'])\n",
    "plt.figure(10)\n",
    "plt.semilogy(EQE_extrap['Energy'],EQE_extrap['EQE'])"
   ]
  },
  {
   "cell_type": "code",
   "execution_count": null,
   "metadata": {},
   "outputs": [],
   "source": [
    "# 'gaussian' extrapolation\n",
    "## equivalent to sitiching fit & data"
   ]
  },
  {
   "cell_type": "code",
   "execution_count": null,
   "metadata": {},
   "outputs": [],
   "source": [
    "plt.figure(0)\n",
    "plt.semilogy(EQE_df['Energy'].values, EQE_df['EQE'].values)\n",
    "plt.semilogy(EQE_df['Energy'].values, EQE_df['EQE'].values*phi_bb_df['Phi'].values)\n",
    "###\n",
    "plt.semilogy(EQE_extrap['Energy'].values, EQE_extrap['EQE'].values)\n",
    "plt.semilogy(EQE_extrap['Energy'].values, EQE_extrap['EQE'].values*phi_bb_df_etrap['Phi'].values)\n",
    "plt.ylim([1e-14,1e6])\n",
    "plt.xlim([0.5,2])\n",
    "plt.ylabel('EQE, integrand = EQE*phi_bb')\n",
    "plt.xlabel('energy E [eV]')"
   ]
  },
  {
   "cell_type": "code",
   "execution_count": 46,
   "metadata": {
    "collapsed": true
   },
   "outputs": [
    {
     "data": {
      "text/html": [
       "<div>\n",
       "<style scoped>\n",
       "    .dataframe tbody tr th:only-of-type {\n",
       "        vertical-align: middle;\n",
       "    }\n",
       "\n",
       "    .dataframe tbody tr th {\n",
       "        vertical-align: top;\n",
       "    }\n",
       "\n",
       "    .dataframe thead th {\n",
       "        text-align: right;\n",
       "    }\n",
       "</style>\n",
       "<table border=\"1\" class=\"dataframe\">\n",
       "  <thead>\n",
       "    <tr style=\"text-align: right;\">\n",
       "      <th></th>\n",
       "      <th>Energy</th>\n",
       "      <th>Signal</th>\n",
       "      <th>Temperature</th>\n",
       "      <th>Oscillator Strength (eV**2)</th>\n",
       "      <th>Reorganization Energy (eV)</th>\n",
       "      <th>CT State Energy (eV)</th>\n",
       "    </tr>\n",
       "  </thead>\n",
       "  <tbody>\n",
       "    <tr>\n",
       "      <th>0</th>\n",
       "      <td>1.000</td>\n",
       "      <td>1.221580e-12</td>\n",
       "      <td>295</td>\n",
       "      <td>0.155</td>\n",
       "      <td>0.334</td>\n",
       "      <td>1.618</td>\n",
       "    </tr>\n",
       "    <tr>\n",
       "      <th>1</th>\n",
       "      <td>1.005</td>\n",
       "      <td>1.607581e-12</td>\n",
       "      <td>295</td>\n",
       "      <td>0.155</td>\n",
       "      <td>0.334</td>\n",
       "      <td>1.618</td>\n",
       "    </tr>\n",
       "    <tr>\n",
       "      <th>2</th>\n",
       "      <td>1.010</td>\n",
       "      <td>2.112492e-12</td>\n",
       "      <td>295</td>\n",
       "      <td>0.155</td>\n",
       "      <td>0.334</td>\n",
       "      <td>1.618</td>\n",
       "    </tr>\n",
       "    <tr>\n",
       "      <th>3</th>\n",
       "      <td>1.015</td>\n",
       "      <td>2.771971e-12</td>\n",
       "      <td>295</td>\n",
       "      <td>0.155</td>\n",
       "      <td>0.334</td>\n",
       "      <td>1.618</td>\n",
       "    </tr>\n",
       "    <tr>\n",
       "      <th>4</th>\n",
       "      <td>1.020</td>\n",
       "      <td>3.632064e-12</td>\n",
       "      <td>295</td>\n",
       "      <td>0.155</td>\n",
       "      <td>0.334</td>\n",
       "      <td>1.618</td>\n",
       "    </tr>\n",
       "    <tr>\n",
       "      <th>...</th>\n",
       "      <td>...</td>\n",
       "      <td>...</td>\n",
       "      <td>...</td>\n",
       "      <td>...</td>\n",
       "      <td>...</td>\n",
       "      <td>...</td>\n",
       "    </tr>\n",
       "    <tr>\n",
       "      <th>295</th>\n",
       "      <td>2.475</td>\n",
       "      <td>6.094497e-05</td>\n",
       "      <td>295</td>\n",
       "      <td>0.155</td>\n",
       "      <td>0.334</td>\n",
       "      <td>1.618</td>\n",
       "    </tr>\n",
       "    <tr>\n",
       "      <th>296</th>\n",
       "      <td>2.480</td>\n",
       "      <td>5.210306e-05</td>\n",
       "      <td>295</td>\n",
       "      <td>0.155</td>\n",
       "      <td>0.334</td>\n",
       "      <td>1.618</td>\n",
       "    </tr>\n",
       "    <tr>\n",
       "      <th>297</th>\n",
       "      <td>2.485</td>\n",
       "      <td>4.447859e-05</td>\n",
       "      <td>295</td>\n",
       "      <td>0.155</td>\n",
       "      <td>0.334</td>\n",
       "      <td>1.618</td>\n",
       "    </tr>\n",
       "    <tr>\n",
       "      <th>298</th>\n",
       "      <td>2.490</td>\n",
       "      <td>3.791413e-05</td>\n",
       "      <td>295</td>\n",
       "      <td>0.155</td>\n",
       "      <td>0.334</td>\n",
       "      <td>1.618</td>\n",
       "    </tr>\n",
       "    <tr>\n",
       "      <th>299</th>\n",
       "      <td>2.495</td>\n",
       "      <td>3.227109e-05</td>\n",
       "      <td>295</td>\n",
       "      <td>0.155</td>\n",
       "      <td>0.334</td>\n",
       "      <td>1.618</td>\n",
       "    </tr>\n",
       "  </tbody>\n",
       "</table>\n",
       "<p>300 rows × 6 columns</p>\n",
       "</div>"
      ],
      "text/plain": [
       "     Energy        Signal  Temperature  Oscillator Strength (eV**2)  \\\n",
       "0     1.000  1.221580e-12          295                        0.155   \n",
       "1     1.005  1.607581e-12          295                        0.155   \n",
       "2     1.010  2.112492e-12          295                        0.155   \n",
       "3     1.015  2.771971e-12          295                        0.155   \n",
       "4     1.020  3.632064e-12          295                        0.155   \n",
       "..      ...           ...          ...                          ...   \n",
       "295   2.475  6.094497e-05          295                        0.155   \n",
       "296   2.480  5.210306e-05          295                        0.155   \n",
       "297   2.485  4.447859e-05          295                        0.155   \n",
       "298   2.490  3.791413e-05          295                        0.155   \n",
       "299   2.495  3.227109e-05          295                        0.155   \n",
       "\n",
       "     Reorganization Energy (eV)  CT State Energy (eV)  \n",
       "0                         0.334                 1.618  \n",
       "1                         0.334                 1.618  \n",
       "2                         0.334                 1.618  \n",
       "3                         0.334                 1.618  \n",
       "4                         0.334                 1.618  \n",
       "..                          ...                   ...  \n",
       "295                       0.334                 1.618  \n",
       "296                       0.334                 1.618  \n",
       "297                       0.334                 1.618  \n",
       "298                       0.334                 1.618  \n",
       "299                       0.334                 1.618  \n",
       "\n",
       "[300 rows x 6 columns]"
      ]
     },
     "execution_count": 46,
     "metadata": {},
     "output_type": "execute_result"
    }
   ],
   "source": [
    "EQE_fit_export"
   ]
  },
  {
   "cell_type": "markdown",
   "metadata": {},
   "source": [
    "## Calculate Voc losses"
   ]
  },
  {
   "cell_type": "code",
   "execution_count": 6,
   "metadata": {
    "scrolled": false
   },
   "outputs": [
    {
     "name": "stderr",
     "output_type": "stream",
     "text": [
      "C:\\Users\\pasca\\Documents\\GitHub\\Voltage-Loss-Calculations\\functions.py:61: IntegrationWarning: The maximum number of subdivisions (50) has been achieved.\n",
      "  If increasing the limit yields no improvement it is advised to analyze \n",
      "  the integrand in order to determine the difficulties.  If the position of a \n",
      "  local difficulty can be determined (singularity, discontinuity) one will \n",
      "  probably gain from splitting up the interval and calling the integrator \n",
      "  on the subranges.  Perhaps a special-purpose integrator should be used.\n",
      "  result = ig.quad(lambda e: q*EQE_intp(e)*AM15_intp(e), min(E), max(E))\n",
      "C:\\Users\\pasca\\Documents\\GitHub\\Voltage-Loss-Calculations\\functions.py:61: IntegrationWarning: The maximum number of subdivisions (50) has been achieved.\n",
      "  If increasing the limit yields no improvement it is advised to analyze \n",
      "  the integrand in order to determine the difficulties.  If the position of a \n",
      "  local difficulty can be determined (singularity, discontinuity) one will \n",
      "  probably gain from splitting up the interval and calling the integrator \n",
      "  on the subranges.  Perhaps a special-purpose integrator should be used.\n",
      "  result = ig.quad(lambda e: q*EQE_intp(e)*AM15_intp(e), min(E), max(E))\n",
      "C:\\Users\\pasca\\Documents\\GitHub\\Voltage-Loss-Calculations\\functions.py:61: IntegrationWarning: The maximum number of subdivisions (50) has been achieved.\n",
      "  If increasing the limit yields no improvement it is advised to analyze \n",
      "  the integrand in order to determine the difficulties.  If the position of a \n",
      "  local difficulty can be determined (singularity, discontinuity) one will \n",
      "  probably gain from splitting up the interval and calling the integrator \n",
      "  on the subranges.  Perhaps a special-purpose integrator should be used.\n",
      "  result = ig.quad(lambda e: q*EQE_intp(e)*AM15_intp(e), min(E), max(E))\n",
      "C:\\Users\\pasca\\Documents\\GitHub\\Voltage-Loss-Calculations\\functions.py:61: IntegrationWarning: The maximum number of subdivisions (50) has been achieved.\n",
      "  If increasing the limit yields no improvement it is advised to analyze \n",
      "  the integrand in order to determine the difficulties.  If the position of a \n",
      "  local difficulty can be determined (singularity, discontinuity) one will \n",
      "  probably gain from splitting up the interval and calling the integrator \n",
      "  on the subranges.  Perhaps a special-purpose integrator should be used.\n",
      "  result = ig.quad(lambda e: q*EQE_intp(e)*AM15_intp(e), min(E), max(E))\n",
      "C:\\Users\\pasca\\Documents\\GitHub\\Voltage-Loss-Calculations\\functions.py:61: IntegrationWarning: The maximum number of subdivisions (50) has been achieved.\n",
      "  If increasing the limit yields no improvement it is advised to analyze \n",
      "  the integrand in order to determine the difficulties.  If the position of a \n",
      "  local difficulty can be determined (singularity, discontinuity) one will \n",
      "  probably gain from splitting up the interval and calling the integrator \n",
      "  on the subranges.  Perhaps a special-purpose integrator should be used.\n",
      "  result = ig.quad(lambda e: q*EQE_intp(e)*AM15_intp(e), min(E), max(E))\n"
     ]
    }
   ],
   "source": [
    "##VTE\n",
    "#binFile = r'C:\\Users\\pasca\\OneDrive - Nexus365\\Post\\projects\\_MY-SAMPLES\\mobombination\\Vloss\\bins_Vloss_sel-fitted.csv'\n",
    "##NFA bilayer\n",
    "binFile = r'C:\\Users\\pasca\\OneDrive - Nexus365\\Post\\projects\\_MY-SAMPLES\\mobombination\\Vloss\\bins_Vloss_sel-fitted.csv'\n",
    "df = pd.read_csv(binFile, sep = ',') #uses .csv headers as column labels    \n",
    "df['Voc_SQ']=np.nan\n",
    "df['Voc_sc']=np.nan\n",
    "df['Voc_rad']=np.nan\n",
    "##\n",
    "#df['Voc_rad_alt']=np.nan\n",
    "##\n",
    "df['Delta_V_SQ'] = np.nan\n",
    "df['Delta_V_sc']=np.nan\n",
    "df['Delta_V_rad']=np.nan\n",
    "df['Delta_V_nonrad']=np.nan\n",
    "df['Q_LED']=np.nan\n",
    "\n",
    "for ind, row in df.iterrows():\n",
    "    EQE_file = row['EQE_folder'] + '\\\\' + row['EQE_file']\n",
    "    EQEdata = np.genfromtxt(EQE_file, skip_header = 1, delimiter = ',')\n",
    "    EQE_df = pd.DataFrame()\n",
    "    EQE_df['Energy'] = np.flip(EQEdata[:,2])\n",
    "    EQE_df['EQE'] = np.flip(EQEdata[:,3])*row['EQE_fac']\n",
    "    os.chdir(codePath)  \n",
    "    phi_bb_df = bb(EQE_df['Energy'])\n",
    "    Jsc_EQE = calculate_Jsc(EQE_df['Energy'],EQE_df['EQE'])\n",
    "    ##\n",
    "    J0rad_EQE = J0_rad(EQE_df, phi_bb_df)\n",
    "    vocrad,temp = Voc_rad(row['Voc'], Jsc_EQE, J0rad_EQE)\n",
    "    df.at[ind,'Voc_rad'] = vocrad\n",
    "    \n",
    "    #J0rad_EQE_alt = J0_rad_alt(EQE_df, phi_bb_df)\n",
    "    #vocrad,temp = Voc_rad(row['Voc'], Jsc_EQE, J0rad_EQE_alt)\n",
    "    #df.at[ind,'Voc_rad_alt'] = vocrad        \n",
    "    ##\n",
    "    df.at[ind,'Voc_SQ'], df.at[ind,'Delta_V_sc'], df.at[ind,'Delta_V_rad'], df.at[ind,'Delta_V_nonrad'] = Vloss_SQ(row['Eg'], row['Voc'], row['Jsc'], voc_rad = vocrad)#\n",
    "df['Voc_sc'] = df['Voc_SQ'] - df['Delta_V_sc']\n",
    "df['Delta_V_SQ'] = df['Eg'] - df['Voc_SQ']\n",
    "for ind, row in df.iterrows():\n",
    "    df.at[ind,'Q_LED'] = LED_QE( row['Delta_V_nonrad'])"
   ]
  },
  {
   "cell_type": "code",
   "execution_count": 7,
   "metadata": {},
   "outputs": [
    {
     "data": {
      "text/html": [
       "<div>\n",
       "<style scoped>\n",
       "    .dataframe tbody tr th:only-of-type {\n",
       "        vertical-align: middle;\n",
       "    }\n",
       "\n",
       "    .dataframe tbody tr th {\n",
       "        vertical-align: top;\n",
       "    }\n",
       "\n",
       "    .dataframe thead th {\n",
       "        text-align: right;\n",
       "    }\n",
       "</style>\n",
       "<table border=\"1\" class=\"dataframe\">\n",
       "  <thead>\n",
       "    <tr style=\"text-align: right;\">\n",
       "      <th></th>\n",
       "      <th>run</th>\n",
       "      <th>substrate</th>\n",
       "      <th>pixel</th>\n",
       "      <th>description</th>\n",
       "      <th>EQE_folder</th>\n",
       "      <th>EQE_file</th>\n",
       "      <th>EQE_fac</th>\n",
       "      <th>Eg</th>\n",
       "      <th>Jsc</th>\n",
       "      <th>Voc</th>\n",
       "      <th>Voc_SQ</th>\n",
       "      <th>Voc_sc</th>\n",
       "      <th>Voc_rad</th>\n",
       "      <th>Delta_V_SQ</th>\n",
       "      <th>Delta_V_sc</th>\n",
       "      <th>Delta_V_rad</th>\n",
       "      <th>Delta_V_nonrad</th>\n",
       "      <th>Q_LED</th>\n",
       "    </tr>\n",
       "  </thead>\n",
       "  <tbody>\n",
       "    <tr>\n",
       "      <th>0</th>\n",
       "      <td>PK210212_DCV5T-C60</td>\n",
       "      <td>C</td>\n",
       "      <td>4</td>\n",
       "      <td>RT,50nm</td>\n",
       "      <td>C:\\Users\\pasca\\OneDrive - Nexus365\\Post\\projec...</td>\n",
       "      <td>DCV5T_C4_RT_50nm_stitched.csv</td>\n",
       "      <td>1</td>\n",
       "      <td>1.83</td>\n",
       "      <td>10.0</td>\n",
       "      <td>0.961</td>\n",
       "      <td>1.548568</td>\n",
       "      <td>1.532647</td>\n",
       "      <td>1.290907</td>\n",
       "      <td>0.281432</td>\n",
       "      <td>0.015921</td>\n",
       "      <td>0.241740</td>\n",
       "      <td>0.329907</td>\n",
       "      <td>2.114443e-06</td>\n",
       "    </tr>\n",
       "    <tr>\n",
       "      <th>1</th>\n",
       "      <td>PK210218_ZnPc-C60</td>\n",
       "      <td>A</td>\n",
       "      <td>5</td>\n",
       "      <td>RT,50nm</td>\n",
       "      <td>C:\\Users\\pasca\\OneDrive - Nexus365\\Post\\projec...</td>\n",
       "      <td>ZnPc_A5_RT_50nm_stitched.csv</td>\n",
       "      <td>1</td>\n",
       "      <td>1.65</td>\n",
       "      <td>5.9</td>\n",
       "      <td>0.477</td>\n",
       "      <td>1.379474</td>\n",
       "      <td>1.344027</td>\n",
       "      <td>0.943616</td>\n",
       "      <td>0.270526</td>\n",
       "      <td>0.035447</td>\n",
       "      <td>0.400411</td>\n",
       "      <td>0.466616</td>\n",
       "      <td>9.410981e-09</td>\n",
       "    </tr>\n",
       "    <tr>\n",
       "      <th>2</th>\n",
       "      <td>PK210226_F4ZnPc-C60</td>\n",
       "      <td>A</td>\n",
       "      <td>5</td>\n",
       "      <td>RT,50nm</td>\n",
       "      <td>C:\\Users\\pasca\\OneDrive - Nexus365\\Post\\projec...</td>\n",
       "      <td>F4ZnPc_A5_RT_50nm_stitched.csv</td>\n",
       "      <td>1</td>\n",
       "      <td>1.64</td>\n",
       "      <td>6.3</td>\n",
       "      <td>0.732</td>\n",
       "      <td>1.369265</td>\n",
       "      <td>1.335095</td>\n",
       "      <td>1.117038</td>\n",
       "      <td>0.270735</td>\n",
       "      <td>0.034170</td>\n",
       "      <td>0.218057</td>\n",
       "      <td>0.385038</td>\n",
       "      <td>2.381620e-07</td>\n",
       "    </tr>\n",
       "    <tr>\n",
       "      <th>3</th>\n",
       "      <td>DTDCPB-C60</td>\n",
       "      <td>A</td>\n",
       "      <td>7</td>\n",
       "      <td>50nm</td>\n",
       "      <td>C:\\Users\\pasca\\OneDrive - Nexus365\\Post\\projec...</td>\n",
       "      <td>DTDCPB_A1_50nm_stitched.csv</td>\n",
       "      <td>1</td>\n",
       "      <td>1.75</td>\n",
       "      <td>7.5</td>\n",
       "      <td>0.942</td>\n",
       "      <td>1.473443</td>\n",
       "      <td>1.447424</td>\n",
       "      <td>1.214085</td>\n",
       "      <td>0.276557</td>\n",
       "      <td>0.026019</td>\n",
       "      <td>0.233339</td>\n",
       "      <td>0.272085</td>\n",
       "      <td>2.088397e-05</td>\n",
       "    </tr>\n",
       "    <tr>\n",
       "      <th>4</th>\n",
       "      <td>HB194-C60</td>\n",
       "      <td>A</td>\n",
       "      <td>1</td>\n",
       "      <td>50nm</td>\n",
       "      <td>C:\\Users\\pasca\\OneDrive - Nexus365\\Post\\projec...</td>\n",
       "      <td>HB194_A7_50nm_stitched.csv</td>\n",
       "      <td>1</td>\n",
       "      <td>1.88</td>\n",
       "      <td>9.6</td>\n",
       "      <td>0.939</td>\n",
       "      <td>1.595346</td>\n",
       "      <td>1.580298</td>\n",
       "      <td>1.286832</td>\n",
       "      <td>0.284654</td>\n",
       "      <td>0.015048</td>\n",
       "      <td>0.293466</td>\n",
       "      <td>0.347832</td>\n",
       "      <td>1.039600e-06</td>\n",
       "    </tr>\n",
       "  </tbody>\n",
       "</table>\n",
       "</div>"
      ],
      "text/plain": [
       "                   run substrate  pixel description  \\\n",
       "0   PK210212_DCV5T-C60         C      4     RT,50nm   \n",
       "1    PK210218_ZnPc-C60         A      5     RT,50nm   \n",
       "2  PK210226_F4ZnPc-C60         A      5     RT,50nm   \n",
       "3           DTDCPB-C60         A      7        50nm   \n",
       "4            HB194-C60         A      1        50nm   \n",
       "\n",
       "                                          EQE_folder  \\\n",
       "0  C:\\Users\\pasca\\OneDrive - Nexus365\\Post\\projec...   \n",
       "1  C:\\Users\\pasca\\OneDrive - Nexus365\\Post\\projec...   \n",
       "2  C:\\Users\\pasca\\OneDrive - Nexus365\\Post\\projec...   \n",
       "3  C:\\Users\\pasca\\OneDrive - Nexus365\\Post\\projec...   \n",
       "4  C:\\Users\\pasca\\OneDrive - Nexus365\\Post\\projec...   \n",
       "\n",
       "                         EQE_file  EQE_fac    Eg   Jsc    Voc    Voc_SQ  \\\n",
       "0   DCV5T_C4_RT_50nm_stitched.csv        1  1.83  10.0  0.961  1.548568   \n",
       "1    ZnPc_A5_RT_50nm_stitched.csv        1  1.65   5.9  0.477  1.379474   \n",
       "2  F4ZnPc_A5_RT_50nm_stitched.csv        1  1.64   6.3  0.732  1.369265   \n",
       "3     DTDCPB_A1_50nm_stitched.csv        1  1.75   7.5  0.942  1.473443   \n",
       "4      HB194_A7_50nm_stitched.csv        1  1.88   9.6  0.939  1.595346   \n",
       "\n",
       "     Voc_sc   Voc_rad  Delta_V_SQ  Delta_V_sc  Delta_V_rad  Delta_V_nonrad  \\\n",
       "0  1.532647  1.290907    0.281432    0.015921     0.241740        0.329907   \n",
       "1  1.344027  0.943616    0.270526    0.035447     0.400411        0.466616   \n",
       "2  1.335095  1.117038    0.270735    0.034170     0.218057        0.385038   \n",
       "3  1.447424  1.214085    0.276557    0.026019     0.233339        0.272085   \n",
       "4  1.580298  1.286832    0.284654    0.015048     0.293466        0.347832   \n",
       "\n",
       "          Q_LED  \n",
       "0  2.114443e-06  \n",
       "1  9.410981e-09  \n",
       "2  2.381620e-07  \n",
       "3  2.088397e-05  \n",
       "4  1.039600e-06  "
      ]
     },
     "execution_count": 7,
     "metadata": {},
     "output_type": "execute_result"
    }
   ],
   "source": [
    "df"
   ]
  },
  {
   "cell_type": "markdown",
   "metadata": {},
   "source": [
    "## Save V loss calculations"
   ]
  },
  {
   "cell_type": "code",
   "execution_count": 8,
   "metadata": {},
   "outputs": [],
   "source": [
    "###VTE\n",
    "#save_dir = r'C:\\Users\\pasca\\OneDrive - Nexus365\\Post\\projects\\_MY-SAMPLES\\mobombination\\Vloss\\res'\n",
    "##NFA bilayer\n",
    "save_dir = r'C:\\Users\\pasca\\OneDrive - Nexus365\\Post\\projects\\_MY-SAMPLES\\bilayer_solution\\DataAnalysis\\Vloss\\res'\n",
    "save_path = os.path.join(save_dir, 'VlossAnalysis_211031.csv')\n",
    "df.to_csv(save_path)\n",
    " "
   ]
  },
  {
   "cell_type": "code",
   "execution_count": null,
   "metadata": {},
   "outputs": [],
   "source": []
  }
 ],
 "metadata": {
  "kernelspec": {
   "display_name": "Python 3",
   "language": "python",
   "name": "python3"
  },
  "language_info": {
   "codemirror_mode": {
    "name": "ipython",
    "version": 3
   },
   "file_extension": ".py",
   "mimetype": "text/x-python",
   "name": "python",
   "nbconvert_exporter": "python",
   "pygments_lexer": "ipython3",
   "version": "3.7.9"
  }
 },
 "nbformat": 4,
 "nbformat_minor": 2
}
