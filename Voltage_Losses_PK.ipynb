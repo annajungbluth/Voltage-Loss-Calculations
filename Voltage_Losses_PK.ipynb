{
 "cells": [
  {
   "cell_type": "code",
   "execution_count": null,
   "metadata": {},
   "outputs": [],
   "source": [
    "## Do\n",
    "# plot contribution to j0rad integral --> rewrite j0_rad function\n",
    "# modify V_loss_Rau outputs, so it gives all voltages (Eref,Voc_SQ,Voc_jsc,Voc_rad,Voc) and all Deltas (Delta_SQ,Delta_jsc,Deta_rad,Delta_nonrad)"
   ]
  },
  {
   "cell_type": "code",
   "execution_count": null,
   "metadata": {},
   "outputs": [],
   "source": [
    "import math\n",
    "import pandas as pd\n",
    "import numpy as np\n",
    "import matplotlib.pyplot as plt\n",
    "import os\n",
    "from scipy.optimize import curve_fit\n",
    "from scipy import integrate as ig\n",
    "from functions import J0, J0_rad, SQ, Voc_rad, LED_QE, calculate_summary, Vloss_CT, Vloss_SQ\n",
    "from utils import bb, getAM15, linear, set_up_plot"
   ]
  },
  {
   "cell_type": "code",
   "execution_count": null,
   "metadata": {},
   "outputs": [],
   "source": [
    "T = 293 # [K] ambient & cell temperature\n",
    "h = 6.626 * 10**(-34) # [kgm^2/s]\n",
    "h_eV = 4.1357*10**(-15) # eV s\n",
    "c = 2.998 * 10**(8) # [m/s]\n",
    "k = 1.3806 * 10**(-23) # [kgm^2/s^2K]\n",
    "k_eV = 8.6173*10**(-5) # eV / K\n",
    "q = 1.60217662 * 10**(-19) # [C]\n",
    "q_eV = 1\n",
    "Vth = k_eV*T/q_eV # thermal voltage [eV]"
   ]
  },
  {
   "cell_type": "code",
   "execution_count": null,
   "metadata": {},
   "outputs": [],
   "source": [
    "codePath = os.getcwd()#only makes sense after kernel restart\n",
    "codePath"
   ]
  },
  {
   "cell_type": "code",
   "execution_count": null,
   "metadata": {},
   "outputs": [],
   "source": [
    "os.chdir('C:/Users/pasca/OneDrive - Nexus365/Post/data/')#/home/jungbluth/Desktop/\n",
    "os.getcwd()"
   ]
  },
  {
   "cell_type": "markdown",
   "metadata": {},
   "source": [
    "### Backup from functions"
   ]
  },
  {
   "cell_type": "code",
   "execution_count": null,
   "metadata": {},
   "outputs": [],
   "source": [
    "#def getAM15():\n",
    "    #filePath = codePath + '\\ASTMG173.csv'# 1:wavelength [nm], 3:AM15g spectral power [W/(m^2nm)]\n",
    "    "
   ]
  },
  {
   "cell_type": "markdown",
   "metadata": {},
   "source": [
    "### Calculate Relevant Parameters"
   ]
  },
  {
   "cell_type": "code",
   "execution_count": null,
   "metadata": {
    "scrolled": false
   },
   "outputs": [],
   "source": [
    "#summary"
   ]
  }
 ],
 "metadata": {
  "kernelspec": {
   "display_name": "Python 3",
   "language": "python",
   "name": "python3"
  },
  "language_info": {
   "codemirror_mode": {
    "name": "ipython",
    "version": 3
   },
   "file_extension": ".py",
   "mimetype": "text/x-python",
   "name": "python",
   "nbconvert_exporter": "python",
   "pygments_lexer": "ipython3",
   "version": "3.7.9"
  }
 },
 "nbformat": 4,
 "nbformat_minor": 2
}
