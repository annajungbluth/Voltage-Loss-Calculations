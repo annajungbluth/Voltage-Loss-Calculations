{
 "cells": [
  {
   "cell_type": "code",
   "execution_count": null,
   "metadata": {},
   "outputs": [],
   "source": [
    "import math\n",
    "import pandas as pd\n",
    "import numpy as np\n",
    "import matplotlib.pyplot as plt\n",
    "import os\n",
    "from scipy.optimize import curve_fit\n",
    "from scipy import integrate as ig"
   ]
  },
  {
   "cell_type": "markdown",
   "metadata": {},
   "source": [
    "### Parameters"
   ]
  },
  {
   "cell_type": "code",
   "execution_count": null,
   "metadata": {},
   "outputs": [],
   "source": [
    "T = 293 # [K] ambient & cell temperature\n",
    "h = 6.626 * 10**(-34) # [kgm^2/s]\n",
    "h_2 = 4.1357*10**(-15) # eV s\n",
    "c = 2.998 * 10**(8) # [m/s]\n",
    "k = 1.3806 * 10**(-23) # [kgm^2/s^2K]\n",
    "k_2 = 8.6173*10**(-5) # eV / K\n",
    "q = 1.60217662 * 10**(-19) # [C]\n",
    "q_eV = 1 \n",
    "Vth = k_2*T/q_eV#thermal voltage [V]"
   ]
  },
  {
   "cell_type": "markdown",
   "metadata": {},
   "source": [
    "### EL conversion functions\n",
    "##### This could be included in the sEQE analysis and electroluminescence script"
   ]
  },
  {
   "cell_type": "code",
   "execution_count": null,
   "metadata": {},
   "outputs": [],
   "source": [
    "#converts spectrometer data (e.g. electroluminescence data) recorded as power flux vs wavenlength into photon flux vs energy\n",
    "#input: (relative) spectrum [nm, ~W/nm] after calibration correction, for example EL\n",
    "#output: dataframe with relative spectrum [eV, ~photons/(eVs)], ascending energies, index starting at 0\n",
    "def convert_to_photon_flux(wavelength,power_flux):\n",
    "    EE = h_2*c/q_eV / (wavelength*1e-9) #energy [eV]\n",
    "    # conversion from [mW/(m^2nm)] to [photon number/(cm^2eVs)]; \n",
    "    # depending on input units prefactors would change\n",
    "    # since often spectra are later normalized, all prefactors could be omitted and the input simply divided by E^3\n",
    "    power_flux_pref = power_flux * 1e-3*1e-4*1e9 * h_2*c/q_eV# factor converting unit prefactors to output unit prefactors. 1e-3:mW-->W; 1e-4:m^2-->cm^2;   1e9:1/nm-->1/m; \n",
    "    photon_flux = power_flux_pref * h_2*c/q_eV * 1/(q*EE**3) # 1/q: W -->eV; 1/E: eV --> photon number; dLambda =hc/q*E^-2dE        \n",
    "    \n",
    "    spectrum = pd.DataFrame()\n",
    "    spectrum['Energy'] = EE\n",
    "    spectrum['photonFlux'] = photon_flux\n",
    "    spectrum['photonFlux_norm'] = norm_spectrum(photon_flux)\n",
    "    if spectrum['Energy'][0] > spectrum['Energy'].iloc[-1]:# convert to ascending energies\n",
    "        spectrum = spectrum.iloc[::-1]\n",
    "        spectrum = spectrum.set_index(pd.Index(range(len(spectrum))))# change index values to begin at 0 \n",
    "    return spectrum    "
   ]
  },
  {
   "cell_type": "code",
   "execution_count": null,
   "metadata": {},
   "outputs": [],
   "source": [
    "# normalizes spectrum to maximum. Note: max might be influenced by noise\n",
    "def norm_spectrum(spec):\n",
    "    spec_norm = spec / np.max(spec)\n",
    "    return spec_norm"
   ]
  },
  {
   "cell_type": "code",
   "execution_count": null,
   "metadata": {},
   "outputs": [],
   "source": [
    "# input: dataFrame with column 'Energy'\n",
    "#return df slice\n",
    "def select_energy_range(df, E_min = np.nan, E_max = np.nan):\n",
    "    if np.isnan(E_min):\n",
    "        E_min = np.amin(df['Energy'])\n",
    "    if np.isnan(E_max):\n",
    "        E_min = np.amax(df['Energy'])\n",
    "    ind_sel = (df['Energy'] >= E_min) & (df['Energy'] <= E_max)\n",
    "    df_slice = df[ind_sel]\n",
    "    return df_slice"
   ]
  },
