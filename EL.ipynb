{
 "cells": [
  {
   "cell_type": "code",
   "execution_count": 1,
   "metadata": {},
   "outputs": [],
   "source": [
    "import math\n",
    "import pandas as pd\n",
    "import numpy as np\n",
    "import matplotlib.pyplot as plt\n",
    "import os\n",
    "from scipy.optimize import curve_fit\n",
    "from scipy import integrate as ig\n",
    "from utils import bb"
   ]
  },
  {
   "cell_type": "markdown",
   "metadata": {},
   "source": [
    "### Parameters"
   ]
  },
  {
   "cell_type": "code",
   "execution_count": 2,
   "metadata": {},
   "outputs": [],
   "source": [
    "T = 293 # [K] ambient & cell temperature\n",
    "h = 6.626 * 10**(-34) # [kgm^2/s]\n",
    "h_2 = 4.1357*10**(-15) # eV s\n",
    "c = 2.998 * 10**(8) # [m/s]\n",
    "k = 1.3806 * 10**(-23) # [kgm^2/s^2K]\n",
    "k_2 = 8.6173*10**(-5) # eV / K\n",
    "q = 1.60217662 * 10**(-19) # [C]\n",
    "q_eV = 1 \n",
    "Vth = k_2*T/q_eV#thermal voltage [V]"
   ]
  },
  {
   "cell_type": "markdown",
   "metadata": {},
   "source": [
    "### EL conversion functions\n",
    "##### This could be included in the sEQE analysis and electroluminescence script"
   ]
  },
  {
   "cell_type": "code",
   "execution_count": 3,
   "metadata": {},
   "outputs": [],
   "source": [
    "#converts spectrometer data (e.g. electroluminescence data) recorded as power flux vs wavenlength into photon flux vs energy\n",
    "#input: (relative) spectrum [nm, ~W/nm] after calibration correction, for example EL\n",
    "#output: dataframe with relative spectrum [eV, ~photons/(eVs)], ascending energies, index starting at 0\n",
    "def convert_to_photon_flux(wavelength,power_flux):\n",
    "    EE = h_2*c/q_eV / (wavelength*1e-9) #energy [eV]\n",
    "    # conversion from [mW/(m^2nm)] to [photon number/(cm^2eVs)]; \n",
    "    # depending on input units prefactors would change\n",
    "    # since often spectra are later normalized, all prefactors could be omitted and the input simply divided by E^3\n",
    "    power_flux_pref = power_flux * 1e-3*1e-4*1e9 * h_2*c/q_eV# factor converting unit prefactors to output unit prefactors. 1e-3:mW-->W; 1e-4:m^2-->cm^2;   1e9:1/nm-->1/m; \n",
    "    photon_flux = power_flux_pref * h_2*c/q_eV * 1/(q*EE**3) # 1/q: W -->eV; 1/E: eV --> photon number; dLambda =hc/q*E^-2dE        \n",
    "    \n",
    "    spectrum = pd.DataFrame()\n",
    "    spectrum['Energy'] = EE\n",
    "    spectrum['photonFlux'] = photon_flux\n",
    "    spectrum['photonFlux_norm'] = norm_spectrum(photon_flux)\n",
    "    \n",
    "    if spectrum['Energy'][0] > spectrum['Energy'].iloc[-1]:# convert to ascending energies\n",
    "        spectrum = spectrum.iloc[::-1]\n",
    "        spectrum = spectrum.set_index(pd.Index(range(len(spectrum))))# change index values to begin at 0 \n",
    "   \n",
    "    return spectrum    "
   ]
  },
  {
   "cell_type": "code",
   "execution_count": 4,
   "metadata": {},
   "outputs": [],
   "source": [
    "# normalizes spectrum to maximum. Note: max might be influenced by noise\n",
    "def norm_spectrum(spec):\n",
    "    spec_norm = spec / np.max(spec)\n",
    "    return spec_norm"
   ]
  },
  {
   "cell_type": "code",
   "execution_count": 5,
   "metadata": {},
   "outputs": [],
   "source": [
    "# input: dataFrame with column 'Energy'\n",
    "#return df slice\n",
    "def select_energy_range(df, E_min = np.nan, E_max = np.nan):\n",
    "    if np.isnan(E_min):\n",
    "        E_min = np.amin(df['Energy'])\n",
    "    if np.isnan(E_max):\n",
    "        E_min = np.amax(df['Energy'])\n",
    "    ind_sel = (df['Energy'] >= E_min) & (df['Energy'] <= E_max)\n",
    "    df_slice = df[ind_sel]\n",
    "    return df_slice"
   ]
  },
  {
   "cell_type": "markdown",
   "metadata": {},
   "source": [
    "### Test code"
   ]
  },
  {
   "cell_type": "code",
   "execution_count": 6,
   "metadata": {},
   "outputs": [
    {
     "data": {
      "text/plain": [
       "'C:\\\\Users\\\\pasca\\\\Documents\\\\GitHub\\\\Voltage-Loss-Calculations'"
      ]
     },
     "execution_count": 6,
     "metadata": {},
     "output_type": "execute_result"
    }
   ],
   "source": [
    "codePath = os.getcwd()#only makes sense after kernel restart\n",
    "codePath"
   ]
  },
  {
   "cell_type": "code",
   "execution_count": 7,
   "metadata": {},
   "outputs": [
    {
     "data": {
      "text/plain": [
       "'C:\\\\Users\\\\pasca\\\\OneDrive - Nexus365\\\\Post\\\\data'"
      ]
     },
     "execution_count": 7,
     "metadata": {},
     "output_type": "execute_result"
    }
   ],
   "source": [
    "os.chdir('C:/Users/pasca/OneDrive - Nexus365/Post/data/')#/home/jungbluth/Desktop/\n",
    "os.getcwd()"
   ]
  },
  {
   "cell_type": "code",
   "execution_count": 8,
   "metadata": {},
   "outputs": [],
   "source": [
    "def read_data(file, type, fac = 1):\n",
    "    if type.lower() == 'el':\n",
    "        EL_data = pd.read_csv(file, names=('no.', 'Wavelength', 'Signal'), header =1)\n",
    "        spectrum = convert_to_photon_flux(EL_data['Wavelength'],EL_data['Signal'])\n",
    "        \n",
    "        spectrum['photonFlux_abs'] = spectrum['photonFlux_norm']*fac #scaled with reciprocity\n",
    "        bbcell = bb(spectrum['Energy'])\n",
    "        spectrum['EQE-from-EL'] = spectrum['photonFlux_abs']/bbcell['Phi'] \n",
    "        \n",
    "    elif type.lower() == 'eqe':\n",
    "        EQEdata = np.genfromtxt(file, skip_header = 1, delimiter = ',')\n",
    "        spectrum = pd.DataFrame()\n",
    "        spectrum['Energy'] = EQEdata[:,2]\n",
    "        spectrum['EQE'] = EQEdata[:,3]*fac\n",
    "        \n",
    "    return spectrum"
   ]
  },
  {
   "cell_type": "markdown",
   "metadata": {},
   "source": [
    "#### EL test and stitching"
   ]
  },
  {
   "cell_type": "code",
   "execution_count": 9,
   "metadata": {},
   "outputs": [],
   "source": [
    "binFile = r'C:\\Users\\pasca\\OneDrive - Nexus365\\Post\\data\\PK210512_NFAbilayer-7\\EL\\bins_EL-A5.csv'\n",
    "df = pd.read_csv(binFile, sep = ',') #uses .csv headers as column labels    \n",
    "\n",
    "row = df.loc[0]\n",
    "file = row['folder'] + '\\\\' + row['file']\n",
    "spectrum_df = read_data(file, row['type'], 1)\n",
    "\n",
    "bbcell = bb(spectrum_df['Energy'])\n",
    "spectrum_df['EQE-from-EL'] = spectrum_df['photonFlux_norm']/bbcell['Phi']    "
   ]
  },
  {
   "cell_type": "code",
   "execution_count": 38,
   "metadata": {},
   "outputs": [
    {
     "name": "stdout",
     "output_type": "stream",
     "text": [
      "9.297920810791874e-07\n",
      "9.617426296647404e-07\n",
      "1.3581531350123615e-05\n"
     ]
    },
    {
     "data": {
      "image/png": "[encoded data removed]",
      "text/plain": [
       "<Figure size 432x288 with 1 Axes>"
      ]
     },
     "metadata": {
      "needs_background": "light"
     },
     "output_type": "display_data"
    },
    {
     "data": {
      "image/png": "[encoded data removed]",
      "text/plain": [
       "<Figure size 432x288 with 1 Axes>"
      ]
     },
     "metadata": {
      "needs_background": "light"
     },
     "output_type": "display_data"
    },
    {
     "data": {
      "image/png": "[encoded data removed]",
      "text/plain": [
       "<Figure size 432x288 with 1 Axes>"
      ]
     },
     "metadata": {
      "needs_background": "light"
     },
     "output_type": "display_data"
    }
   ],
   "source": [
    "#Y6/ZnPc\n",
    "#binFile = r'C:\\Users\\pasca\\OneDrive - Nexus365\\Post\\data\\PK210512_NFAbilayer-7\\EL\\bins_EL-A5.csv'\n",
    "#Y6/F4ZnPc\n",
    "binFile = r'C:\\Users\\pasca\\OneDrive - Nexus365\\Post\\data\\PK210408_NFAbilayer-3\\EL\\bins_EL-D1.csv'\n",
    "df = pd.read_csv(binFile, sep = ',') #uses .csv headers as column labels    \n",
    "\n",
    "E_scale = 1.25\n",
    "EQEvals = np.zeros((len(df.index),1))\n",
    "\n",
    "#row = df.loc[1]\n",
    "#for row in df.loc[0]:\n",
    "for ind, row in df.iterrows():\n",
    "    file = row['folder'] + '\\\\' + row['file']\n",
    "    spectrum_df = read_data(file, row['type'], row['fac'])\n",
    "    \n",
    "    \n",
    "    ind_scale = (np.abs(spectrum_df['Energy']-E_scale)).argmin()\n",
    "    if row['type'].lower()=='el':    \n",
    "        EQEvals[ind] = spectrum_df.loc[ind_scale,'EQE-from-EL']\n",
    "        print(spectrum_df.loc[ind_scale,'EQE-from-EL'])\n",
    "    elif row['type'].lower()=='eqe':\n",
    "        EQEvals[ind] = spectrum_df.loc[ind_scale,'EQE']\n",
    "        print(spectrum_df.loc[ind_scale,'EQE'])\n",
    "    \n",
    "    plt.figure(1)\n",
    "    #plt.plot(spectrum_df['Energy'],spectrum_df['photonFlux_norm'])\n",
    "    if row['type'].lower()=='el':\n",
    "        \n",
    "        \n",
    "        plt.semilogy(spectrum_df['Energy'],spectrum_df['photonFlux_norm'])\n",
    "        plt.xlim([1.15,1.55])\n",
    "        plt.ylim([1e-3,2])\n",
    "        \n",
    "    plt.figure(2)\n",
    "    #plt.plot(spectrum_df['Energy'],spectrum_df['photonFlux_norm'])\n",
    "    if row['type'].lower()=='el':\n",
    "        plt.semilogy(spectrum_df['Energy'],spectrum_df['EQE-from-EL'])\n",
    "    \n",
    "    elif row['type'].lower()=='eqe':\n",
    "        plt.semilogy(spectrum_df['Energy'],spectrum_df['EQE'])\n",
    "    plt.xlim([1.15,1.55])\n",
    "    plt.ylim([1e-8,2])\n",
    "    \n",
    "    plt.figure(3)\n",
    "    if row['type'].lower()=='el':\n",
    "        plt.plot(spectrum_df['Energy'],spectrum_df['photonFlux_norm'])\n",
    "        plt.xlim([1.15,1.55])\n",
    "        plt.ylim([0,1.1])\n",
    "    \n",
    "    "
   ]
  },
  {
   "cell_type": "code",
   "execution_count": 28,
   "metadata": {},
   "outputs": [
    {
     "data": {
      "text/plain": [
       "array([], shape=(6, 0), dtype=float64)"
      ]
     },
     "execution_count": 28,
     "metadata": {},
     "output_type": "execute_result"
    }
   ],
   "source": [
    "EQEvals"
   ]
  },
  {
   "cell_type": "code",
   "execution_count": 29,
   "metadata": {},
   "outputs": [
    {
     "data": {
      "text/plain": [
       "126"
      ]
     },
     "execution_count": 29,
     "metadata": {},
     "output_type": "execute_result"
    }
   ],
   "source": [
    "ind_scale"
   ]
  },
  {
   "cell_type": "code",
   "execution_count": 24,
   "metadata": {},
   "outputs": [
    {
     "data": {
      "text/html": [
       "<div>\n",
       "<style scoped>\n",
       "    .dataframe tbody tr th:only-of-type {\n",
       "        vertical-align: middle;\n",
       "    }\n",
       "\n",
       "    .dataframe tbody tr th {\n",
       "        vertical-align: top;\n",
       "    }\n",
       "\n",
       "    .dataframe thead th {\n",
       "        text-align: right;\n",
       "    }\n",
       "</style>\n",
       "<table border=\"1\" class=\"dataframe\">\n",
       "  <thead>\n",
       "    <tr style=\"text-align: right;\">\n",
       "      <th></th>\n",
       "      <th>Energy</th>\n",
       "      <th>EQE</th>\n",
       "    </tr>\n",
       "  </thead>\n",
       "  <tbody>\n",
       "    <tr>\n",
       "      <th>0</th>\n",
       "      <td>3.444435</td>\n",
       "      <td>3.090713e-02</td>\n",
       "    </tr>\n",
       "    <tr>\n",
       "      <th>1</th>\n",
       "      <td>3.397251</td>\n",
       "      <td>3.134516e-02</td>\n",
       "    </tr>\n",
       "    <tr>\n",
       "      <th>2</th>\n",
       "      <td>3.351343</td>\n",
       "      <td>3.122426e-02</td>\n",
       "    </tr>\n",
       "    <tr>\n",
       "      <th>3</th>\n",
       "      <td>3.306658</td>\n",
       "      <td>3.147888e-02</td>\n",
       "    </tr>\n",
       "    <tr>\n",
       "      <th>4</th>\n",
       "      <td>3.263149</td>\n",
       "      <td>3.083204e-02</td>\n",
       "    </tr>\n",
       "    <tr>\n",
       "      <th>...</th>\n",
       "      <td>...</td>\n",
       "      <td>...</td>\n",
       "    </tr>\n",
       "    <tr>\n",
       "      <th>164</th>\n",
       "      <td>1.050845</td>\n",
       "      <td>6.715257e-08</td>\n",
       "    </tr>\n",
       "    <tr>\n",
       "      <th>165</th>\n",
       "      <td>1.046411</td>\n",
       "      <td>8.071920e-08</td>\n",
       "    </tr>\n",
       "    <tr>\n",
       "      <th>166</th>\n",
       "      <td>1.042014</td>\n",
       "      <td>1.338380e-07</td>\n",
       "    </tr>\n",
       "    <tr>\n",
       "      <th>167</th>\n",
       "      <td>1.037654</td>\n",
       "      <td>1.320412e-07</td>\n",
       "    </tr>\n",
       "    <tr>\n",
       "      <th>168</th>\n",
       "      <td>1.033331</td>\n",
       "      <td>1.229708e-07</td>\n",
       "    </tr>\n",
       "  </tbody>\n",
       "</table>\n",
       "<p>169 rows × 2 columns</p>\n",
       "</div>"
      ],
      "text/plain": [
       "       Energy           EQE\n",
       "0    3.444435  3.090713e-02\n",
       "1    3.397251  3.134516e-02\n",
       "2    3.351343  3.122426e-02\n",
       "3    3.306658  3.147888e-02\n",
       "4    3.263149  3.083204e-02\n",
       "..        ...           ...\n",
       "164  1.050845  6.715257e-08\n",
       "165  1.046411  8.071920e-08\n",
       "166  1.042014  1.338380e-07\n",
       "167  1.037654  1.320412e-07\n",
       "168  1.033331  1.229708e-07\n",
       "\n",
       "[169 rows x 2 columns]"
      ]
     },
     "execution_count": 24,
     "metadata": {},
     "output_type": "execute_result"
    }
   ],
   "source": [
    "\n",
    "spectrum_df"
   ]
  },
  {
   "cell_type": "code",
   "execution_count": 25,
   "metadata": {},
   "outputs": [
    {
     "data": {
      "text/plain": [
       "(0.001, 2.0)"
      ]
     },
     "execution_count": 25,
     "metadata": {},
     "output_type": "execute_result"
    },
    {
     "data": {
      "image/png": "[encoded data removed]",
      "text/plain": [
       "<Figure size 432x288 with 1 Axes>"
      ]
     },
     "metadata": {
      "needs_background": "light"
     },
     "output_type": "display_data"
    }
   ],
   "source": []
  },
  {
   "cell_type": "code",
   "execution_count": null,
   "metadata": {},
   "outputs": [],
   "source": [
    "##include: plot multiple EL files\n",
    "\n",
    "#use calibration-corrected data for EL &sEQE\n",
    "EL_scaling = 300\n",
    "E_EL_min = np.nan\n",
    "E_EL_max = 1.5\n",
    "\n",
    "file_EL = 'PK210325_NFAbilayer/EL/data/Corrected_Files/A5_01_1V_5x30s.spm'\n",
    "EL_data = pd.read_csv(file_EL, names=('no.', 'Wavelength', 'Signal'), header =1)\n",
    "EL = convert_to_photon_flux(EL_data['Wavelength'],EL_data['Signal'])\n",
    "EL = select_energy_range(EL, E_EL_min, E_EL_max)\n",
    "\n",
    "# read sEQE data: returns dataFrame, ascending in energy with index values starting at 0 (for intuitive calling)\n",
    "file_sEQE = 'PK210325_NFAbilayer/sEQE/A5_Y6-ZnPc'\n",
    "sEQE_data = pd.read_csv(file_sEQE).iloc[::-1]# flip so df is ascending in energy\n",
    "sEQE_data = sEQE_data.set_index(pd.Index(range(len(sEQE_data))))# change index values to begin at 0 \n",
    "\n",
    "#test scaling\n",
    "EQE_EL = EL_scaling * EL['photonFlux_norm'] / bb(EL['Energy'])['Phi']\n",
    "plt.semilogy(sEQE_data['Energy'],sEQE_data['EQE'])\n",
    "plt.semilogy(EL['Energy'],EL['photonFlux_norm']) #plot normalized EL spectrum with EQE \n",
    "plt.semilogy(EL['Energy'],EQE_EL)"
   ]
  },
  {
   "cell_type": "code",
   "execution_count": null,
   "metadata": {},
   "outputs": [],
   "source": [
    "meas=pd.DataFrame()\n",
    "meas['files'] = ['file1', 'file2','file3']\n",
    "meas['V'] = [0.5, 1, 1.5]\n",
    "a = np.array([5, 6, 7])\n",
    "#meas['data'] = [a]\n",
    "meas['V'].loc[0] = 0.2\n",
    "#b = meas['V']\n",
    "\n",
    "#a = [0.5, 1, 1.5]\n",
    "#print(a)\n",
    "#print(type(a))\n",
    "#print(b)\n",
    "#print(type(b))\n",
    "#cc = np.array([0.5, 1, 1.5])\n",
    "#meas['V'][0] = cc\n",
    "#meas['V']\n"
   ]
  }
 ],
 "metadata": {
  "kernelspec": {
   "display_name": "Python 3",
   "language": "python",
   "name": "python3"
  },
  "language_info": {
   "codemirror_mode": {
    "name": "ipython",
    "version": 3
   },
   "file_extension": ".py",
   "mimetype": "text/x-python",
   "name": "python",
   "nbconvert_exporter": "python",
   "pygments_lexer": "ipython3",
   "version": "3.7.9"
  }
 },
 "nbformat": 4,
 "nbformat_minor": 2
}
