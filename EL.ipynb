{
 "cells": [
  {
   "cell_type": "code",
   "execution_count": null,
   "metadata": {},
   "outputs": [],
   "source": [
    "import math\n",
    "import pandas as pd\n",
    "import numpy as np\n",
    "import matplotlib.pyplot as plt\n",
    "import os\n",
    "from scipy.optimize import curve_fit\n",
    "from scipy import integrate as ig"
   ]
  },
  {
   "cell_type": "markdown",
   "metadata": {},
   "source": [
    "### Parameters"
   ]
  },
  {
   "cell_type": "code",
   "execution_count": null,
   "metadata": {},
   "outputs": [],
   "source": [
    "T = 293 # [K] ambient & cell temperature\n",
    "h = 6.626 * 10**(-34) # [kgm^2/s]\n",
    "h_2 = 4.1357*10**(-15) # eV s\n",
    "c = 2.998 * 10**(8) # [m/s]\n",
    "k = 1.3806 * 10**(-23) # [kgm^2/s^2K]\n",
    "k_2 = 8.6173*10**(-5) # eV / K\n",
    "q = 1.60217662 * 10**(-19) # [C]\n",
    "q_eV = 1 \n",
    "Vth = k_2*T/q_eV#thermal voltage [V]"
   ]
  },
  {
   "cell_type": "markdown",
   "metadata": {},
   "source": [
    "### EL conversion functions\n",
    "##### This could be included in the sEQE analysis and electroluminescence script"
   ]
  },
  {
   "cell_type": "code",
   "execution_count": null,
   "metadata": {},
   "outputs": [],
   "source": [
    "#converts spectrometer data (e.g. electroluminescence data) recorded as power flux vs wavenlength into photon flux vs energy\n",
    "#input: (relative) spectrum [nm, ~W/nm] after calibration correction, for example EL\n",
    "#output: dataframe with relative spectrum [eV, ~photons/(eVs)], ascending energies, index starting at 0\n",
    "def convert_to_photon_flux(wavelength,power_flux):\n",
    "    EE = h_2*c/q_eV / (wavelength*1e-9) #energy [eV]\n",
    "    # conversion from [mW/(m^2nm)] to [photon number/(cm^2eVs)]; \n",
    "    # depending on input units prefactors would change\n",
    "    # since often spectra are later normalized, all prefactors could be omitted and the input simply divided by E^3\n",
    "    power_flux_pref = power_flux * 1e-3*1e-4*1e9 * h_2*c/q_eV# factor converting unit prefactors to output unit prefactors. 1e-3:mW-->W; 1e-4:m^2-->cm^2;   1e9:1/nm-->1/m; \n",
    "    photon_flux = power_flux_pref * h_2*c/q_eV * 1/(q*EE**3) # 1/q: W -->eV; 1/E: eV --> photon number; dLambda =hc/q*E^-2dE        \n",
    "    \n",
    "    spectrum = pd.DataFrame()\n",
    "    spectrum['Energy'] = EE\n",
    "    spectrum['photonFlux'] = photon_flux\n",
    "    spectrum['photonFlux_norm'] = norm_spectrum(photon_flux)\n",
    "    if spectrum['Energy'][0] > spectrum['Energy'].iloc[-1]:# convert to ascending energies\n",
    "        spectrum = spectrum.iloc[::-1]\n",
    "        spectrum = spectrum.set_index(pd.Index(range(len(spectrum))))# change index values to begin at 0 \n",
    "    return spectrum    "
   ]
  },
  {
   "cell_type": "code",
   "execution_count": null,
   "metadata": {},
   "outputs": [],
   "source": [
    "# normalizes spectrum to maximum. Note: max might be influenced by noise\n",
    "def norm_spectrum(spec):\n",
    "    spec_norm = spec / np.max(spec)\n",
    "    return spec_norm"
   ]
  },
  {
   "cell_type": "code",
   "execution_count": null,
   "metadata": {},
   "outputs": [],
   "source": [
    "# input: dataFrame with column 'Energy'\n",
    "#return df slice\n",
    "def select_energy_range(df, E_min = np.nan, E_max = np.nan):\n",
    "    if np.isnan(E_min):\n",
    "        E_min = np.amin(df['Energy'])\n",
    "    if np.isnan(E_max):\n",
    "        E_min = np.amax(df['Energy'])\n",
    "    ind_sel = (df['Energy'] >= E_min) & (df['Energy'] <= E_max)\n",
    "    df_slice = df[ind_sel]\n",
    "    return df_slice"
   ]
  },
  {
   "cell_type": "markdown",
   "metadata": {},
   "source": [
    "### Test code"
   ]
  },
  {
   "cell_type": "code",
   "execution_count": null,
   "metadata": {},
   "outputs": [],
   "source": [
    "codePath = os.getcwd()#only makes sense after kernel restart\n",
    "codePath"
   ]
  },
  {
   "cell_type": "code",
   "execution_count": null,
   "metadata": {},
   "outputs": [],
   "source": [
    "os.chdir('C:/Users/pasca/OneDrive - Nexus365/Post/data/')#/home/jungbluth/Desktop/\n",
    "os.getcwd()"
   ]
  },
  {
   "cell_type": "markdown",
   "metadata": {},
   "source": [
    "#### EL test and stitching"
   ]
  },
  {
   "cell_type": "code",
   "execution_count": null,
   "metadata": {},
   "outputs": [],
   "source": [
    "##include: plot multiple EL files\n",
    "\n",
    "#use calibration-corrected data for EL &sEQE\n",
    "EL_scaling = 300\n",
    "E_EL_min = np.nan\n",
    "E_EL_max = 1.5\n",
    "\n",
    "file_EL = 'PK210325_NFAbilayer/EL/data/Corrected_Files/A5_01_1V_5x30s.spm'\n",
    "EL_data = pd.read_csv(file_EL, names=('no.', 'Wavelength', 'Signal'), header =1)\n",
    "EL = convert_to_photon_flux(EL_data['Wavelength'],EL_data['Signal'])\n",
    "EL = select_energy_range(EL, E_EL_min, E_EL_max)\n",
    "\n",
    "# read sEQE data: returns dataFrame, ascending in energy with index values starting at 0 (for intuitive calling)\n",
    "file_sEQE = 'PK210325_NFAbilayer/sEQE/A5_Y6-ZnPc'\n",
    "sEQE_data = pd.read_csv(file_sEQE).iloc[::-1]# flip so df is ascending in energy\n",
    "sEQE_data = sEQE_data.set_index(pd.Index(range(len(sEQE_data))))# change index values to begin at 0 \n",
    "\n",
    "#test scaling\n",
    "EQE_EL = EL_scaling * EL['photonFlux_norm'] / bb(EL['Energy'])['Phi']\n",
    "plt.semilogy(sEQE_data['Energy'],sEQE_data['EQE'])\n",
    "plt.semilogy(EL['Energy'],EL['photonFlux_norm']) #plot normalized EL spectrum with EQE \n",
    "plt.semilogy(EL['Energy'],EQE_EL)"
   ]
  },
  {
   "cell_type": "code",
   "execution_count": null,
   "metadata": {},
   "outputs": [],
   "source": [
    "meas=pd.DataFrame()\n",
    "meas['files'] = ['file1', 'file2','file3']\n",
    "meas['V'] = [0.5, 1, 1.5]\n",
    "a = np.array([5, 6, 7])\n",
    "#meas['data'] = [a]\n",
    "meas['V'].loc[0] = 0.2\n",
    "#b = meas['V']\n",
    "\n",
    "#a = [0.5, 1, 1.5]\n",
    "#print(a)\n",
    "#print(type(a))\n",
    "#print(b)\n",
    "#print(type(b))\n",
    "#cc = np.array([0.5, 1, 1.5])\n",
    "#meas['V'][0] = cc\n",
    "#meas['V']\n"
   ]
  }
 ],
 "metadata": {
  "kernelspec": {
   "display_name": "Python 3",
   "language": "python",
   "name": "python3"
  },
  "language_info": {
   "codemirror_mode": {
    "name": "ipython",
    "version": 3
   },
   "file_extension": ".py",
   "mimetype": "text/x-python",
   "name": "python",
   "nbconvert_exporter": "python",
   "pygments_lexer": "ipython3",
   "version": "3.7.9"
  }
 },
 "nbformat": 4,
 "nbformat_minor": 2
}
