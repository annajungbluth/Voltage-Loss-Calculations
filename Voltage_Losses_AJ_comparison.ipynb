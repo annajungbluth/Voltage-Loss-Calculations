{
 "cells": [
  {
   "cell_type": "code",
   "execution_count": 1,
   "metadata": {},
   "outputs": [],
   "source": [
    "import math\n",
    "import pandas as pd\n",
    "import numpy as np\n",
    "import matplotlib.pyplot as plt\n",
    "import os\n",
    "import json\n",
    "from scipy.optimize import curve_fit\n",
    "from scipy import integrate as ig\n",
    "from functions import J0, J0_rad, SQ, Voc_rad, LED_QE, calculate_summary, Vloss_CT, Vloss_SQ, calculate_Jsc, Voc_CT, Voc\n",
    "from utils import bb, getAM15, linear, set_up_plot\n",
    "from utils_EQE import extend_EQE, Marcus_Gaussian"
   ]
  },
  {
   "cell_type": "code",
   "execution_count": 2,
   "metadata": {},
   "outputs": [
    {
     "data": {
      "text/plain": [
       "'/home/jungbluth/Desktop/git/Voltage-Loss-Calculations'"
      ]
     },
     "execution_count": 2,
     "metadata": {},
     "output_type": "execute_result"
    }
   ],
   "source": [
    "os.getcwd()"
   ]
  },
  {
   "cell_type": "code",
   "execution_count": 3,
   "metadata": {},
   "outputs": [],
   "source": [
    "T = 293 # [K] ambient & cell temperature\n",
    "h = 6.626 * 10**(-34) # [kgm^2/s]\n",
    "h_eV = 4.1357*10**(-15) # eV s\n",
    "c = 2.998 * 10**(8) # [m/s]\n",
    "k = 1.3806 * 10**(-23) # [kgm^2/s^2K]\n",
    "k_eV = 8.6173*10**(-5) # eV / K\n",
    "q = 1.60217662 * 10**(-19) # [C]\n",
    "q_eV = 1\n",
    "Vth = k_eV*T/q_eV # thermal voltage [eV]"
   ]
  },
  {
   "cell_type": "markdown",
   "metadata": {},
   "source": [
    "### Import sEQE Data"
   ]
  },
  {
   "cell_type": "markdown",
   "metadata": {},
   "source": [
    "#### (Replace and read in from file !!!)"
   ]
  },
  {
   "cell_type": "code",
   "execution_count": 4,
   "metadata": {},
   "outputs": [],
   "source": [
    "ZnPc_5 = pd.read_csv('/home/jungbluth/Desktop/ZnPc_Data/FxZnPc_sEQE/sEQE_analysis/Measurements_RT/DR46_D_5_ZnPc_C60_2')\n",
    "ZnPc_25 = pd.read_csv('/home/jungbluth/Desktop/ZnPc_Data/FxZnPc_sEQE/sEQE_analysis/Measurements_RT/DR45_D_25_ZnPc_C60_5')\n",
    "ZnPc_50 = pd.read_csv('/home/jungbluth/Desktop/ZnPc_Data/FxZnPc_sEQE/sEQE_analysis/Measurements_RT/DR39_C_50_ZnPc_C60_4')\n",
    "ZnPc_75 = pd.read_csv('/home/jungbluth/Desktop/ZnPc_Data/FxZnPc_sEQE/sEQE_analysis/Measurements_RT/DR45_A_75_ZnPc_C60_4')\n",
    "ZnPc_95 = pd.read_csv('/home/jungbluth/Desktop/ZnPc_Data/FxZnPc_sEQE/sEQE_analysis/Measurements_RT/DR61_D_95_ZnPc_C60_5')\n",
    "ZnPc_100 = pd.read_csv('/home/jungbluth/Desktop/ZnPc_Data/FxZnPc_sEQE/sEQE_analysis/Measurements_RT/DR61_A_100_ZnPc_5')"
   ]
  },
  {
   "cell_type": "code",
   "execution_count": 5,
   "metadata": {},
   "outputs": [],
   "source": [
    "F4ZnPc_5 = pd.read_csv('/home/jungbluth/Desktop/ZnPc_Data/FxZnPc_sEQE/sEQE_analysis/Measurements_RT/DR40_B_5_F4ZnPc_C60_2')\n",
    "F4ZnPc_25 = pd.read_csv('/home/jungbluth/Desktop/ZnPc_Data/FxZnPc_sEQE/sEQE_analysis/Measurements_RT/DR41_B_25_F4ZnPc_C60_2')\n",
    "F4ZnPc_50 = pd.read_csv('/home/jungbluth/Desktop/ZnPc_Data/FxZnPc_sEQE/sEQE_analysis/Measurements_RT/DR40_A_50_F4ZnPc_C60_5')\n",
    "#F4ZnPc_75 = pd.read_csv('/home/jungbluth/Desktop/ZnPc_Data/FxZnPc_sEQE/sEQE_analysis/Measurements_RT/DR41_C_75_F4ZnPc_C60_4')\n",
    "F4ZnPc_75 = pd.read_csv('/home/jungbluth/Desktop/ZnPc_Data/FxZnPc_sEQE/sEQE_analysis/Measurements_RT/DR41_A_75_F4ZnPc_C60_5')\n",
    "F4ZnPc_95 = pd.read_csv('/home/jungbluth/Desktop/ZnPc_Data/FxZnPc_sEQE/sEQE_analysis/Measurements_RT/DR66_B_95_F4ZnPc_C60_2')\n",
    "F4ZnPc_100 = pd.read_csv('/home/jungbluth/Desktop/ZnPc_Data/FxZnPc_sEQE/sEQE_analysis/Measurements_RT/DR66_C_100_F4ZnPc_2')"
   ]
  },
  {
   "cell_type": "code",
   "execution_count": 6,
   "metadata": {},
   "outputs": [],
   "source": [
    "# F8ZnPc_5 = pd.read_csv('/home/jungbluth/Desktop/ZnPc_Data/FxZnPc_sEQE/sEQE_analysis/Measurements_RT/DR55_D_5_F8ZnPc_C60_5')\n",
    "F8ZnPc_5 = pd.read_csv('/home/jungbluth/Desktop/ZnPc_Data/FxZnPc_sEQE/sEQE_analysis/Measurements_RT/DR72_D_5_F8ZnPc_C60_1_(0.5TC)')\n",
    "F8ZnPc_25 = pd.read_csv('/home/jungbluth/Desktop/ZnPc_Data/FxZnPc_sEQE/sEQE_analysis/Measurements_RT/DR43_D_25_F8ZnPc_C60_1')\n",
    "F8ZnPc_50 = pd.read_csv('/home/jungbluth/Desktop/ZnPc_Data/FxZnPc_sEQE/sEQE_analysis/Measurements_RT/DR42_C_50_F8ZnPc_C60_7')\n",
    "F8ZnPc_75 = pd.read_csv('/home/jungbluth/Desktop/ZnPc_Data/FxZnPc_sEQE/sEQE_analysis/Measurements_RT/DR43_A_75_F8ZnPc_C60_4')\n",
    "F8ZnPc_95 = pd.read_csv('/home/jungbluth/Desktop/ZnPc_Data/FxZnPc_sEQE/sEQE_analysis/Measurements_RT/DR56_B_95_F8ZnPc_C60_5')\n",
    "F8ZnPc_100 = pd.read_csv('/home/jungbluth/Desktop/ZnPc_Data/FxZnPc_sEQE/sEQE_analysis/Measurements_RT/DR56_C_100_F8ZnPc_8')"
   ]
  },
  {
   "cell_type": "code",
   "execution_count": 7,
   "metadata": {},
   "outputs": [],
   "source": [
    "# F16ZnPc_5 = pd.read_csv('/home/jungbluth/Desktop/ZnPc_Data/FxZnPc_sEQE/sEQE_analysis/Measurements_RT/DR50_A_5_F16ZnPc_C60_5')\n",
    "F16ZnPc_5 = pd.read_csv('/home/jungbluth/Desktop/ZnPc_Data/FxZnPc_sEQE/sEQE_analysis/Measurements_RT/DR71_B_5_F16ZnPc_C60_2 (2)')\n",
    "F16ZnPc_25 = pd.read_csv('/home/jungbluth/Desktop/ZnPc_Data/FxZnPc_sEQE/sEQE_analysis/Measurements_RT/DR44_D_25_F16ZnPc_C60_1')\n",
    "F16ZnPc_50 = pd.read_csv('/home/jungbluth/Desktop/ZnPc_Data/FxZnPc_sEQE/sEQE_analysis/Measurements_RT/DR50_D_50_F16ZnPc_C60_7')\n",
    "F16ZnPc_75 = pd.read_csv('/home/jungbluth/Desktop/ZnPc_Data/FxZnPc_sEQE/sEQE_analysis/Measurements_RT/DR57_C_75_F16ZnPc_C60_7')\n",
    "F16ZnPc_95 = pd.read_csv('/home/jungbluth/Desktop/ZnPc_Data/FxZnPc_sEQE/sEQE_analysis/Measurements_RT/DR58_D_95_F16ZnPc_C60_1')\n",
    "#F16ZnPc_100 = pd.read_csv('/home/jungbluth/Desktop/ZnPc_Data/FxZnPc_sEQE/sEQE_analysis/Measurements_RT/DR58_A_100_F16ZnPc_5')\n",
    "F16ZnPc_100 = pd.read_csv('/home/jungbluth/Desktop/ZnPc_Data/FxZnPc_sEQE/sEQE_analysis/Measurements_RT/DR72_A_100_F16ZnPc_1_(0.5TC)')"
   ]
  },
  {
   "cell_type": "code",
   "execution_count": 8,
   "metadata": {},
   "outputs": [
    {
     "data": {
      "text/html": [
       "<div>\n",
       "<style scoped>\n",
       "    .dataframe tbody tr th:only-of-type {\n",
       "        vertical-align: middle;\n",
       "    }\n",
       "\n",
       "    .dataframe tbody tr th {\n",
       "        vertical-align: top;\n",
       "    }\n",
       "\n",
       "    .dataframe thead th {\n",
       "        text-align: right;\n",
       "    }\n",
       "</style>\n",
       "<table border=\"1\" class=\"dataframe\">\n",
       "  <thead>\n",
       "    <tr style=\"text-align: right;\">\n",
       "      <th></th>\n",
       "      <th>Material</th>\n",
       "      <th>Number</th>\n",
       "      <th>Voc (V)</th>\n",
       "      <th>Err_Voc (V)</th>\n",
       "      <th>Jsc (mA/cm2)</th>\n",
       "      <th>Err_Jsc (mA/cm2)</th>\n",
       "      <th>FF</th>\n",
       "      <th>Err_FF</th>\n",
       "      <th>ECT (eV)</th>\n",
       "      <th>Err_ECT (eV)</th>\n",
       "      <th>...</th>\n",
       "      <th>Err_Eopt (eV)</th>\n",
       "      <th>l_opt (eV)</th>\n",
       "      <th>Err_l_opt (eV)</th>\n",
       "      <th>f_opt (eV2)</th>\n",
       "      <th>Err_f_opt (eV)</th>\n",
       "      <th>T1_exp (eV)</th>\n",
       "      <th>T1_calc (eV)</th>\n",
       "      <th>EQE File</th>\n",
       "      <th>Best_Voc</th>\n",
       "      <th>Best_Jsc</th>\n",
       "    </tr>\n",
       "  </thead>\n",
       "  <tbody>\n",
       "    <tr>\n",
       "      <th>0</th>\n",
       "      <td>ZnPc</td>\n",
       "      <td>19</td>\n",
       "      <td>0.78</td>\n",
       "      <td>0.02</td>\n",
       "      <td>3.56</td>\n",
       "      <td>0.17</td>\n",
       "      <td>0.40</td>\n",
       "      <td>0.01</td>\n",
       "      <td>1.38</td>\n",
       "      <td>0.01</td>\n",
       "      <td>...</td>\n",
       "      <td>0.01</td>\n",
       "      <td>0.135589</td>\n",
       "      <td>NaN</td>\n",
       "      <td>0.032461</td>\n",
       "      <td>NaN</td>\n",
       "      <td>1.13</td>\n",
       "      <td>1.21</td>\n",
       "      <td>DR46_D_5_ZnPc_C60_2</td>\n",
       "      <td>0.76</td>\n",
       "      <td>3.74</td>\n",
       "    </tr>\n",
       "    <tr>\n",
       "      <th>1</th>\n",
       "      <td>F4ZnPc</td>\n",
       "      <td>13</td>\n",
       "      <td>0.89</td>\n",
       "      <td>0.02</td>\n",
       "      <td>3.10</td>\n",
       "      <td>0.17</td>\n",
       "      <td>0.33</td>\n",
       "      <td>0.01</td>\n",
       "      <td>1.45</td>\n",
       "      <td>0.01</td>\n",
       "      <td>...</td>\n",
       "      <td>0.01</td>\n",
       "      <td>0.179000</td>\n",
       "      <td>NaN</td>\n",
       "      <td>0.030680</td>\n",
       "      <td>NaN</td>\n",
       "      <td>1.13</td>\n",
       "      <td>1.20</td>\n",
       "      <td>DR40_B_5_F4ZnPc_C60_2</td>\n",
       "      <td>0.88</td>\n",
       "      <td>3.36</td>\n",
       "    </tr>\n",
       "    <tr>\n",
       "      <th>2</th>\n",
       "      <td>F8ZnPc</td>\n",
       "      <td>12</td>\n",
       "      <td>1.14</td>\n",
       "      <td>0.02</td>\n",
       "      <td>1.02</td>\n",
       "      <td>0.05</td>\n",
       "      <td>0.30</td>\n",
       "      <td>0.01</td>\n",
       "      <td>1.59</td>\n",
       "      <td>0.01</td>\n",
       "      <td>...</td>\n",
       "      <td>0.01</td>\n",
       "      <td>0.098000</td>\n",
       "      <td>NaN</td>\n",
       "      <td>0.001544</td>\n",
       "      <td>NaN</td>\n",
       "      <td>NaN</td>\n",
       "      <td>1.25</td>\n",
       "      <td>DR72_D_5_F8ZnPc_C60_1_(0.5TC)</td>\n",
       "      <td>1.14</td>\n",
       "      <td>1.09</td>\n",
       "    </tr>\n",
       "    <tr>\n",
       "      <th>3</th>\n",
       "      <td>F16ZnPc</td>\n",
       "      <td>15</td>\n",
       "      <td>1.21</td>\n",
       "      <td>0.02</td>\n",
       "      <td>0.82</td>\n",
       "      <td>0.05</td>\n",
       "      <td>0.29</td>\n",
       "      <td>0.01</td>\n",
       "      <td>1.61</td>\n",
       "      <td>0.01</td>\n",
       "      <td>...</td>\n",
       "      <td>0.01</td>\n",
       "      <td>0.035000</td>\n",
       "      <td>NaN</td>\n",
       "      <td>0.000161</td>\n",
       "      <td>NaN</td>\n",
       "      <td>NaN</td>\n",
       "      <td>1.18</td>\n",
       "      <td>DR71_B_5_F16ZnPc_C60_2 (2)</td>\n",
       "      <td>1.24</td>\n",
       "      <td>0.87</td>\n",
       "    </tr>\n",
       "    <tr>\n",
       "      <th>4</th>\n",
       "      <td>C60</td>\n",
       "      <td>11</td>\n",
       "      <td>1.13</td>\n",
       "      <td>0.07</td>\n",
       "      <td>1.08</td>\n",
       "      <td>0.08</td>\n",
       "      <td>0.30</td>\n",
       "      <td>0.01</td>\n",
       "      <td>NaN</td>\n",
       "      <td>NaN</td>\n",
       "      <td>...</td>\n",
       "      <td>NaN</td>\n",
       "      <td>NaN</td>\n",
       "      <td>NaN</td>\n",
       "      <td>NaN</td>\n",
       "      <td>NaN</td>\n",
       "      <td>1.50</td>\n",
       "      <td>NaN</td>\n",
       "      <td>DR39_D_C60_2</td>\n",
       "      <td>1.26</td>\n",
       "      <td>0.99</td>\n",
       "    </tr>\n",
       "  </tbody>\n",
       "</table>\n",
       "<p>5 rows × 25 columns</p>\n",
       "</div>"
      ],
      "text/plain": [
       "  Material  Number  Voc (V)  Err_Voc (V)  Jsc (mA/cm2)  Err_Jsc (mA/cm2)  \\\n",
       "0     ZnPc      19     0.78         0.02          3.56              0.17   \n",
       "1   F4ZnPc      13     0.89         0.02          3.10              0.17   \n",
       "2   F8ZnPc      12     1.14         0.02          1.02              0.05   \n",
       "3  F16ZnPc      15     1.21         0.02          0.82              0.05   \n",
       "4      C60      11     1.13         0.07          1.08              0.08   \n",
       "\n",
       "     FF  Err_FF  ECT (eV)  Err_ECT (eV)    ...     Err_Eopt (eV)  l_opt (eV)  \\\n",
       "0  0.40    0.01      1.38          0.01    ...              0.01    0.135589   \n",
       "1  0.33    0.01      1.45          0.01    ...              0.01    0.179000   \n",
       "2  0.30    0.01      1.59          0.01    ...              0.01    0.098000   \n",
       "3  0.29    0.01      1.61          0.01    ...              0.01    0.035000   \n",
       "4  0.30    0.01       NaN           NaN    ...               NaN         NaN   \n",
       "\n",
       "   Err_l_opt (eV)  f_opt (eV2)  Err_f_opt (eV)  T1_exp (eV)  T1_calc (eV)  \\\n",
       "0             NaN     0.032461             NaN         1.13          1.21   \n",
       "1             NaN     0.030680             NaN         1.13          1.20   \n",
       "2             NaN     0.001544             NaN          NaN          1.25   \n",
       "3             NaN     0.000161             NaN          NaN          1.18   \n",
       "4             NaN          NaN             NaN         1.50           NaN   \n",
       "\n",
       "                        EQE File  Best_Voc  Best_Jsc  \n",
       "0            DR46_D_5_ZnPc_C60_2      0.76      3.74  \n",
       "1          DR40_B_5_F4ZnPc_C60_2      0.88      3.36  \n",
       "2  DR72_D_5_F8ZnPc_C60_1_(0.5TC)      1.14      1.09  \n",
       "3     DR71_B_5_F16ZnPc_C60_2 (2)      1.24      0.87  \n",
       "4                   DR39_D_C60_2      1.26      0.99  \n",
       "\n",
       "[5 rows x 25 columns]"
      ]
     },
     "execution_count": 8,
     "metadata": {},
     "output_type": "execute_result"
    }
   ],
   "source": [
    "parameters = pd.read_excel('/home/jungbluth/Desktop/ZnPc_Data/FxZnPc_Voltage/Voltage_analysis/5_FxZnPc_Summary.xlsx')\n",
    "parameters.head()"
   ]
  },
  {
   "cell_type": "markdown",
   "metadata": {},
   "source": [
    "### Calculate Relevant Parameters"
   ]
  },
  {
   "cell_type": "markdown",
   "metadata": {},
   "source": [
    "#### Pull out relevant parameters"
   ]
  },
  {
   "cell_type": "code",
   "execution_count": 9,
   "metadata": {},
   "outputs": [],
   "source": [
    "columns = parameters['EQE File'][:-1]\n",
    "samples = [ZnPc_5, F4ZnPc_5, F8ZnPc_5, F16ZnPc_5]\n",
    "\n",
    "EIP = [1.75, 1.68, 1.78, 1.71] # from inflection point\n",
    "Voc = parameters['Voc (V)'][:-1]\n",
    "Jsc = parameters['Jsc (mA/cm2)'][:-1]\n",
    "ECT = parameters['ECT (eV)'][:-1]\n",
    "f = parameters['f_CT (eV2)'][:-1]\n",
    "l = parameters['l_CT (eV)'][:-1]"
   ]
  },
  {
   "cell_type": "code",
   "execution_count": 10,
   "metadata": {
    "scrolled": false
   },
   "outputs": [
    {
     "data": {
      "text/html": [
       "<div>\n",
       "<style scoped>\n",
       "    .dataframe tbody tr th:only-of-type {\n",
       "        vertical-align: middle;\n",
       "    }\n",
       "\n",
       "    .dataframe tbody tr th {\n",
       "        vertical-align: top;\n",
       "    }\n",
       "\n",
       "    .dataframe thead th {\n",
       "        text-align: right;\n",
       "    }\n",
       "</style>\n",
       "<table border=\"1\" class=\"dataframe\">\n",
       "  <thead>\n",
       "    <tr style=\"text-align: right;\">\n",
       "      <th></th>\n",
       "      <th>Sample</th>\n",
       "      <th>Voc [V]</th>\n",
       "      <th>ECT [V]</th>\n",
       "      <th>Jsc [mA/cm2]</th>\n",
       "      <th>Voc,SQ [V]</th>\n",
       "      <th>Voc,rad [V]</th>\n",
       "      <th>Delta Voc,SC [V] (Rau)</th>\n",
       "      <th>Delta Voc,rad [V] (Rau)</th>\n",
       "      <th>Delta Voc,nonrad [V] (Rau)</th>\n",
       "      <th>Voc,rad [V] (CT properties)</th>\n",
       "      <th>Delta Voc,rad [V] (CT properties)</th>\n",
       "      <th>Delta Voc,nonrad [V] (CT properties)</th>\n",
       "      <th>LED QE</th>\n",
       "      <th>J0 [mA/cm2]</th>\n",
       "      <th>J0,rad [mA/cm2]</th>\n",
       "      <th>J0 (CT properties) [mA/cm2]</th>\n",
       "    </tr>\n",
       "  </thead>\n",
       "  <tbody>\n",
       "    <tr>\n",
       "      <th>0</th>\n",
       "      <td>DR46_D_5_ZnPc_C60_2</td>\n",
       "      <td>0.78</td>\n",
       "      <td>1.38</td>\n",
       "      <td>3.56</td>\n",
       "      <td>1.473443</td>\n",
       "      <td>1.143944</td>\n",
       "      <td>0.044832</td>\n",
       "      <td>0.284667</td>\n",
       "      <td>0.363944</td>\n",
       "      <td>1.127264</td>\n",
       "      <td>0.252736</td>\n",
       "      <td>0.347264</td>\n",
       "      <td>5.491917e-07</td>\n",
       "      <td>1.363012e-13</td>\n",
       "      <td>7.485547e-20</td>\n",
       "      <td>2.642582e-13</td>\n",
       "    </tr>\n",
       "    <tr>\n",
       "      <th>1</th>\n",
       "      <td>DR40_B_5_F4ZnPc_C60_2</td>\n",
       "      <td>0.89</td>\n",
       "      <td>1.45</td>\n",
       "      <td>3.10</td>\n",
       "      <td>1.406645</td>\n",
       "      <td>1.239143</td>\n",
       "      <td>0.050652</td>\n",
       "      <td>0.116851</td>\n",
       "      <td>0.349143</td>\n",
       "      <td>1.233344</td>\n",
       "      <td>0.216656</td>\n",
       "      <td>0.343344</td>\n",
       "      <td>9.870037e-07</td>\n",
       "      <td>1.521519e-15</td>\n",
       "      <td>1.501744e-21</td>\n",
       "      <td>1.917339e-15</td>\n",
       "    </tr>\n",
       "    <tr>\n",
       "      <th>2</th>\n",
       "      <td>DR72_D_5_F8ZnPc_C60_1_(0.5TC)</td>\n",
       "      <td>1.14</td>\n",
       "      <td>1.59</td>\n",
       "      <td>1.02</td>\n",
       "      <td>1.501703</td>\n",
       "      <td>1.386659</td>\n",
       "      <td>0.075308</td>\n",
       "      <td>0.039735</td>\n",
       "      <td>0.246659</td>\n",
       "      <td>1.396065</td>\n",
       "      <td>0.193935</td>\n",
       "      <td>0.256065</td>\n",
       "      <td>5.716851e-05</td>\n",
       "      <td>2.507328e-20</td>\n",
       "      <td>1.433402e-24</td>\n",
       "      <td>1.730546e-20</td>\n",
       "    </tr>\n",
       "    <tr>\n",
       "      <th>3</th>\n",
       "      <td>DR71_B_5_F16ZnPc_C60_2 (2)</td>\n",
       "      <td>1.21</td>\n",
       "      <td>1.61</td>\n",
       "      <td>0.82</td>\n",
       "      <td>1.434923</td>\n",
       "      <td>1.335010</td>\n",
       "      <td>0.083265</td>\n",
       "      <td>0.016648</td>\n",
       "      <td>0.125010</td>\n",
       "      <td>1.436082</td>\n",
       "      <td>0.173918</td>\n",
       "      <td>0.226082</td>\n",
       "      <td>7.074156e-03</td>\n",
       "      <td>1.259910e-21</td>\n",
       "      <td>8.912799e-24</td>\n",
       "      <td>2.304384e-23</td>\n",
       "    </tr>\n",
       "  </tbody>\n",
       "</table>\n",
       "</div>"
      ],
      "text/plain": [
       "                          Sample  Voc [V]  ECT [V]  Jsc [mA/cm2]  Voc,SQ [V]  \\\n",
       "0            DR46_D_5_ZnPc_C60_2     0.78     1.38          3.56    1.473443   \n",
       "1          DR40_B_5_F4ZnPc_C60_2     0.89     1.45          3.10    1.406645   \n",
       "2  DR72_D_5_F8ZnPc_C60_1_(0.5TC)     1.14     1.59          1.02    1.501703   \n",
       "3     DR71_B_5_F16ZnPc_C60_2 (2)     1.21     1.61          0.82    1.434923   \n",
       "\n",
       "   Voc,rad [V]  Delta Voc,SC [V] (Rau)  Delta Voc,rad [V] (Rau)  \\\n",
       "0     1.143944                0.044832                 0.284667   \n",
       "1     1.239143                0.050652                 0.116851   \n",
       "2     1.386659                0.075308                 0.039735   \n",
       "3     1.335010                0.083265                 0.016648   \n",
       "\n",
       "   Delta Voc,nonrad [V] (Rau)  Voc,rad [V] (CT properties)  \\\n",
       "0                    0.363944                     1.127264   \n",
       "1                    0.349143                     1.233344   \n",
       "2                    0.246659                     1.396065   \n",
       "3                    0.125010                     1.436082   \n",
       "\n",
       "   Delta Voc,rad [V] (CT properties)  Delta Voc,nonrad [V] (CT properties)  \\\n",
       "0                           0.252736                              0.347264   \n",
       "1                           0.216656                              0.343344   \n",
       "2                           0.193935                              0.256065   \n",
       "3                           0.173918                              0.226082   \n",
       "\n",
       "         LED QE   J0 [mA/cm2]  J0,rad [mA/cm2]  J0 (CT properties) [mA/cm2]  \n",
       "0  5.491917e-07  1.363012e-13     7.485547e-20                 2.642582e-13  \n",
       "1  9.870037e-07  1.521519e-15     1.501744e-21                 1.917339e-15  \n",
       "2  5.716851e-05  2.507328e-20     1.433402e-24                 1.730546e-20  \n",
       "3  7.074156e-03  1.259910e-21     8.912799e-24                 2.304384e-23  "
      ]
     },
     "execution_count": 10,
     "metadata": {},
     "output_type": "execute_result"
    }
   ],
   "source": [
    "summary = calculate_summary(columns, samples, Voc, Jsc, ECT, EIP, f, l)\n",
    "summary\n",
    "# summary.to_csv('/home/jungbluth/Desktop/Voc_Loss_comparison')"
   ]
  },
  {
   "cell_type": "markdown",
   "metadata": {},
   "source": [
    "### J0 / Voc Test"
   ]
  },
  {
   "cell_type": "markdown",
   "metadata": {},
   "source": [
    "#### Test the full derivation of J0 with only CT fit properties"
   ]
  },
  {
   "cell_type": "code",
   "execution_count": 11,
   "metadata": {},
   "outputs": [],
   "source": [
    "# Limit of saturation current density based on CT properties\n",
    "def J0_CT(EQE_EL, E_CT, l_CT, f_CT):\n",
    "    \"\"\"\n",
    "    Function to calculate the limit of the saturation current density (J0) based on CT properties as defined by Koen Vandewal\n",
    "    :param EQE_EL: LED quantum efficiency (unitless) [float]\n",
    "    :param ECT: CT state energy(eV) [float]\n",
    "    :param l: Reorganization energy (eV) [float]\n",
    "    :param f: Oscillator strength (eV**2) [float]\n",
    "    :return: J0: limit of the saturation current density [float]\n",
    "    \"\"\"\n",
    "    a_CT = (q/(10*EQE_EL))*f_CT/(h_eV**3 * c**2)*np.sqrt(4*np.pi*l_CT*k_eV*T)*np.exp(-(E_CT + l_CT)**2 / (4*l_CT*k_eV*T))\n",
    "    b_CT = (q/(10*EQE_EL))*f_CT/(h_eV**3 * c**2)*2*np.pi*(E_CT-l_CT)*np.exp(-(E_CT/(k_eV*T)))\n",
    "    J0_CT = a_CT + b_CT\n",
    "    \n",
    "    return a_CT, b_CT, J0_CT"
   ]
  },
  {
   "cell_type": "code",
   "execution_count": 12,
   "metadata": {},
   "outputs": [],
   "source": [
    "a_CT_list, b_CT_list, J0_CT_list = J0_CT(summary['LED QE'], parameters['ECT (eV)'][:-1], parameters['l_CT (eV)'][:-1], parameters['f_CT (eV2)'][:-1])"
   ]
  },
  {
   "cell_type": "code",
   "execution_count": 13,
   "metadata": {},
   "outputs": [
    {
     "data": {
      "image/png": "[encoded data removed]",
      "text/plain": [
       "<Figure size 800x500 with 2 Axes>"
      ]
     },
     "metadata": {
      "needs_background": "light"
     },
     "output_type": "display_data"
    }
   ],
   "source": [
    "fontsize = 12\n",
    "markersize = 6\n",
    "\n",
    "values = [0.25, 0.50, 0.75, 1]\n",
    "labels = ['$\\mathregular{ZnPc:C_{60}}$ [5:95]', '$\\mathregular{F_{4}ZnPc:C_{60}}$ [5:95]', '$\\mathregular{F_{8}ZnPc:C_{60}}$ [5:95]', '$\\mathregular{F_{16}ZnPc:C_{60}}$ [5:95]']\n",
    "x_label = ''\n",
    "y_label = 'Saturation current density $\\mathrm{(A/m^2)}$'\n",
    "\n",
    "fig, ax1 = plt.subplots(figsize=(8,5), dpi=100)\n",
    "\n",
    "plt.grid(False)\n",
    "plt.tick_params(labelsize=12)\n",
    "plt.minorticks_on()\n",
    "plt.rcParams['figure.facecolor'] = 'xkcd:white'\n",
    "plt.rcParams['figure.edgecolor'] = 'xkcd:white'\n",
    "ax1.tick_params(labelsize=fontsize, direction='in', axis='both', which='major', length=8, width=2)\n",
    "ax1.tick_params(labelsize=fontsize, direction='in', axis='both', which='minor', length=0, width=2)\n",
    "\n",
    "plt.xlabel(x_label, fontsize=fontsize, fontweight='medium')\n",
    "plt.ylabel(y_label, fontsize=fontsize, fontweight='medium')\n",
    "\n",
    "plt.xticks(values, labels)\n",
    "\n",
    "plt.semilogy(values, J0_CT_list, label='$\\mathrm{J_0 = J_1 + J_2}$', marker='o', markersize=markersize+2, ls='-', linewidth=2, color='grey')\n",
    "plt.semilogy(values, a_CT_list, label='$\\mathrm{J_1}$', marker='d', markersize=markersize, ls='--', linewidth=1, color='grey')\n",
    "plt.semilogy(values, b_CT_list, label='$\\mathrm{J_2}$', marker='*', markersize=markersize, ls='--', linewidth=1, color='#f1c211')\n",
    "\n",
    "plt.legend(fontsize=fontsize, ncol=3, bbox_to_anchor=[0.06, 1])\n",
    "\n",
    "ax2 = ax1.twinx()\n",
    "\n",
    "ax2.plot(values, parameters['ECT (eV)'][:-1], marker='o', markersize=markersize, color='tab:blue', linestyle='dotted')\n",
    "ax2.set_ylabel('CT State Energy (eV)', fontsize=fontsize, fontweight='medium', color='tab:blue')\n",
    "\n",
    "ax2.tick_params(labelsize=fontsize, direction='in', axis='both', which='major', length=8, width=2, labelcolor='tab:blue')\n",
    "ax2.tick_params(labelsize=fontsize, direction='in', axis='both', which='minor', length=0, width=2, labelcolor='tab:blue')\n",
    "\n",
    "ax2.annotate('', xy=(0.75, 1.5), xytext=(0.59, 1.5), arrowprops=dict(arrowstyle=\"->\", color='tab:blue'), fontsize=12, color='grey')\n",
    "\n",
    "plt.savefig('/home/jungbluth/Desktop/J0_contributions.png')"
   ]
  },
  {
   "cell_type": "code",
   "execution_count": 14,
   "metadata": {},
   "outputs": [],
   "source": [
    "a_opt_list, b_opt_list, J0_opt_list = J0_CT(summary['LED QE'], parameters['Eopt (eV)'][:-1], parameters['l_opt (eV)'][:-1], parameters['f_opt (eV2)'][:-1])"
   ]
  },
  {
   "cell_type": "code",
   "execution_count": 15,
   "metadata": {},
   "outputs": [
    {
     "data": {
      "text/plain": [
       "Text(0.6, 1.65, '')"
      ]
     },
     "execution_count": 15,
     "metadata": {},
     "output_type": "execute_result"
    },
    {
     "data": {
      "image/png": "[encoded data removed]",
      "text/plain": [
       "<Figure size 800x500 with 2 Axes>"
      ]
     },
     "metadata": {},
     "output_type": "display_data"
    }
   ],
   "source": [
    "fontsize = 12\n",
    "markersize = 6\n",
    "\n",
    "values = [0.25, 0.50, 0.75, 1]\n",
    "labels = ['$\\mathregular{ZnPc:C_{60}}$ [5:95]', '$\\mathregular{F_{4}ZnPc:C_{60}}$ [5:95]', '$\\mathregular{F_{8}ZnPc:C_{60}}$ [5:95]', '$\\mathregular{F_{16}ZnPc:C_{60}}$ [5:95]']\n",
    "x_label = ''\n",
    "y_label = 'Saturation current density $\\mathrm{(A/m^2)}$'\n",
    "\n",
    "fig, ax1 = plt.subplots(figsize=(8,5), dpi=100)\n",
    "\n",
    "plt.grid(False)\n",
    "plt.tick_params(labelsize=12)\n",
    "plt.minorticks_on()\n",
    "plt.rcParams['figure.facecolor'] = 'xkcd:white'\n",
    "plt.rcParams['figure.edgecolor'] = 'xkcd:white'\n",
    "ax1.tick_params(labelsize=fontsize, direction='in', axis='both', which='major', length=8, width=2)\n",
    "ax1.tick_params(labelsize=fontsize, direction='in', axis='both', which='minor', length=0, width=2)\n",
    "\n",
    "plt.xlabel(x_label, fontsize=fontsize, fontweight='medium')\n",
    "plt.ylabel(y_label, fontsize=fontsize, fontweight='medium')\n",
    "\n",
    "plt.xticks(values, labels)\n",
    "\n",
    "plt.semilogy(values, J0_opt_list, label='$\\mathrm{J_0 = J_1 + J_2}$', marker='o', markersize=markersize+2, ls='-', linewidth=2, color='grey')\n",
    "plt.semilogy(values, a_opt_list, label='$\\mathrm{J_1}$', marker='d', markersize=markersize, ls='--', linewidth=1, color='grey')\n",
    "plt.semilogy(values, b_opt_list, label='$\\mathrm{J_2}$', marker='*', markersize=markersize, ls='--', linewidth=1, color='#f1c211')\n",
    "\n",
    "plt.legend(fontsize=fontsize, ncol=3, bbox_to_anchor=[0.06, 1])\n",
    "\n",
    "ax2 = ax1.twinx()\n",
    "\n",
    "ax2.plot(values, parameters['Eopt (eV)'][:-1], marker='o', markersize=markersize, color='tab:blue', linestyle='dotted')\n",
    "ax2.set_ylabel('S1 Energy (eV)', fontsize=fontsize, fontweight='medium', color='tab:blue')\n",
    "\n",
    "ax2.set_ylim(1.22,1.98)\n",
    "\n",
    "ax2.tick_params(labelsize=fontsize, direction='in', axis='both', which='major', length=8, width=2, labelcolor='tab:blue')\n",
    "ax2.tick_params(labelsize=fontsize, direction='in', axis='both', which='minor', length=0, width=2, labelcolor='tab:blue')\n",
    "\n",
    "ax2.annotate('', xy=(0.75, 1.65), xytext=(0.6, 1.65), arrowprops=dict(arrowstyle=\"->\", color='tab:blue'), fontsize=12, color='grey')\n",
    "\n",
    "# plt.savefig('/home/jungbluth/Desktop/J0_contributions.png')"
   ]
  },
  {
   "cell_type": "markdown",
   "metadata": {},
   "source": [
    "#### Test the full / approximated derivation of J0 with CT and Opt Fit properties"
   ]
  },
  {
   "cell_type": "code",
   "execution_count": 16,
   "metadata": {},
   "outputs": [],
   "source": [
    "# Limit of saturation current density based on CT properties\n",
    "def J0_CT_opt(EQE_EL, E_CT, l_CT, f_CT, E_opt, l_opt, f_opt):\n",
    "    \"\"\"\n",
    "    Function to calculate the limit of the saturation current density (J0) based on CT properties as defined by Koen Vandewal\n",
    "    :param EQE_EL: LED quantum efficiency (unitless) [float]\n",
    "    :param ECT: CT state energy(eV) [float]\n",
    "    :param l: Reorganization energy (eV) [float]\n",
    "    :param f: Oscillator strength (eV**2) [float]\n",
    "    :return: J0: limit of the saturation current density [float]\n",
    "    \"\"\"\n",
    "#     a_CT = np.sqrt(4*np.pi*l_CT*k_eV*T)*np.exp(-(E_CT + l_CT)**2 / (4*l_CT*k_eV*T))\n",
    "    a_CT = 0\n",
    "    b_CT = 2*np.pi*(E_CT-l_CT)*np.exp(-(E_CT/(k_eV*T)))\n",
    "    J0_CT = (q/(10*EQE_EL))*f_CT/(h_eV**3 * c**2)*(a_CT + b_CT)\n",
    "    \n",
    "#     a_opt = np.sqrt(4*np.pi*l_opt*k_eV*T)*np.exp(-(E_opt + l_opt)**2 / (4*l_opt*k_eV*T))\n",
    "    a_opt = 0\n",
    "    b_opt = 2*np.pi*(E_opt-l_opt)*np.exp(-(E_opt/(k_eV*T)))\n",
    "    J0_opt = (q/(10*EQE_EL))*f_opt/(h_eV**3 * c**2)*(a_opt+b_opt)\n",
    "    \n",
    "    J0_sum = J0_CT + J0_opt\n",
    "    \n",
    "    return J0_CT, J0_opt, J0_sum"
   ]
  },
  {
   "cell_type": "code",
   "execution_count": 17,
   "metadata": {},
   "outputs": [],
   "source": [
    "J0_CT_list, J0_opt_list, J0_sum_list = J0_CT_opt(summary['LED QE'], parameters['ECT (eV)'][:-1], parameters['l_CT (eV)'][:-1], parameters['f_CT (eV2)'][:-1], parameters['Eopt (eV)'][:-1], parameters['l_opt (eV)'][:-1], parameters['f_opt (eV2)'][:-1])"
   ]
  },
  {
   "cell_type": "code",
   "execution_count": 18,
   "metadata": {},
   "outputs": [
    {
     "data": {
      "image/png": "[encoded data removed]",
      "text/plain": [
       "<Figure size 800x500 with 2 Axes>"
      ]
     },
     "metadata": {},
     "output_type": "display_data"
    }
   ],
   "source": [
    "fontsize = 12\n",
    "markersize = 6\n",
    "\n",
    "values = [0.25, 0.50, 0.75, 1]\n",
    "labels = ['$\\mathregular{ZnPc:C_{60}}$ [5:95]', '$\\mathregular{F_{4}ZnPc:C_{60}}$ [5:95]', '$\\mathregular{F_{8}ZnPc:C_{60}}$ [5:95]', '$\\mathregular{F_{16}ZnPc:C_{60}}$ [5:95]']\n",
    "x_label = ''\n",
    "y_label = 'Saturation current density $\\mathrm{(A/m^2)}$'\n",
    "\n",
    "fig, ax1 = plt.subplots(figsize=(8,5), dpi=100)\n",
    "\n",
    "plt.grid(False)\n",
    "plt.tick_params(labelsize=12)\n",
    "plt.minorticks_on()\n",
    "plt.rcParams['figure.facecolor'] = 'xkcd:white'\n",
    "plt.rcParams['figure.edgecolor'] = 'xkcd:white'\n",
    "ax1.tick_params(labelsize=fontsize, direction='in', axis='both', which='major', length=8, width=2)\n",
    "ax1.tick_params(labelsize=fontsize, direction='in', axis='both', which='minor', length=0, width=2)\n",
    "\n",
    "plt.xlabel(x_label, fontsize=fontsize, fontweight='medium')\n",
    "plt.ylabel(y_label, fontsize=fontsize, fontweight='medium')\n",
    "\n",
    "plt.xticks(values, labels)\n",
    "\n",
    "plt.semilogy(values, J0_sum_list, label='$\\mathrm{J_0 = J_{0,CT} + J_{0,opt}}$', marker='o', markersize=markersize+2, ls='-', linewidth=2, color='grey')\n",
    "plt.semilogy(values, J0_CT_list, label='$\\mathrm{J_{0,CT}}$', marker='*', markersize=markersize, ls='--', linewidth=1, color='#f1c211')\n",
    "plt.semilogy(values, J0_opt_list, label='$\\mathrm{J_{0,opt}}$', marker='d', markersize=markersize, ls='--', linewidth=1, color='grey')\n",
    "\n",
    "plt.legend(fontsize=fontsize, ncol=3, bbox_to_anchor=[0.85, 1.14])\n",
    "\n",
    "ax2 = ax1.twinx()\n",
    "\n",
    "# ax2.plot(values, parameters['ECT (eV)'][:-1], marker='^', markersize=markersize, color='tab:blue', linestyle='dotted', label='$\\mathrm{E_{CT}}$')\n",
    "# ax2.plot(values, parameters['Eopt (eV)'][:-1], marker='v', markersize=markersize, color='tab:blue', linestyle='dotted', label='$\\mathrm{E_{opt}}$')\n",
    "ax2.plot(values, parameters['Eopt (eV)'][:-1]-parameters['ECT (eV)'][:-1], marker='v', markersize=markersize, color='tab:blue', linestyle='dotted', label='$\\mathrm{E_{opt}} - \\mathrm{E_{CT}}$')\n",
    "ax2.set_ylabel('$\\mathrm{E_{opt}} - \\mathrm{E_{CT}}$ (eV)', fontsize=fontsize, fontweight='medium', color='tab:blue')\n",
    "\n",
    "ax2.set_ylim(0.04,0.34)\n",
    "\n",
    "ax2.tick_params(labelsize=fontsize, direction='in', axis='both', which='major', length=8, width=2, labelcolor='tab:blue')\n",
    "ax2.tick_params(labelsize=fontsize, direction='in', axis='both', which='minor', length=0, width=2, labelcolor='tab:blue')\n",
    "\n",
    "ax2.annotate('', xy=(0.98, 0.12), xytext=(0.87, 0.12), arrowprops=dict(arrowstyle=\"->\", color='tab:blue'), fontsize=12, color='grey')\n",
    "# plt.legend(fontsize=fontsize, ncol=2, bbox_to_anchor=[1.02, 1.14])\n",
    "\n",
    "plt.savefig('/home/jungbluth/Desktop/J0_CT_opt_contributions.png')"
   ]
  },
  {
   "cell_type": "markdown",
   "metadata": {},
   "source": [
    "## Adding optical terms to the equation"
   ]
  },
  {
   "cell_type": "markdown",
   "metadata": {},
   "source": [
    "### Modelled EQE"
   ]
  },
  {
   "cell_type": "code",
   "execution_count": 23,
   "metadata": {},
   "outputs": [],
   "source": [
    "kwargs = {'CT_df':parameters, 'n':0}\n",
    "ZnPc_5_extended = extend_EQE(orig_EQE=ZnPc_5, mode='gaussian', **kwargs)\n",
    "\n",
    "kwargs = {'CT_df':parameters, 'n':1}\n",
    "F4ZnPc_5_extended = extend_EQE(orig_EQE=F4ZnPc_5, mode='gaussian', **kwargs)\n",
    "\n",
    "kwargs = {'CT_df':parameters, 'n':2, 'num':-10}\n",
    "F8ZnPc_5_extended = extend_EQE(orig_EQE=F8ZnPc_5, mode='gaussian', **kwargs)\n",
    "\n",
    "kwargs = {'CT_df':parameters, 'n':3, 'num':-28}\n",
    "F16ZnPc_5_extended = extend_EQE(orig_EQE=F16ZnPc_5, mode='gaussian', **kwargs)"
   ]
  },
  {
   "cell_type": "code",
   "execution_count": 24,
   "metadata": {},
   "outputs": [
    {
     "data": {
      "image/png": "[encoded data removed]",
      "text/plain": [
       "<Figure size 700x500 with 1 Axes>"
      ]
     },
     "metadata": {},
     "output_type": "display_data"
    }
   ],
   "source": [
    "n = 0\n",
    "\n",
    "# Something is wrong with this code\n",
    "# EQE_Fit_df = Marcus_Gaussian(np.arange(0.8, 2.5, 0.05), \n",
    "#                               E_CT = parameters['ECT (eV)'][n], \n",
    "#                               l_CT = parameters['l_CT (eV)'][n],  \n",
    "#                               f_CT = parameters['f_CT (eV2)'][n], \n",
    "#                               E_opt = parameters['Eopt (eV)'][n], \n",
    "#                               l_opt = parameters['l_CT (eV)'][n], \n",
    "#                               f_opt = parameters['f_opt (eV2)'][n], \n",
    "#                               T=295)\n",
    "\n",
    "\n",
    "EQE_Opt_df = pd.read_csv('/home/jungbluth/Desktop/ZnPc_Fits/ZnPc/5_ZnPc/5_ZnPc_Fit_Marcus_Opt')\n",
    "EQE_CT_df = pd.read_csv('/home/jungbluth/Desktop/ZnPc_Fits/ZnPc/5_ZnPc/5_ZnPc_Fit_Marcus_CT_subOpt')\n",
    "\n",
    "fontsize = 12\n",
    "markersize = 6\n",
    "\n",
    "x_label = 'Energy (eV)'\n",
    "y_label = 'EQE (a.u)'\n",
    "\n",
    "fig, ax1 = plt.subplots(figsize=(7,5), dpi=100)\n",
    "\n",
    "plt.grid(False)\n",
    "plt.tick_params(labelsize=12)\n",
    "plt.minorticks_on()\n",
    "plt.rcParams['figure.facecolor'] = 'xkcd:white'\n",
    "plt.rcParams['figure.edgecolor'] = 'xkcd:white'\n",
    "ax1.tick_params(labelsize=fontsize, direction='in', axis='both', which='major', length=8, width=2)\n",
    "ax1.tick_params(labelsize=fontsize, direction='in', axis='both', which='minor', length=0, width=2)\n",
    "\n",
    "plt.xlabel(x_label, fontsize=fontsize, fontweight='medium')\n",
    "plt.ylabel(y_label, fontsize=fontsize, fontweight='medium')\n",
    "\n",
    "plt.semilogy(ZnPc_5_extended['Energy'], ZnPc_5_extended['EQE'], label='$\\mathrm{ZnPc:C_{60}}$ [5:95]', markersize=0, ls='-', linewidth=2, color='tab:blue')\n",
    "plt.semilogy(EQE_CT_df['Energy'], EQE_CT_df['Signal'], label='CT State Fit', markersize=0, ls='--', linewidth=1, color='grey')\n",
    "plt.semilogy(EQE_Opt_df['Energy'], EQE_Opt_df['Signal'], label='$\\mathrm{S_1}$ Fit', markersize=0, ls='dotted', linewidth=1, color='grey')\n",
    "\n",
    "plt.legend(fontsize=fontsize)\n",
    "plt.ylim(10E-5, 1)\n",
    "plt.xlim(1, 3.5)\n",
    "plt.savefig('/home/jungbluth/Desktop/EQE_Marcus_Fit.png')"
   ]
  },
  {
   "cell_type": "markdown",
   "metadata": {},
   "source": [
    "## __Testing the Jsc calculations...__"
   ]
  },
  {
   "cell_type": "code",
   "execution_count": 18,
   "metadata": {},
   "outputs": [
    {
     "name": "stdout",
     "output_type": "stream",
     "text": [
      "Original EQE:  3.2338247230431394\n",
      "Extended EQE:  3.2350843421530944\n"
     ]
    },
    {
     "name": "stderr",
     "output_type": "stream",
     "text": [
      "/home/jungbluth/Desktop/git/Voltage-Loss-Calculations/functions.py:61: IntegrationWarning: The maximum number of subdivisions (50) has been achieved.\n",
      "  If increasing the limit yields no improvement it is advised to analyze \n",
      "  the integrand in order to determine the difficulties.  If the position of a \n",
      "  local difficulty can be determined (singularity, discontinuity) one will \n",
      "  probably gain from splitting up the interval and calling the integrator \n",
      "  on the subranges.  Perhaps a special-purpose integrator should be used.\n",
      "  result = ig.quad(lambda e: q*EQE_intp(e)*AM15_intp(e), min(E), max(E))\n"
     ]
    }
   ],
   "source": [
    "print('Original EQE: ', calculate_Jsc(F4ZnPc_5['Energy'], F4ZnPc_5['EQE']))\n",
    "print('Extended EQE: ', calculate_Jsc(F4ZnPc_5_extended['Energy'], F4ZnPc_5_extended['EQE']))"
   ]
  },
  {
   "cell_type": "markdown",
   "metadata": {},
   "source": [
    "### __Comments__:\n",
    "\n",
    "> ### The difference does not seem to be super big!"
   ]
  },
  {
   "cell_type": "markdown",
   "metadata": {},
   "source": [
    "## __Testing the Voc,rad calculations...__"
   ]
  },
  {
   "cell_type": "code",
   "execution_count": 19,
   "metadata": {},
   "outputs": [],
   "source": [
    "def Voc_rad_from_CT(Jsc, n, df=parameters):\n",
    "    \"\"\"\n",
    "    Function to calculate the Voc,rad from CT properties\n",
    "    :param Jsc: short-circuit current [float]\n",
    "    :param n: number of sample [int]\n",
    "    :param df: dataFrame with CT / Opt fit information [dataFrame]\n",
    "    :return \n",
    "    \"\"\"\n",
    "    \n",
    "    ##### This was wrong: ########################### \n",
    "#     a_CT = k_eV*T/q_eV * np.log((2*np.pi*q)/(10*Jsc*h_eV**3 * c**2) * df['f_CT (eV2)'][n]*(df['ECT (eV)'][n]-df['l_CT (eV)'][n]))\n",
    "#     b_opt = k_eV*T/q_eV * np.log((2*np.pi*q)/(10*Jsc*h_eV**3 * c**2) * df['f_opt (eV2)'][n]*(df['Eopt (eV)'][n]-df['l_opt (eV)'][n])*np.exp(-(df['Eopt (eV)'][n]-df['ECT (eV)'][n])/(k_eV*T)))\n",
    "    ################################################################################################################\n",
    "\n",
    "    a_CT = k_eV*T/q_eV * np.log((2*np.pi*q)/(10*Jsc*h_eV**3 * c**2) * df['f_CT (eV2)'][n]*(df['ECT (eV)'][n]-df['l_CT (eV)'][n]))\n",
    "    b_opt = k_eV*T/q_eV * np.log((2*np.pi*q)/(10*Jsc*h_eV**3 * c**2) * df['f_CT (eV2)'][n]*(df['ECT (eV)'][n]-df['l_CT (eV)'][n]) +  df['f_opt (eV2)'][n]*(df['Eopt (eV)'][n]-df['l_opt (eV)'][n])*np.exp(-(df['Eopt (eV)'][n]-df['ECT (eV)'][n])/(k_eV*T)))\n",
    "        \n",
    "    Voc_rad = df['ECT (eV)'][n] - a_CT\n",
    "    return a_CT, b_opt, Voc_rad"
   ]
  },
  {
   "cell_type": "code",
   "execution_count": 20,
   "metadata": {},
   "outputs": [],
   "source": [
    "# Radiative limit of the open-circuit voltage\n",
    "def Voc_rad_from_EQE(EQE_df, n, df=parameters):\n",
    "    \"\"\"\n",
    "    Function to calculate the radiative limit of the open-circuit voltage\n",
    "    :param EQE_df: dataFrame of EQE values [dataFrame]\n",
    "    :param n: number of sample [int]\n",
    "    :param df: dataFrame with CT / Opt fit information [dataFrame]\n",
    "    :return: Voc_rad: Radiative upper limit of the open-circuit voltage [float]\n",
    "    \"\"\"\n",
    "    \n",
    "    bb_df = bb(EQE_df['Energy'])\n",
    "    j0_rad = J0_rad(EQE_df, bb_df)\n",
    "    \n",
    "    jsc = calculate_Jsc(EQE_df['Energy'], EQE_df['EQE'])\n",
    "    \n",
    "    Voc_rad = k*T/q * math.log((jsc/j0_rad)+1)\n",
    "    \n",
    "    print('Calculated Jsc: ', jsc)\n",
    "    print('J0,rad: ', j0_rad)\n",
    "    print('Ratio: ', (jsc/j0_rad))\n",
    "    print('Voc,rad: ', Voc_rad)\n",
    "    \n",
    "    # Experiment: Opt extension to Vandewal equation\n",
    "    a_CT, b_CT, Voc_rad_CT = Voc_rad_from_CT(jsc, n, df=df)\n",
    "    print('A_CT: ', a_CT)\n",
    "    print('B_Opt: ', b_CT)\n",
    "    print('Voc,rad (CT): ', Voc_rad_CT)\n",
    "    \n",
    "#     # Experiment: Test with original Jsc\n",
    "#     Voc_rad_2 = k*T/q * math.log((df['Jsc (mA/cm2)'][n]/j0_rad)+1)\n",
    "#     print('                    ')\n",
    "#     print('Original Jsc: ', df['Jsc (mA/cm2)'][n])\n",
    "#     print('Ratio: ', (df['Jsc (mA/cm2)'][n]/j0_rad))\n",
    "#     print('Voc,rad: ', Voc_rad_2)\n",
    "#     a_CT, b_CT, Voc_rad_CT = Voc_rad_from_CT(df['Jsc (mA/cm2)'][n], n, df=df)\n",
    "#     print('A_CT: ', a_CT)\n",
    "#     print('B_Opt: ', b_CT)\n",
    "#     print('Voc,rad (CT): ', Voc_rad_CT)\n",
    "    \n",
    "#     Delta_Voc_nonrad = Voc_rad - Voc\n",
    "    return Voc_rad"
   ]
  },
  {
   "cell_type": "code",
   "execution_count": 21,
   "metadata": {},
   "outputs": [
    {
     "name": "stdout",
     "output_type": "stream",
     "text": [
      "---------------------------\n",
      "Extended EQE Spectrum\n",
      "---------------------------\n",
      "Calculated Jsc:  3.816226098852374\n",
      "J0,rad:  1.642677133748058e-19\n",
      "Ratio:  2.323174786115748e+19\n",
      "Voc,rad:  1.1258552362184222\n",
      "A_CT:  0.25098138587451435\n",
      "B_Opt:  0.25098138587493607\n",
      "Voc,rad (CT):  1.1290186141254854\n"
     ]
    }
   ],
   "source": [
    "# print('---------------------------')\n",
    "# print('Standard EQE Spectrum')\n",
    "# print('---------------------------')\n",
    "# Voc_rad_from_EQE(ZnPc_5, n=0);\n",
    "\n",
    "print('---------------------------')\n",
    "print('Extended EQE Spectrum')\n",
    "print('---------------------------')\n",
    "Voc_rad_from_EQE(ZnPc_5_extended, n=0);"
   ]
  },
  {
   "cell_type": "markdown",
   "metadata": {},
   "source": [
    "### __Comments__:\n",
    "\n",
    "> #### The Jsc calculation is not the limiting factos\n",
    "> #### The calculation is limited by J0,rad, which strongly dependes on how far the EQE extends\n",
    "> #### For the calculations of Voc,rad from CT properties, the full Jsc needs to be passed in, rather than the Jsc contribution of the CT / Opt Fit. This is because we assume Jph~Jsc."
   ]
  },
  {
   "cell_type": "markdown",
   "metadata": {},
   "source": [
    "## Compare CT fit approaches & Voltage loss calculations"
   ]
  },
  {
   "cell_type": "code",
   "execution_count": 117,
   "metadata": {},
   "outputs": [
    {
     "data": {
      "text/html": [
       "<div>\n",
       "<style scoped>\n",
       "    .dataframe tbody tr th:only-of-type {\n",
       "        vertical-align: middle;\n",
       "    }\n",
       "\n",
       "    .dataframe tbody tr th {\n",
       "        vertical-align: top;\n",
       "    }\n",
       "\n",
       "    .dataframe thead th {\n",
       "        text-align: right;\n",
       "    }\n",
       "</style>\n",
       "<table border=\"1\" class=\"dataframe\">\n",
       "  <thead>\n",
       "    <tr style=\"text-align: right;\">\n",
       "      <th></th>\n",
       "      <th>Material</th>\n",
       "      <th>Standard</th>\n",
       "      <th>Separate</th>\n",
       "      <th>Sum</th>\n",
       "    </tr>\n",
       "  </thead>\n",
       "  <tbody>\n",
       "    <tr>\n",
       "      <th>0</th>\n",
       "      <td>ZnPc_5</td>\n",
       "      <td>[1.37, 0.175, 0.004183]</td>\n",
       "      <td>[1.37, 0.174, 0.004170]</td>\n",
       "      <td>[1.38, 0.199, 0.004235]</td>\n",
       "    </tr>\n",
       "    <tr>\n",
       "      <th>1</th>\n",
       "      <td>F4ZnPc_5</td>\n",
       "      <td>[1.48, 0.119, 0.003259]</td>\n",
       "      <td>[1.47, 0.202, 0.003218]</td>\n",
       "      <td>[1.45, 0.136, 0.000794]</td>\n",
       "    </tr>\n",
       "    <tr>\n",
       "      <th>2</th>\n",
       "      <td>F8ZnPc_5</td>\n",
       "      <td>NaN</td>\n",
       "      <td>[1.59, 0.083, 0.000036]</td>\n",
       "      <td>[1.59, 0.151, 0.000097]</td>\n",
       "    </tr>\n",
       "  </tbody>\n",
       "</table>\n",
       "</div>"
      ],
      "text/plain": [
       "   Material                 Standard                 Separate  \\\n",
       "0    ZnPc_5  [1.37, 0.175, 0.004183]  [1.37, 0.174, 0.004170]   \n",
       "1  F4ZnPc_5  [1.48, 0.119, 0.003259]  [1.47, 0.202, 0.003218]   \n",
       "2  F8ZnPc_5                      NaN  [1.59, 0.083, 0.000036]   \n",
       "\n",
       "                       Sum  \n",
       "0  [1.38, 0.199, 0.004235]  \n",
       "1  [1.45, 0.136, 0.000794]  \n",
       "2  [1.59, 0.151, 0.000097]  "
      ]
     },
     "execution_count": 117,
     "metadata": {},
     "output_type": "execute_result"
    }
   ],
   "source": [
    "approaches_df = pd.read_excel('/home/jungbluth/Desktop/ZnPc_Data/FxZnPc_Voltage/Voltage_analysis/5_FxZnPc_Approaches.xlsx')\n",
    "approaches_df"
   ]
  },
  {
   "cell_type": "code",
   "execution_count": 145,
   "metadata": {},
   "outputs": [],
   "source": [
    "n = 2\n",
    "column = 'Separate'\n",
    "\n",
    "V_rad, Delta_V_rad_eV, Delta_V_nonrad = Vloss_CT(parameters['Jsc (mA/cm2)'][n], parameters['Voc (V)'][n], json.loads(approaches_df[column][n])[0], json.loads(approaches_df[column][n])[2], json.loads(approaches_df[column][n])[1])"
   ]
  },
  {
   "cell_type": "code",
   "execution_count": 146,
   "metadata": {},
   "outputs": [
    {
     "name": "stdout",
     "output_type": "stream",
     "text": [
      "5 F8ZnPc - Separate Optimization\n",
      "-------------------------------\n",
      "1.4199255361698242\n",
      "0.17007446383017585\n",
      "0.2799255361698243\n"
     ]
    }
   ],
   "source": [
    "print('5 F8ZnPc - Separate Optimization')\n",
    "print('-------------------------------')\n",
    "print(V_rad)\n",
    "print(Delta_V_rad_eV)\n",
    "print(Delta_V_nonrad)"
   ]
  },
  {
   "cell_type": "code",
   "execution_count": 144,
   "metadata": {},
   "outputs": [
    {
     "name": "stdout",
     "output_type": "stream",
     "text": [
      "5 F8ZnPc - Sum Optimization\n",
      "-------------------------------\n",
      "1.3960650314956713\n",
      "0.1939349685043287\n",
      "0.2560650314956714\n"
     ]
    }
   ],
   "source": [
    "print('5 F8ZnPc - Sum Optimization')\n",
    "print('-------------------------------')\n",
    "print(V_rad)\n",
    "print(Delta_V_rad_eV)\n",
    "print(Delta_V_nonrad)"
   ]
  },
  {
   "cell_type": "code",
   "execution_count": 137,
   "metadata": {},
   "outputs": [
    {
     "name": "stdout",
     "output_type": "stream",
     "text": [
      "5 F4ZnPc - Standard Optimization\n",
      "-------------------------------\n",
      "1.2268029116660788\n",
      "0.2531970883339213\n",
      "0.3368029116660788\n"
     ]
    }
   ],
   "source": [
    "print('5 F4ZnPc - Standard Optimization')\n",
    "print('-------------------------------')\n",
    "print(V_rad)\n",
    "print(Delta_V_rad_eV)\n",
    "print(Delta_V_nonrad)"
   ]
  },
  {
   "cell_type": "code",
   "execution_count": 139,
   "metadata": {},
   "outputs": [
    {
     "name": "stdout",
     "output_type": "stream",
     "text": [
      "5 F4ZnPc - Separate Optimization\n",
      "-------------------------------\n",
      "1.2189096425554857\n",
      "0.2510903574445143\n",
      "0.3289096425554857\n"
     ]
    }
   ],
   "source": [
    "print('5 F4ZnPc - Separate Optimization')\n",
    "print('-------------------------------')\n",
    "print(V_rad)\n",
    "print(Delta_V_rad_eV)\n",
    "print(Delta_V_nonrad)"
   ]
  },
  {
   "cell_type": "code",
   "execution_count": 142,
   "metadata": {},
   "outputs": [
    {
     "name": "stdout",
     "output_type": "stream",
     "text": [
      "5 F4ZnPc - Sum Optimization\n",
      "-------------------------------\n",
      "1.2333437238748877\n",
      "0.21665627612511237\n",
      "0.34334372387488765\n"
     ]
    }
   ],
   "source": [
    "print('5 F4ZnPc - Sum Optimization')\n",
    "print('-------------------------------')\n",
    "print(V_rad)\n",
    "print(Delta_V_rad_eV)\n",
    "print(Delta_V_nonrad)"
   ]
  },
  {
   "cell_type": "code",
   "execution_count": 135,
   "metadata": {},
   "outputs": [
    {
     "name": "stdout",
     "output_type": "stream",
     "text": [
      "5 ZnPc - Standard Optimization\n",
      "-------------------------------\n",
      "1.1172781848843505\n",
      "0.2527218151156496\n",
      "0.33727818488435046\n"
     ]
    }
   ],
   "source": [
    "print('5 ZnPc - Standard Optimization')\n",
    "print('-------------------------------')\n",
    "print(V_rad)\n",
    "print(Delta_V_rad_eV)\n",
    "print(Delta_V_nonrad)"
   ]
  },
  {
   "cell_type": "code",
   "execution_count": 132,
   "metadata": {},
   "outputs": [
    {
     "name": "stdout",
     "output_type": "stream",
     "text": [
      "5 ZnPc - Separate Optimization\n",
      "-------------------------------\n",
      "1.1173356556095055\n",
      "0.25266434439049446\n",
      "0.3373356556095055\n"
     ]
    }
   ],
   "source": [
    "print('5 ZnPc - Separate Optimization')\n",
    "print('-------------------------------')\n",
    "print(V_rad)\n",
    "print(Delta_V_rad_eV)\n",
    "print(Delta_V_nonrad)"
   ]
  },
  {
   "cell_type": "code",
   "execution_count": 130,
   "metadata": {},
   "outputs": [
    {
     "name": "stdout",
     "output_type": "stream",
     "text": [
      "5 ZnPc - Sum Optimization\n",
      "-------------------------------\n",
      "1.1272637934478422\n",
      "0.25273620655215767\n",
      "0.3472637934478422\n"
     ]
    }
   ],
   "source": [
    "print('5 ZnPc - Sum Optimization')\n",
    "print('-------------------------------')\n",
    "print(V_rad)\n",
    "print(Delta_V_rad_eV)\n",
    "print(Delta_V_nonrad)"
   ]
  },
  {
   "cell_type": "code",
   "execution_count": 192,
   "metadata": {},
   "outputs": [],
   "source": [
    "def comparison(df, samples=[ZnPc_5, F4ZnPc_5, F8ZnPc_5, F16ZnPc_5]):\n",
    "    \n",
    "    summary = pd.DataFrame()\n",
    "    \n",
    "    J0_rad_list = []\n",
    "    Voc_rad_list = []\n",
    "    Sub_CT_list = []\n",
    "    Sub_opt_list = []\n",
    "    Voc_rad_CT_list = []\n",
    "    Voc_rad_opt_list = []\n",
    "    \n",
    "    for n in range(len(df)):\n",
    "        energy = np.arange(0.4, 2.5, 0.01)\n",
    "        EQE_df = Marcus_Gaussian(energy, df['ECT (eV)'][n], df['l_CT (eV)'][n], df['f_CT (eV2)'][n], df['Eopt (eV)'][n], df['l_opt (eV)'][n], df['f_opt (eV2)'][n], 300)\n",
    "        \n",
    "        orig_EQE_df = samples[n]\n",
    "        \n",
    "        EQE_extended = extend_EQE(energy, orig_EQE_df, EQE_df)\n",
    "\n",
    "        E = EQE_extended['Energy']\n",
    "        bb_df = bb(E)\n",
    "\n",
    "        # Calculate Parameters        \n",
    "        j0_rad = J0_rad_test(EQE_extended['Energy'], EQE_extended['EQE'], bb_df)\n",
    "        \n",
    "        Jsc = df['Jsc (mA/cm2)'][n]\n",
    "        print(Jsc)\n",
    "        Jsc = calculate_Jsc(EQE_extended['Energy'], EQE_extended['EQE'])\n",
    "        print(Jsc)\n",
    "        \n",
    "        voc_rad = Voc_rad(df['Voc (V)'][n], Jsc, j0_rad)[0]\n",
    "        \n",
    "        sub_CT, sub_opt = Voc_CT_opt_test(df['Jsc (mA/cm2)'][n], df['ECT (eV)'][n], df['l_CT (eV)'][n], df['f_CT (eV2)'][n], df['Eopt (eV)'][n], df['l_opt (eV)'][n], df['f_opt (eV2)'][n])\n",
    "        voc_rad_CT = df['ECT (eV)'][n] - sub_CT\n",
    "        voc_rad_opt = df['ECT (eV)'][n] - sub_CT - sub_opt\n",
    "        \n",
    "        J0_rad_list.append(j0_rad)\n",
    "        Voc_rad_list.append(voc_rad)\n",
    "        Sub_CT_list.append(sub_CT)\n",
    "        Sub_opt_list.append(sub_opt)\n",
    "        Voc_rad_CT_list.append(voc_rad_CT)\n",
    "        Voc_rad_opt_list.append(voc_rad_opt)\n",
    "        \n",
    "    summary['J0,rad'] = J0_rad_list\n",
    "    summary['Voc,rad'] = Voc_rad_list\n",
    "    summary['Voc,rad_CT'] = Voc_rad_CT_list\n",
    "    summary['Voc,rad_opt'] = Voc_rad_opt_list\n",
    "    summary['sub,CT'] = Sub_CT_list\n",
    "    summary['sub,opt'] = Sub_opt_list\n",
    "    \n",
    "    return summary"
   ]
  },
  {
   "cell_type": "code",
   "execution_count": 29,
   "metadata": {},
   "outputs": [],
   "source": [
    "def revert_Voc_rad(V_rad, ECT, Jsc,l):\n",
    "    f = (Jsc/10)*(h_eV**3*c**2) /(q*2*math.pi*(ECT-l)*math.exp((ECT-q_eV*V_rad)/(k_eV*T)))\n",
    "#     f = (Jsc/10)*(h**3*c**2) /(q*2*math.pi*(ECT-l)*math.exp((ECT-q*V_rad)/(k*T)))\n",
    "    return f"
   ]
  },
  {
   "cell_type": "code",
   "execution_count": 30,
   "metadata": {},
   "outputs": [
    {
     "data": {
      "text/plain": [
       "1.619567827175709e-13"
      ]
     },
     "execution_count": 30,
     "metadata": {},
     "output_type": "execute_result"
    }
   ],
   "source": [
    "revert_Voc_rad(V_rad = summary['Voc,rad [V]'][0], ECT=summary['ECT [V]'][0], Jsc=summary['Jsc [mA/cm2]'][0], l = parameters['l (eV)'][0])"
   ]
  }
 ],
 "metadata": {
  "kernelspec": {
   "display_name": "Python 3",
   "language": "python",
   "name": "python3"
  },
  "language_info": {
   "codemirror_mode": {
    "name": "ipython",
    "version": 3
   },
   "file_extension": ".py",
   "mimetype": "text/x-python",
   "name": "python",
   "nbconvert_exporter": "python",
   "pygments_lexer": "ipython3",
   "version": "3.6.9"
  }
 },
 "nbformat": 4,
 "nbformat_minor": 2
}
