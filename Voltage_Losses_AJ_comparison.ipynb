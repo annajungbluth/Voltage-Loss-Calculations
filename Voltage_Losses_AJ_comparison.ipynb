{
 "cells": [
  {
   "cell_type": "code",
   "execution_count": 1,
   "metadata": {},
   "outputs": [],
   "source": [
    "import math\n",
    "import pandas as pd\n",
    "import numpy as np\n",
    "import matplotlib.pyplot as plt\n",
    "import os\n",
    "from scipy.optimize import curve_fit\n",
    "from scipy import integrate as ig\n",
    "from scipy.interpolate import interp1d\n",
    "from functions import J0, J0_rad, SQ, Voc_rad, LED_QE, calculate_summary, Vloss_CT, Vloss_SQ\n",
    "from utils import bb, getAM15, linear, set_up_plot"
   ]
  },
  {
   "cell_type": "code",
   "execution_count": 2,
   "metadata": {},
   "outputs": [
    {
     "data": {
      "text/plain": [
       "'/home/jungbluth/Desktop/git/Voltage-Loss-Calculations'"
      ]
     },
     "execution_count": 2,
     "metadata": {},
     "output_type": "execute_result"
    }
   ],
   "source": [
    "os.getcwd()"
   ]
  },
  {
   "cell_type": "code",
   "execution_count": 3,
   "metadata": {},
   "outputs": [],
   "source": [
    "T = 293 # [K] ambient & cell temperature\n",
    "h = 6.626 * 10**(-34) # [kgm^2/s]\n",
    "h_eV = 4.1357*10**(-15) # eV s\n",
    "c = 2.998 * 10**(8) # [m/s]\n",
    "k = 1.3806 * 10**(-23) # [kgm^2/s^2K]\n",
    "k_eV = 8.6173*10**(-5) # eV / K\n",
    "q = 1.60217662 * 10**(-19) # [C]\n",
    "q_eV = 1\n",
    "Vth = k_eV*T/q_eV # thermal voltage [eV]"
   ]
  },
  {
   "cell_type": "markdown",
   "metadata": {},
   "source": [
    "### Import sEQE Data"
   ]
  },
  {
   "cell_type": "markdown",
   "metadata": {},
   "source": [
    "#### (Replace and read in from file !!!)"
   ]
  },
  {
   "cell_type": "code",
   "execution_count": 4,
   "metadata": {},
   "outputs": [],
   "source": [
    "ZnPc_5 = pd.read_csv('/home/jungbluth/Desktop/ZnPc_Data/FxZnPc_sEQE/sEQE_analysis/Measurements_RT/DR46_D_5_ZnPc_C60_2')\n",
    "ZnPc_25 = pd.read_csv('/home/jungbluth/Desktop/ZnPc_Data/FxZnPc_sEQE/sEQE_analysis/Measurements_RT/DR45_D_25_ZnPc_C60_5')\n",
    "ZnPc_50 = pd.read_csv('/home/jungbluth/Desktop/ZnPc_Data/FxZnPc_sEQE/sEQE_analysis/Measurements_RT/DR39_C_50_ZnPc_C60_4')\n",
    "ZnPc_75 = pd.read_csv('/home/jungbluth/Desktop/ZnPc_Data/FxZnPc_sEQE/sEQE_analysis/Measurements_RT/DR45_A_75_ZnPc_C60_4')\n",
    "ZnPc_95 = pd.read_csv('/home/jungbluth/Desktop/ZnPc_Data/FxZnPc_sEQE/sEQE_analysis/Measurements_RT/DR61_D_95_ZnPc_C60_5')\n",
    "ZnPc_100 = pd.read_csv('/home/jungbluth/Desktop/ZnPc_Data/FxZnPc_sEQE/sEQE_analysis/Measurements_RT/DR61_A_100_ZnPc_5')"
   ]
  },
  {
   "cell_type": "code",
   "execution_count": 5,
   "metadata": {},
   "outputs": [],
   "source": [
    "F4ZnPc_5 = pd.read_csv('/home/jungbluth/Desktop/ZnPc_Data/FxZnPc_sEQE/sEQE_analysis/Measurements_RT/DR40_B_5_F4ZnPc_C60_2')\n",
    "F4ZnPc_25 = pd.read_csv('/home/jungbluth/Desktop/ZnPc_Data/FxZnPc_sEQE/sEQE_analysis/Measurements_RT/DR41_B_25_F4ZnPc_C60_2')\n",
    "F4ZnPc_50 = pd.read_csv('/home/jungbluth/Desktop/ZnPc_Data/FxZnPc_sEQE/sEQE_analysis/Measurements_RT/DR40_A_50_F4ZnPc_C60_5')\n",
    "#F4ZnPc_75 = pd.read_csv('/home/jungbluth/Desktop/ZnPc_Data/FxZnPc_sEQE/sEQE_analysis/Measurements_RT/DR41_C_75_F4ZnPc_C60_4')\n",
    "F4ZnPc_75 = pd.read_csv('/home/jungbluth/Desktop/ZnPc_Data/FxZnPc_sEQE/sEQE_analysis/Measurements_RT/DR41_A_75_F4ZnPc_C60_5')\n",
    "F4ZnPc_95 = pd.read_csv('/home/jungbluth/Desktop/ZnPc_Data/FxZnPc_sEQE/sEQE_analysis/Measurements_RT/DR66_B_95_F4ZnPc_C60_2')\n",
    "F4ZnPc_100 = pd.read_csv('/home/jungbluth/Desktop/ZnPc_Data/FxZnPc_sEQE/sEQE_analysis/Measurements_RT/DR66_C_100_F4ZnPc_2')"
   ]
  },
  {
   "cell_type": "code",
   "execution_count": 6,
   "metadata": {},
   "outputs": [],
   "source": [
    "# F8ZnPc_5 = pd.read_csv('/home/jungbluth/Desktop/ZnPc_Data/FxZnPc_sEQE/sEQE_analysis/Measurements_RT/DR55_D_5_F8ZnPc_C60_5')\n",
    "F8ZnPc_5 = pd.read_csv('/home/jungbluth/Desktop/ZnPc_Data/FxZnPc_sEQE/sEQE_analysis/Measurements_RT/DR72_D_5_F8ZnPc_C60_1_(0.5TC)')\n",
    "F8ZnPc_25 = pd.read_csv('/home/jungbluth/Desktop/ZnPc_Data/FxZnPc_sEQE/sEQE_analysis/Measurements_RT/DR43_D_25_F8ZnPc_C60_1')\n",
    "F8ZnPc_50 = pd.read_csv('/home/jungbluth/Desktop/ZnPc_Data/FxZnPc_sEQE/sEQE_analysis/Measurements_RT/DR42_C_50_F8ZnPc_C60_7')\n",
    "F8ZnPc_75 = pd.read_csv('/home/jungbluth/Desktop/ZnPc_Data/FxZnPc_sEQE/sEQE_analysis/Measurements_RT/DR43_A_75_F8ZnPc_C60_4')\n",
    "F8ZnPc_95 = pd.read_csv('/home/jungbluth/Desktop/ZnPc_Data/FxZnPc_sEQE/sEQE_analysis/Measurements_RT/DR56_B_95_F8ZnPc_C60_5')\n",
    "F8ZnPc_100 = pd.read_csv('/home/jungbluth/Desktop/ZnPc_Data/FxZnPc_sEQE/sEQE_analysis/Measurements_RT/DR56_C_100_F8ZnPc_8')"
   ]
  },
  {
   "cell_type": "code",
   "execution_count": 7,
   "metadata": {},
   "outputs": [],
   "source": [
    "# F16ZnPc_5 = pd.read_csv('/home/jungbluth/Desktop/ZnPc_Data/FxZnPc_sEQE/sEQE_analysis/Measurements_RT/DR50_A_5_F16ZnPc_C60_5')\n",
    "F16ZnPc_5 = pd.read_csv('/home/jungbluth/Desktop/ZnPc_Data/FxZnPc_sEQE/sEQE_analysis/Measurements_RT/DR71_B_5_F16ZnPc_C60_2 (2)')\n",
    "F16ZnPc_25 = pd.read_csv('/home/jungbluth/Desktop/ZnPc_Data/FxZnPc_sEQE/sEQE_analysis/Measurements_RT/DR44_D_25_F16ZnPc_C60_1')\n",
    "F16ZnPc_50 = pd.read_csv('/home/jungbluth/Desktop/ZnPc_Data/FxZnPc_sEQE/sEQE_analysis/Measurements_RT/DR50_D_50_F16ZnPc_C60_7')\n",
    "F16ZnPc_75 = pd.read_csv('/home/jungbluth/Desktop/ZnPc_Data/FxZnPc_sEQE/sEQE_analysis/Measurements_RT/DR57_C_75_F16ZnPc_C60_7')\n",
    "F16ZnPc_95 = pd.read_csv('/home/jungbluth/Desktop/ZnPc_Data/FxZnPc_sEQE/sEQE_analysis/Measurements_RT/DR58_D_95_F16ZnPc_C60_1')\n",
    "#F16ZnPc_100 = pd.read_csv('/home/jungbluth/Desktop/ZnPc_Data/FxZnPc_sEQE/sEQE_analysis/Measurements_RT/DR58_A_100_F16ZnPc_5')\n",
    "F16ZnPc_100 = pd.read_csv('/home/jungbluth/Desktop/ZnPc_Data/FxZnPc_sEQE/sEQE_analysis/Measurements_RT/DR72_A_100_F16ZnPc_1_(0.5TC)')"
   ]
  },
  {
   "cell_type": "code",
   "execution_count": 8,
   "metadata": {},
   "outputs": [
    {
     "data": {
      "text/html": [
       "<div>\n",
       "<style scoped>\n",
       "    .dataframe tbody tr th:only-of-type {\n",
       "        vertical-align: middle;\n",
       "    }\n",
       "\n",
       "    .dataframe tbody tr th {\n",
       "        vertical-align: top;\n",
       "    }\n",
       "\n",
       "    .dataframe thead th {\n",
       "        text-align: right;\n",
       "    }\n",
       "</style>\n",
       "<table border=\"1\" class=\"dataframe\">\n",
       "  <thead>\n",
       "    <tr style=\"text-align: right;\">\n",
       "      <th></th>\n",
       "      <th>Material</th>\n",
       "      <th>Number</th>\n",
       "      <th>Voc (V)</th>\n",
       "      <th>Err_Voc (V)</th>\n",
       "      <th>Jsc (mA/cm2)</th>\n",
       "      <th>Err_Jsc (mA/cm2)</th>\n",
       "      <th>FF</th>\n",
       "      <th>Err_FF</th>\n",
       "      <th>ECT (eV)</th>\n",
       "      <th>Err_ECT (eV)</th>\n",
       "      <th>...</th>\n",
       "      <th>Err_Eopt (eV)</th>\n",
       "      <th>l (eV)</th>\n",
       "      <th>Err_l (eV)</th>\n",
       "      <th>f (eV2)</th>\n",
       "      <th>Err_f (eV2)</th>\n",
       "      <th>T1_exp (eV)</th>\n",
       "      <th>T1_calc (eV)</th>\n",
       "      <th>EQE File</th>\n",
       "      <th>Best_Voc</th>\n",
       "      <th>Best_Jsc</th>\n",
       "    </tr>\n",
       "  </thead>\n",
       "  <tbody>\n",
       "    <tr>\n",
       "      <th>0</th>\n",
       "      <td>ZnPc</td>\n",
       "      <td>19</td>\n",
       "      <td>0.78</td>\n",
       "      <td>0.02</td>\n",
       "      <td>3.56</td>\n",
       "      <td>0.17</td>\n",
       "      <td>0.40</td>\n",
       "      <td>0.01</td>\n",
       "      <td>1.38</td>\n",
       "      <td>0.01</td>\n",
       "      <td>...</td>\n",
       "      <td>0.01</td>\n",
       "      <td>0.199</td>\n",
       "      <td>0.01</td>\n",
       "      <td>0.004235</td>\n",
       "      <td>0.001388</td>\n",
       "      <td>1.13</td>\n",
       "      <td>1.21</td>\n",
       "      <td>DR46_D_5_ZnPc_C60_2</td>\n",
       "      <td>0.76</td>\n",
       "      <td>3.74</td>\n",
       "    </tr>\n",
       "    <tr>\n",
       "      <th>1</th>\n",
       "      <td>F4ZnPc</td>\n",
       "      <td>13</td>\n",
       "      <td>0.89</td>\n",
       "      <td>0.02</td>\n",
       "      <td>3.10</td>\n",
       "      <td>0.17</td>\n",
       "      <td>0.33</td>\n",
       "      <td>0.01</td>\n",
       "      <td>1.45</td>\n",
       "      <td>0.01</td>\n",
       "      <td>...</td>\n",
       "      <td>0.01</td>\n",
       "      <td>0.136</td>\n",
       "      <td>0.03</td>\n",
       "      <td>0.000794</td>\n",
       "      <td>0.000506</td>\n",
       "      <td>1.13</td>\n",
       "      <td>1.20</td>\n",
       "      <td>DR40_B_5_F4ZnPc_C60_2</td>\n",
       "      <td>0.88</td>\n",
       "      <td>3.36</td>\n",
       "    </tr>\n",
       "    <tr>\n",
       "      <th>2</th>\n",
       "      <td>F8ZnPc</td>\n",
       "      <td>12</td>\n",
       "      <td>1.14</td>\n",
       "      <td>0.02</td>\n",
       "      <td>1.02</td>\n",
       "      <td>0.05</td>\n",
       "      <td>0.30</td>\n",
       "      <td>0.01</td>\n",
       "      <td>1.59</td>\n",
       "      <td>0.01</td>\n",
       "      <td>...</td>\n",
       "      <td>0.01</td>\n",
       "      <td>0.151</td>\n",
       "      <td>0.01</td>\n",
       "      <td>0.000097</td>\n",
       "      <td>0.000019</td>\n",
       "      <td>NaN</td>\n",
       "      <td>1.25</td>\n",
       "      <td>DR72_D_5_F8ZnPc_C60_1_(0.5TC)</td>\n",
       "      <td>1.14</td>\n",
       "      <td>1.09</td>\n",
       "    </tr>\n",
       "    <tr>\n",
       "      <th>3</th>\n",
       "      <td>F16ZnPc</td>\n",
       "      <td>15</td>\n",
       "      <td>1.21</td>\n",
       "      <td>0.02</td>\n",
       "      <td>0.82</td>\n",
       "      <td>0.05</td>\n",
       "      <td>0.29</td>\n",
       "      <td>0.01</td>\n",
       "      <td>1.61</td>\n",
       "      <td>0.01</td>\n",
       "      <td>...</td>\n",
       "      <td>0.01</td>\n",
       "      <td>0.159</td>\n",
       "      <td>0.01</td>\n",
       "      <td>0.000035</td>\n",
       "      <td>NaN</td>\n",
       "      <td>NaN</td>\n",
       "      <td>1.18</td>\n",
       "      <td>DR71_B_5_F16ZnPc_C60_2 (2)</td>\n",
       "      <td>1.24</td>\n",
       "      <td>0.87</td>\n",
       "    </tr>\n",
       "    <tr>\n",
       "      <th>4</th>\n",
       "      <td>C60</td>\n",
       "      <td>11</td>\n",
       "      <td>1.13</td>\n",
       "      <td>0.07</td>\n",
       "      <td>1.08</td>\n",
       "      <td>0.08</td>\n",
       "      <td>0.30</td>\n",
       "      <td>0.01</td>\n",
       "      <td>NaN</td>\n",
       "      <td>NaN</td>\n",
       "      <td>...</td>\n",
       "      <td>NaN</td>\n",
       "      <td>NaN</td>\n",
       "      <td>NaN</td>\n",
       "      <td>NaN</td>\n",
       "      <td>NaN</td>\n",
       "      <td>1.50</td>\n",
       "      <td>NaN</td>\n",
       "      <td>DR39_D_C60_2</td>\n",
       "      <td>1.26</td>\n",
       "      <td>0.99</td>\n",
       "    </tr>\n",
       "  </tbody>\n",
       "</table>\n",
       "<p>5 rows × 21 columns</p>\n",
       "</div>"
      ],
      "text/plain": [
       "  Material  Number  Voc (V)  Err_Voc (V)  Jsc (mA/cm2)  Err_Jsc (mA/cm2)  \\\n",
       "0     ZnPc      19     0.78         0.02          3.56              0.17   \n",
       "1   F4ZnPc      13     0.89         0.02          3.10              0.17   \n",
       "2   F8ZnPc      12     1.14         0.02          1.02              0.05   \n",
       "3  F16ZnPc      15     1.21         0.02          0.82              0.05   \n",
       "4      C60      11     1.13         0.07          1.08              0.08   \n",
       "\n",
       "     FF  Err_FF  ECT (eV)  Err_ECT (eV)    ...     Err_Eopt (eV)  l (eV)  \\\n",
       "0  0.40    0.01      1.38          0.01    ...              0.01   0.199   \n",
       "1  0.33    0.01      1.45          0.01    ...              0.01   0.136   \n",
       "2  0.30    0.01      1.59          0.01    ...              0.01   0.151   \n",
       "3  0.29    0.01      1.61          0.01    ...              0.01   0.159   \n",
       "4  0.30    0.01       NaN           NaN    ...               NaN     NaN   \n",
       "\n",
       "   Err_l (eV)   f (eV2)  Err_f (eV2)  T1_exp (eV)  T1_calc (eV)  \\\n",
       "0        0.01  0.004235     0.001388         1.13          1.21   \n",
       "1        0.03  0.000794     0.000506         1.13          1.20   \n",
       "2        0.01  0.000097     0.000019          NaN          1.25   \n",
       "3        0.01  0.000035          NaN          NaN          1.18   \n",
       "4         NaN       NaN          NaN         1.50           NaN   \n",
       "\n",
       "                        EQE File Best_Voc  Best_Jsc  \n",
       "0            DR46_D_5_ZnPc_C60_2     0.76      3.74  \n",
       "1          DR40_B_5_F4ZnPc_C60_2     0.88      3.36  \n",
       "2  DR72_D_5_F8ZnPc_C60_1_(0.5TC)     1.14      1.09  \n",
       "3     DR71_B_5_F16ZnPc_C60_2 (2)     1.24      0.87  \n",
       "4                   DR39_D_C60_2     1.26      0.99  \n",
       "\n",
       "[5 rows x 21 columns]"
      ]
     },
     "execution_count": 8,
     "metadata": {},
     "output_type": "execute_result"
    }
   ],
   "source": [
    "parameters = pd.read_excel('/home/jungbluth/Desktop/ZnPc_Data/FxZnPc_Voltage/Voltage_analysis/5_FxZnPc_Summary.xlsx')\n",
    "parameters.head()"
   ]
  },
  {
   "cell_type": "markdown",
   "metadata": {},
   "source": [
    "### Calculate Relevant Parameters"
   ]
  },
  {
   "cell_type": "markdown",
   "metadata": {},
   "source": [
    "#### Pull out relevant parameters"
   ]
  },
  {
   "cell_type": "code",
   "execution_count": 9,
   "metadata": {},
   "outputs": [],
   "source": [
    "columns = parameters['EQE File'][:-1]\n",
    "samples = [ZnPc_5, F4ZnPc_5, F8ZnPc_5, F16ZnPc_5]\n",
    "\n",
    "EIP = [1.75, 1.68, 1.78, 1.71] # from inflection point\n",
    "Voc = parameters['Voc (V)'][:-1]\n",
    "Jsc = parameters['Jsc (mA/cm2)'][:-1]\n",
    "ECT = parameters['ECT (eV)'][:-1]\n",
    "f = parameters['f (eV2)'][:-1]\n",
    "l = parameters['l (eV)'][:-1]"
   ]
  },
  {
   "cell_type": "code",
   "execution_count": 10,
   "metadata": {
    "scrolled": false
   },
   "outputs": [
    {
     "data": {
      "text/html": [
       "<div>\n",
       "<style scoped>\n",
       "    .dataframe tbody tr th:only-of-type {\n",
       "        vertical-align: middle;\n",
       "    }\n",
       "\n",
       "    .dataframe tbody tr th {\n",
       "        vertical-align: top;\n",
       "    }\n",
       "\n",
       "    .dataframe thead th {\n",
       "        text-align: right;\n",
       "    }\n",
       "</style>\n",
       "<table border=\"1\" class=\"dataframe\">\n",
       "  <thead>\n",
       "    <tr style=\"text-align: right;\">\n",
       "      <th></th>\n",
       "      <th>Sample</th>\n",
       "      <th>Voc [V]</th>\n",
       "      <th>ECT [V]</th>\n",
       "      <th>Jsc [mA/cm2]</th>\n",
       "      <th>Voc,SQ [V]</th>\n",
       "      <th>Voc,rad [V]</th>\n",
       "      <th>Delta Voc,SC [V] (Rau)</th>\n",
       "      <th>Delta Voc,rad [V] (Rau)</th>\n",
       "      <th>Delta Voc,nonrad [V] (Rau)</th>\n",
       "      <th>Voc,rad [V] (CT properties)</th>\n",
       "      <th>Delta Voc,rad [V] (CT properties)</th>\n",
       "      <th>LED QE</th>\n",
       "      <th>J0 [mA/cm2]</th>\n",
       "      <th>J0,rad [mA/cm2]</th>\n",
       "      <th>J0 (CT properties) [mA/cm2]</th>\n",
       "    </tr>\n",
       "  </thead>\n",
       "  <tbody>\n",
       "    <tr>\n",
       "      <th>0</th>\n",
       "      <td>DR46_D_5_ZnPc_C60_2</td>\n",
       "      <td>0.78</td>\n",
       "      <td>1.38</td>\n",
       "      <td>3.56</td>\n",
       "      <td>1.473443</td>\n",
       "      <td>1.143944</td>\n",
       "      <td>0.044832</td>\n",
       "      <td>0.284667</td>\n",
       "      <td>0.363944</td>\n",
       "      <td>1.127264</td>\n",
       "      <td>0.252736</td>\n",
       "      <td>5.491917e-07</td>\n",
       "      <td>1.363012e-13</td>\n",
       "      <td>7.485547e-20</td>\n",
       "      <td>2.642582e-13</td>\n",
       "    </tr>\n",
       "    <tr>\n",
       "      <th>1</th>\n",
       "      <td>DR40_B_5_F4ZnPc_C60_2</td>\n",
       "      <td>0.89</td>\n",
       "      <td>1.45</td>\n",
       "      <td>3.10</td>\n",
       "      <td>1.406645</td>\n",
       "      <td>1.239143</td>\n",
       "      <td>0.050652</td>\n",
       "      <td>0.116851</td>\n",
       "      <td>0.349143</td>\n",
       "      <td>1.233344</td>\n",
       "      <td>0.216656</td>\n",
       "      <td>9.870037e-07</td>\n",
       "      <td>1.521519e-15</td>\n",
       "      <td>1.501744e-21</td>\n",
       "      <td>1.917339e-15</td>\n",
       "    </tr>\n",
       "    <tr>\n",
       "      <th>2</th>\n",
       "      <td>DR72_D_5_F8ZnPc_C60_1_(0.5TC)</td>\n",
       "      <td>1.14</td>\n",
       "      <td>1.59</td>\n",
       "      <td>1.02</td>\n",
       "      <td>1.501703</td>\n",
       "      <td>1.386659</td>\n",
       "      <td>0.075308</td>\n",
       "      <td>0.039735</td>\n",
       "      <td>0.246659</td>\n",
       "      <td>1.396065</td>\n",
       "      <td>0.193935</td>\n",
       "      <td>5.716851e-05</td>\n",
       "      <td>2.507328e-20</td>\n",
       "      <td>1.433402e-24</td>\n",
       "      <td>1.730546e-20</td>\n",
       "    </tr>\n",
       "    <tr>\n",
       "      <th>3</th>\n",
       "      <td>DR71_B_5_F16ZnPc_C60_2 (2)</td>\n",
       "      <td>1.21</td>\n",
       "      <td>1.61</td>\n",
       "      <td>0.82</td>\n",
       "      <td>1.434923</td>\n",
       "      <td>1.335010</td>\n",
       "      <td>0.083265</td>\n",
       "      <td>0.016648</td>\n",
       "      <td>0.125010</td>\n",
       "      <td>1.436082</td>\n",
       "      <td>0.173918</td>\n",
       "      <td>7.074156e-03</td>\n",
       "      <td>1.259910e-21</td>\n",
       "      <td>8.912799e-24</td>\n",
       "      <td>2.304384e-23</td>\n",
       "    </tr>\n",
       "  </tbody>\n",
       "</table>\n",
       "</div>"
      ],
      "text/plain": [
       "                          Sample  Voc [V]  ECT [V]  Jsc [mA/cm2]  Voc,SQ [V]  \\\n",
       "0            DR46_D_5_ZnPc_C60_2     0.78     1.38          3.56    1.473443   \n",
       "1          DR40_B_5_F4ZnPc_C60_2     0.89     1.45          3.10    1.406645   \n",
       "2  DR72_D_5_F8ZnPc_C60_1_(0.5TC)     1.14     1.59          1.02    1.501703   \n",
       "3     DR71_B_5_F16ZnPc_C60_2 (2)     1.21     1.61          0.82    1.434923   \n",
       "\n",
       "   Voc,rad [V]  Delta Voc,SC [V] (Rau)  Delta Voc,rad [V] (Rau)  \\\n",
       "0     1.143944                0.044832                 0.284667   \n",
       "1     1.239143                0.050652                 0.116851   \n",
       "2     1.386659                0.075308                 0.039735   \n",
       "3     1.335010                0.083265                 0.016648   \n",
       "\n",
       "   Delta Voc,nonrad [V] (Rau)  Voc,rad [V] (CT properties)  \\\n",
       "0                    0.363944                     1.127264   \n",
       "1                    0.349143                     1.233344   \n",
       "2                    0.246659                     1.396065   \n",
       "3                    0.125010                     1.436082   \n",
       "\n",
       "   Delta Voc,rad [V] (CT properties)        LED QE   J0 [mA/cm2]  \\\n",
       "0                           0.252736  5.491917e-07  1.363012e-13   \n",
       "1                           0.216656  9.870037e-07  1.521519e-15   \n",
       "2                           0.193935  5.716851e-05  2.507328e-20   \n",
       "3                           0.173918  7.074156e-03  1.259910e-21   \n",
       "\n",
       "   J0,rad [mA/cm2]  J0 (CT properties) [mA/cm2]  \n",
       "0     7.485547e-20                 2.642582e-13  \n",
       "1     1.501744e-21                 1.917339e-15  \n",
       "2     1.433402e-24                 1.730546e-20  \n",
       "3     8.912799e-24                 2.304384e-23  "
      ]
     },
     "execution_count": 10,
     "metadata": {},
     "output_type": "execute_result"
    }
   ],
   "source": [
    "summary = calculate_summary(columns, samples, Voc, Jsc, ECT, EIP, f, l)\n",
    "summary\n",
    "# summary.to_csv('/home/jungbluth/Desktop/Voc_Loss_comparison')"
   ]
  },
  {
   "cell_type": "markdown",
   "metadata": {},
   "source": [
    "### Modelled EQE"
   ]
  },
  {
   "cell_type": "code",
   "execution_count": 11,
   "metadata": {},
   "outputs": [],
   "source": [
    "l_CT = 0.199 # [eV]\n",
    "f_CT = 0.004235 # [eV**2]\n",
    "E_CT = 1.383 # [eV]\n",
    "l_opt = 0.136 # [eV]\n",
    "f_opt = 0.032461 # [eV**2]\n",
    "E_opt = 1.675 # [eV]"
   ]
  },
  {
   "cell_type": "code",
   "execution_count": 12,
   "metadata": {},
   "outputs": [],
   "source": [
    "def Marcus_Gaussian(E_, E_CT, l_CT, f_CT, E_opt, l_opt, f_opt, T):\n",
    "    \"\"\"\n",
    "    :param E_: list of energy values [list of floats]\n",
    "    :param ECT: CT state value [float]\n",
    "    :param l: reorganization energy [float]\n",
    "    :param f: Oscillation strength [float]\n",
    "    \"\"\"\n",
    "    gaussian_CT = [f_CT/(E*np.sqrt(4*np.pi*l_CT*k_eV*T))*np.exp(-(E_CT+l_CT-E)**2 / (4*l_CT*k_eV*T)) for E in E_]\n",
    "    gaussian_opt = [f_opt/(E*np.sqrt(4*np.pi*l_opt*k_eV*T))*np.exp(-(E_opt+l_opt-E)**2 / (4*l_opt*k_eV*T)) for E in E_]\n",
    "    gaussian_sum = [f_CT/(E*np.sqrt(4*np.pi*l_CT*k_eV*T))*np.exp(-(E_CT+l_CT-E)**2 / (4*l_CT*k_eV*T)) + f_opt/(E*np.sqrt(4*np.pi*l_opt*k_eV*T))*np.exp(-(E_opt+l_opt-E)**2 / (4*l_opt*k_eV*T)) for E in E_]\n",
    "    \n",
    "    return np.array(gaussian_CT), np.array(gaussian_opt), np.array(gaussian_sum)"
   ]
  },
  {
   "cell_type": "code",
   "execution_count": 13,
   "metadata": {},
   "outputs": [],
   "source": [
    "# energy = ZnPc_5['Energy']\n",
    "energy = np.arange(1, 2.3, 0.01)"
   ]
  },
  {
   "cell_type": "code",
   "execution_count": 14,
   "metadata": {},
   "outputs": [],
   "source": [
    "gaussian_CT, gaussian_opt, gaussian_sum = Marcus_Gaussian(energy, E_CT, l_CT, f_CT, E_opt, l_opt, f_opt, 300)"
   ]
  },
  {
   "cell_type": "code",
   "execution_count": 15,
   "metadata": {},
   "outputs": [
    {
     "data": {
      "text/plain": [
       "(1e-05, 0.8)"
      ]
     },
     "execution_count": 15,
     "metadata": {},
     "output_type": "execute_result"
    },
    {
     "data": {
      "image/png": "[encoded data removed]",
      "text/plain": [
       "<Figure size 432x288 with 1 Axes>"
      ]
     },
     "metadata": {
      "needs_background": "light"
     },
     "output_type": "display_data"
    }
   ],
   "source": [
    "plt.semilogy(energy, gaussian_sum)\n",
    "plt.semilogy(ZnPc_5['Energy'], ZnPc_5['EQE'])\n",
    "plt.ylim(10E-6, 0.8)"
   ]
  },
  {
   "cell_type": "code",
   "execution_count": 16,
   "metadata": {},
   "outputs": [],
   "source": [
    "modelled_df = pd.DataFrame()\n",
    "modelled_df['Energy'] = energy\n",
    "modelled_df['EQE'] = gaussian_sum\n",
    "\n",
    "E = ZnPc_5['Energy']\n",
    "bb_df = bb(energy)"
   ]
  },
  {
   "cell_type": "code",
   "execution_count": 17,
   "metadata": {},
   "outputs": [],
   "source": [
    "# Limit of saturation current density based on CT properties\n",
    "def J0_CT_opt(EQE_EL, E_CT, l_CT, f_CT, E_opt, l_opt, f_opt):\n",
    "    \"\"\"\n",
    "    Function to calculate the limit of the saturation current density (J0) based on CT properties as defined by Koen Vandewal\n",
    "    :param EQE_EL: LED quantum efficiency (unitless) [float]\n",
    "    :param ECT: CT state energy(eV) [float]\n",
    "    :param l: Reorganization energy (eV) [float]\n",
    "    :param f: Oscillator strength (eV**2) [float]\n",
    "    :return: J0: limit of the saturation current density [float]\n",
    "    \"\"\"\n",
    "    a_CT = np.sqrt(4*np.pi*l_CT*k_eV*T)*np.exp(-(E_CT + l_CT)**2 / (4*l_CT*k_eV*T))\n",
    "    a_CT = 0\n",
    "    b_CT = 2*np.pi*(E_CT-l_CT)*np.exp(-(E_CT/(k_eV*T)))\n",
    "    J0_CT = (q/(10*EQE_EL))*f_CT/(h_eV**3 * c**2)*(a_CT + b_CT)\n",
    "    \n",
    "    \n",
    "    a_opt = np.sqrt(4*np.pi*l_opt*k_eV*T)*np.exp(-(E_opt + l_opt)**2 / (4*l_opt*k_eV*T))\n",
    "    a_opt = 0\n",
    "    b_opt = 2*np.pi*(E_opt-l_opt)*np.exp(-(E_opt/(k_eV*T)))\n",
    "    J0_opt = (q/(10*EQE_EL))*f_opt/(h_eV**3 * c**2)*(a_opt+b_opt)\n",
    "    \n",
    "    J0_sum = J0_CT + J0_opt\n",
    "    \n",
    "    return J0_CT, J0_opt, J0_sum"
   ]
  },
  {
   "cell_type": "code",
   "execution_count": 18,
   "metadata": {},
   "outputs": [],
   "source": [
    "J0_rad_standard = J0_rad(modelled_df, bb_df)\n",
    "J0_standard = J0(modelled_df, bb_df, summary['LED QE'][0])\n",
    "J0_CT, J0_opt, J0_sum = J0_CT_opt(summary['LED QE'][0], E_CT, l_CT, f_CT, E_opt, l_opt, f_opt)"
   ]
  },
  {
   "cell_type": "code",
   "execution_count": 19,
   "metadata": {},
   "outputs": [
    {
     "name": "stdout",
     "output_type": "stream",
     "text": [
      "J0,rad:  1.532668937378542e-19\n",
      "J0,standard:  2.7907723389550815e-13\n",
      "J0,CT:  2.3524922861007155e-13\n",
      "J0,opt:  2.224982715136898e-17\n",
      "J0,sum:  2.3527147843722293e-13\n"
     ]
    }
   ],
   "source": [
    "print('J0,rad: ', J0_rad_standard)\n",
    "print('J0,standard: ', J0_standard)\n",
    "print('J0,CT: ', J0_CT)\n",
    "print('J0,opt: ', J0_opt)\n",
    "print('J0,sum: ', J0_sum)"
   ]
  },
  {
   "cell_type": "code",
   "execution_count": 28,
   "metadata": {},
   "outputs": [
    {
     "data": {
      "text/plain": [
       "0.7619309092892448"
      ]
     },
     "execution_count": 28,
     "metadata": {},
     "output_type": "execute_result"
    }
   ],
   "source": [
    "Voc(summary['Jsc [mA/cm2]'][0], J0_standard)"
   ]
  },
  {
   "cell_type": "code",
   "execution_count": 29,
   "metadata": {},
   "outputs": [
    {
     "data": {
      "text/plain": [
       "0.7662444727828206"
      ]
     },
     "execution_count": 29,
     "metadata": {},
     "output_type": "execute_result"
    }
   ],
   "source": [
    "Voc(summary['Jsc [mA/cm2]'][0], J0_CT)"
   ]
  },
  {
   "cell_type": "code",
   "execution_count": 30,
   "metadata": {},
   "outputs": [
    {
     "data": {
      "text/plain": [
       "(1.1301997375428718, 0.25280026245712806)"
      ]
     },
     "execution_count": 30,
     "metadata": {},
     "output_type": "execute_result"
    }
   ],
   "source": [
    "Vloss_CT(summary['Jsc [mA/cm2]'][0], E_CT, f_CT, l_CT)"
   ]
  },
  {
   "cell_type": "code",
   "execution_count": 31,
   "metadata": {},
   "outputs": [],
   "source": [
    "def Voc_CT(EQE_EL, Jsc, ECT, f, l, T=300):\n",
    "    return (ECT/q_eV)+(k_eV*T/q_eV)*np.log((10*Jsc*h_eV**3*c**2)/(f*q*2*np.pi*(ECT-l)))+(k_eV*T)/q_eV * np.log(EQE_EL)"
   ]
  },
  {
   "cell_type": "code",
   "execution_count": 32,
   "metadata": {},
   "outputs": [
    {
     "data": {
      "text/plain": [
       "0.7515096990950365"
      ]
     },
     "execution_count": 32,
     "metadata": {},
     "output_type": "execute_result"
    }
   ],
   "source": [
    "Voc_CT(summary['LED QE'][0], summary['Jsc [mA/cm2]'][0], E_CT, f_CT, l_CT)"
   ]
  },
  {
   "cell_type": "code",
   "execution_count": 33,
   "metadata": {},
   "outputs": [],
   "source": [
    "def Voc_CT_opt_test(EQE_EL, Jsc, E_CT, f_CT, l_CT, E_opt, f_opt, l_opt, T=300):\n",
    "    return (k_eV*T/q_eV)*np.log((10*Jsc*h_eV**3*c**2)/(2*np.pi*q*(f_CT*(E_CT-l_CT)*np.exp(-E_CT/(k_eV*T))+f_opt*(E_opt-l_opt)*np.exp(-E_opt/(k_eV*T))))) + k_eV*T/q_eV * np.log(EQE_EL)"
   ]
  },
  {
   "cell_type": "code",
   "execution_count": 34,
   "metadata": {},
   "outputs": [
    {
     "data": {
      "text/plain": [
       "0.7515064968251479"
      ]
     },
     "execution_count": 34,
     "metadata": {},
     "output_type": "execute_result"
    }
   ],
   "source": [
    "Voc_CT_opt_test(summary['LED QE'][0], summary['Jsc [mA/cm2]'][0], E_CT, f_CT, l_CT, E_opt, f_opt, l_opt)"
   ]
  },
  {
   "cell_type": "code",
   "execution_count": 35,
   "metadata": {},
   "outputs": [
    {
     "data": {
      "text/plain": [
       "(1.1258505712450404, 0.3458505712450404)"
      ]
     },
     "execution_count": 35,
     "metadata": {},
     "output_type": "execute_result"
    }
   ],
   "source": [
    "Voc_rad(summary['Voc [V]'][0],summary['Jsc [mA/cm2]'][0],J0_rad_standard)"
   ]
  },
  {
   "cell_type": "code",
   "execution_count": 91,
   "metadata": {},
   "outputs": [],
   "source": [
    "# Limit of saturation current density\n",
    "def J0_(EQE_df, phi_bb_df, EQE_EL):\n",
    "    \"\"\"\n",
    "    Function to calculate the limit of the saturation current density (J0)\n",
    "    :param EQE_df: dataFrame of EQE spectra, with columns 'Energy' and 'EQE' [dataFrame of floats]\n",
    "    :param phi_bb_df: dataFrame of black-body spectrum, with columns 'Energy' and 'Phi' [dataFrame of floats]\n",
    "    :param EQE_EL: LED quantum efficiency [float]\n",
    "    :return: J0: limit of the saturation current density [float]\n",
    "    \"\"\"\n",
    "    \n",
    "    EQE_intp = interp1d(EQE_df['Energy'].values, EQE_df['EQE'].values)\n",
    "    Phi_intp = interp1d(phi_bb_df['Energy'].values, phi_bb_df['Phi'].values)    \n",
    "\n",
    "    J0_list = []\n",
    "    for n in range(0,len(EQE_df['Energy'])-1):\n",
    "        j0 = (q/EQE_EL)*EQE_df['EQE'][n]*phi_bb_df['Phi'][n]*(EQE_df['Energy'][n+1]-EQE_df['Energy'][n])\n",
    "        J0_list.append(j0) # [A / m^2]\n",
    "        J0 = np.sum(J0_list)/10 # [mA / cm^2]\n",
    "\n",
    "    result = ig.quad(lambda e: (q/EQE_EL)*EQE_intp(e)*Phi_intp(e), min(EQE_df['Energy']), max(EQE_df['Energy']))\n",
    "    J0_integral = result[0]/10 # result[0] = integral result, result[1] = estimate of the absolute error on the result\n",
    "    return J0, J0_integral"
   ]
  },
  {
   "cell_type": "code",
   "execution_count": 26,
   "metadata": {},
   "outputs": [],
   "source": [
    "def Voc(Jsc, J0):\n",
    "    return k_eV*T/q_eV * np.log((Jsc/J0)+1)"
   ]
  },
  {
   "cell_type": "code",
   "execution_count": null,
   "metadata": {},
   "outputs": [],
   "source": []
  },
  {
   "cell_type": "code",
   "execution_count": null,
   "metadata": {},
   "outputs": [],
   "source": []
  },
  {
   "cell_type": "code",
   "execution_count": null,
   "metadata": {},
   "outputs": [],
   "source": []
  },
  {
   "cell_type": "code",
   "execution_count": null,
   "metadata": {},
   "outputs": [],
   "source": []
  },
  {
   "cell_type": "code",
   "execution_count": 29,
   "metadata": {},
   "outputs": [],
   "source": [
    "def revert_Voc_rad(V_rad, ECT, Jsc,l):\n",
    "    f = (Jsc/10)*(h_eV**3*c**2) /(q*2*math.pi*(ECT-l)*math.exp((ECT-q_eV*V_rad)/(k_eV*T)))\n",
    "#     f = (Jsc/10)*(h**3*c**2) /(q*2*math.pi*(ECT-l)*math.exp((ECT-q*V_rad)/(k*T)))\n",
    "    return f"
   ]
  },
  {
   "cell_type": "code",
   "execution_count": 30,
   "metadata": {},
   "outputs": [
    {
     "data": {
      "text/plain": [
       "1.619567827175709e-13"
      ]
     },
     "execution_count": 30,
     "metadata": {},
     "output_type": "execute_result"
    }
   ],
   "source": [
    "revert_Voc_rad(V_rad = summary['Voc,rad [V]'][0], ECT=summary['ECT [V]'][0], Jsc=summary['Jsc [mA/cm2]'][0], l = parameters['l (eV)'][0])"
   ]
  },
  {
   "cell_type": "code",
   "execution_count": 43,
   "metadata": {},
   "outputs": [],
   "source": [
    "from matplotlib import pyplot as mp\n",
    "import numpy as np\n",
    "\n",
    "T = 300\n",
    "def gaussian(ECT, l):\n",
    "    a = (math.sqrt(4*np.pi*l*k_eV*T))*np.exp(-(ECT+l)**2 / (4*l*k_eV*T))\n",
    "    b = np.pi*(ECT-l)*np.exp(-ECT/(k_eV*T))\n",
    "    \n",
    "    return a, b"
   ]
  },
  {
   "cell_type": "code",
   "execution_count": 44,
   "metadata": {},
   "outputs": [
    {
     "data": {
      "text/plain": [
       "(6.112567484334173e-54, 2.4340563777599585e-23)"
      ]
     },
     "execution_count": 44,
     "metadata": {},
     "output_type": "execute_result"
    }
   ],
   "source": [
    "gaussian(parameters['ECT (eV)'][0], parameters['l (eV)'][0])"
   ]
  },
  {
   "cell_type": "markdown",
   "metadata": {},
   "source": [
    "### Plot Parameters"
   ]
  },
  {
   "cell_type": "code",
   "execution_count": 10,
   "metadata": {},
   "outputs": [],
   "source": [
    "markersize = 7\n",
    "capsize = 5\n",
    "\n",
    "plot_colors = ['#f0d314', '#ff7f1e', '#ed0b4f', '#a80078', '#070d8b']"
   ]
  },
  {
   "cell_type": "markdown",
   "metadata": {},
   "source": [
    "#### EQE Fitting Results"
   ]
  },
  {
   "cell_type": "markdown",
   "metadata": {},
   "source": [
    "#### CT State & Voltage Trends"
   ]
  }
 ],
 "metadata": {
  "kernelspec": {
   "display_name": "Python 3",
   "language": "python",
   "name": "python3"
  },
  "language_info": {
   "codemirror_mode": {
    "name": "ipython",
    "version": 3
   },
   "file_extension": ".py",
   "mimetype": "text/x-python",
   "name": "python",
   "nbconvert_exporter": "python",
   "pygments_lexer": "ipython3",
   "version": "3.6.9"
  }
 },
 "nbformat": 4,
 "nbformat_minor": 2
}
