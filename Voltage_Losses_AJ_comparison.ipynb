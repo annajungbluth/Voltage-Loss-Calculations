{
 "cells": [
  {
   "cell_type": "code",
   "execution_count": 1,
   "metadata": {},
   "outputs": [],
   "source": [
    "import math\n",
    "import pandas as pd\n",
    "import numpy as np\n",
    "import matplotlib.pyplot as plt\n",
    "import os\n",
    "from scipy.optimize import curve_fit\n",
    "from scipy import integrate as ig\n",
    "from scipy.interpolate import interp1d\n",
    "from functions import bb, getAM15, J0, J0_rad, SQ, Voc_rad, Vloss_Rau, LED_QE, linear, calculate_summary, set_up_plot, Vloss_Vandewal"
   ]
  },
  {
   "cell_type": "code",
   "execution_count": 2,
   "metadata": {},
   "outputs": [
    {
     "data": {
      "text/plain": [
       "'/home/jungbluth/Desktop/git/Voltage-Loss-Calculations'"
      ]
     },
     "execution_count": 2,
     "metadata": {},
     "output_type": "execute_result"
    }
   ],
   "source": [
    "os.getcwd()"
   ]
  },
  {
   "cell_type": "code",
   "execution_count": 3,
   "metadata": {},
   "outputs": [],
   "source": [
    "T = 293 # [K] ambient & cell temperature\n",
    "h = 6.626 * 10**(-34) # [kgm^2/s]\n",
    "h_eV = 4.1357*10**(-15) # eV s\n",
    "c = 2.998 * 10**(8) # [m/s]\n",
    "k = 1.3806 * 10**(-23) # [kgm^2/s^2K]\n",
    "k_eV = 8.6173*10**(-5) # eV / K\n",
    "q = 1.60217662 * 10**(-19) # [C]\n",
    "q_eV = 1\n",
    "Vth = k_eV*T/q_eV # thermal voltage [eV]"
   ]
  },
  {
   "cell_type": "markdown",
   "metadata": {},
   "source": [
    "### Import sEQE Data"
   ]
  },
  {
   "cell_type": "markdown",
   "metadata": {},
   "source": [
    "#### (Replace and read in from file !!!)"
   ]
  },
  {
   "cell_type": "code",
   "execution_count": 4,
   "metadata": {},
   "outputs": [],
   "source": [
    "ZnPc_5 = pd.read_csv('/home/jungbluth/Desktop/ZnPc_Data/FxZnPc_sEQE/sEQE_analysis/Measurements_RT/DR46_D_5_ZnPc_C60_2')\n",
    "ZnPc_25 = pd.read_csv('/home/jungbluth/Desktop/ZnPc_Data/FxZnPc_sEQE/sEQE_analysis/Measurements_RT/DR45_D_25_ZnPc_C60_5')\n",
    "ZnPc_50 = pd.read_csv('/home/jungbluth/Desktop/ZnPc_Data/FxZnPc_sEQE/sEQE_analysis/Measurements_RT/DR39_C_50_ZnPc_C60_4')\n",
    "ZnPc_75 = pd.read_csv('/home/jungbluth/Desktop/ZnPc_Data/FxZnPc_sEQE/sEQE_analysis/Measurements_RT/DR45_A_75_ZnPc_C60_4')\n",
    "ZnPc_95 = pd.read_csv('/home/jungbluth/Desktop/ZnPc_Data/FxZnPc_sEQE/sEQE_analysis/Measurements_RT/DR61_D_95_ZnPc_C60_5')\n",
    "ZnPc_100 = pd.read_csv('/home/jungbluth/Desktop/ZnPc_Data/FxZnPc_sEQE/sEQE_analysis/Measurements_RT/DR61_A_100_ZnPc_5')"
   ]
  },
  {
   "cell_type": "code",
   "execution_count": 5,
   "metadata": {},
   "outputs": [],
   "source": [
    "F4ZnPc_5 = pd.read_csv('/home/jungbluth/Desktop/ZnPc_Data/FxZnPc_sEQE/sEQE_analysis/Measurements_RT/DR40_B_5_F4ZnPc_C60_2')\n",
    "F4ZnPc_25 = pd.read_csv('/home/jungbluth/Desktop/ZnPc_Data/FxZnPc_sEQE/sEQE_analysis/Measurements_RT/DR41_B_25_F4ZnPc_C60_2')\n",
    "F4ZnPc_50 = pd.read_csv('/home/jungbluth/Desktop/ZnPc_Data/FxZnPc_sEQE/sEQE_analysis/Measurements_RT/DR40_A_50_F4ZnPc_C60_5')\n",
    "#F4ZnPc_75 = pd.read_csv('/home/jungbluth/Desktop/ZnPc_Data/FxZnPc_sEQE/sEQE_analysis/Measurements_RT/DR41_C_75_F4ZnPc_C60_4')\n",
    "F4ZnPc_75 = pd.read_csv('/home/jungbluth/Desktop/ZnPc_Data/FxZnPc_sEQE/sEQE_analysis/Measurements_RT/DR41_A_75_F4ZnPc_C60_5')\n",
    "F4ZnPc_95 = pd.read_csv('/home/jungbluth/Desktop/ZnPc_Data/FxZnPc_sEQE/sEQE_analysis/Measurements_RT/DR66_B_95_F4ZnPc_C60_2')\n",
    "F4ZnPc_100 = pd.read_csv('/home/jungbluth/Desktop/ZnPc_Data/FxZnPc_sEQE/sEQE_analysis/Measurements_RT/DR66_C_100_F4ZnPc_2')"
   ]
  },
  {
   "cell_type": "code",
   "execution_count": 6,
   "metadata": {},
   "outputs": [],
   "source": [
    "# F8ZnPc_5 = pd.read_csv('/home/jungbluth/Desktop/ZnPc_Data/FxZnPc_sEQE/sEQE_analysis/Measurements_RT/DR55_D_5_F8ZnPc_C60_5')\n",
    "F8ZnPc_5 = pd.read_csv('/home/jungbluth/Desktop/ZnPc_Data/FxZnPc_sEQE/sEQE_analysis/Measurements_RT/DR72_D_5_F8ZnPc_C60_1_(0.5TC)')\n",
    "F8ZnPc_25 = pd.read_csv('/home/jungbluth/Desktop/ZnPc_Data/FxZnPc_sEQE/sEQE_analysis/Measurements_RT/DR43_D_25_F8ZnPc_C60_1')\n",
    "F8ZnPc_50 = pd.read_csv('/home/jungbluth/Desktop/ZnPc_Data/FxZnPc_sEQE/sEQE_analysis/Measurements_RT/DR42_C_50_F8ZnPc_C60_7')\n",
    "F8ZnPc_75 = pd.read_csv('/home/jungbluth/Desktop/ZnPc_Data/FxZnPc_sEQE/sEQE_analysis/Measurements_RT/DR43_A_75_F8ZnPc_C60_4')\n",
    "F8ZnPc_95 = pd.read_csv('/home/jungbluth/Desktop/ZnPc_Data/FxZnPc_sEQE/sEQE_analysis/Measurements_RT/DR56_B_95_F8ZnPc_C60_5')\n",
    "F8ZnPc_100 = pd.read_csv('/home/jungbluth/Desktop/ZnPc_Data/FxZnPc_sEQE/sEQE_analysis/Measurements_RT/DR56_C_100_F8ZnPc_8')"
   ]
  },
  {
   "cell_type": "code",
   "execution_count": 7,
   "metadata": {},
   "outputs": [],
   "source": [
    "# F16ZnPc_5 = pd.read_csv('/home/jungbluth/Desktop/ZnPc_Data/FxZnPc_sEQE/sEQE_analysis/Measurements_RT/DR50_A_5_F16ZnPc_C60_5')\n",
    "F16ZnPc_5 = pd.read_csv('/home/jungbluth/Desktop/ZnPc_Data/FxZnPc_sEQE/sEQE_analysis/Measurements_RT/DR71_B_5_F16ZnPc_C60_2 (2)')\n",
    "F16ZnPc_25 = pd.read_csv('/home/jungbluth/Desktop/ZnPc_Data/FxZnPc_sEQE/sEQE_analysis/Measurements_RT/DR44_D_25_F16ZnPc_C60_1')\n",
    "F16ZnPc_50 = pd.read_csv('/home/jungbluth/Desktop/ZnPc_Data/FxZnPc_sEQE/sEQE_analysis/Measurements_RT/DR50_D_50_F16ZnPc_C60_7')\n",
    "F16ZnPc_75 = pd.read_csv('/home/jungbluth/Desktop/ZnPc_Data/FxZnPc_sEQE/sEQE_analysis/Measurements_RT/DR57_C_75_F16ZnPc_C60_7')\n",
    "F16ZnPc_95 = pd.read_csv('/home/jungbluth/Desktop/ZnPc_Data/FxZnPc_sEQE/sEQE_analysis/Measurements_RT/DR58_D_95_F16ZnPc_C60_1')\n",
    "#F16ZnPc_100 = pd.read_csv('/home/jungbluth/Desktop/ZnPc_Data/FxZnPc_sEQE/sEQE_analysis/Measurements_RT/DR58_A_100_F16ZnPc_5')\n",
    "F16ZnPc_100 = pd.read_csv('/home/jungbluth/Desktop/ZnPc_Data/FxZnPc_sEQE/sEQE_analysis/Measurements_RT/DR72_A_100_F16ZnPc_1_(0.5TC)')"
   ]
  },
  {
   "cell_type": "code",
   "execution_count": 8,
   "metadata": {},
   "outputs": [
    {
     "data": {
      "text/html": [
       "<div>\n",
       "<style scoped>\n",
       "    .dataframe tbody tr th:only-of-type {\n",
       "        vertical-align: middle;\n",
       "    }\n",
       "\n",
       "    .dataframe tbody tr th {\n",
       "        vertical-align: top;\n",
       "    }\n",
       "\n",
       "    .dataframe thead th {\n",
       "        text-align: right;\n",
       "    }\n",
       "</style>\n",
       "<table border=\"1\" class=\"dataframe\">\n",
       "  <thead>\n",
       "    <tr style=\"text-align: right;\">\n",
       "      <th></th>\n",
       "      <th>Material</th>\n",
       "      <th>Number</th>\n",
       "      <th>Voc (V)</th>\n",
       "      <th>Err_Voc (V)</th>\n",
       "      <th>Jsc (mA/cm2)</th>\n",
       "      <th>Err_Jsc (mA/cm2)</th>\n",
       "      <th>FF</th>\n",
       "      <th>Err_FF</th>\n",
       "      <th>ECT (eV)</th>\n",
       "      <th>Err_ECT (eV)</th>\n",
       "      <th>...</th>\n",
       "      <th>Err_Eopt (eV)</th>\n",
       "      <th>l (eV)</th>\n",
       "      <th>Err_l (eV)</th>\n",
       "      <th>f (eV2)</th>\n",
       "      <th>Err_f (eV2)</th>\n",
       "      <th>T1_exp (eV)</th>\n",
       "      <th>T1_calc (eV)</th>\n",
       "      <th>EQE File</th>\n",
       "      <th>Best_Voc</th>\n",
       "      <th>Best_Jsc</th>\n",
       "    </tr>\n",
       "  </thead>\n",
       "  <tbody>\n",
       "    <tr>\n",
       "      <th>0</th>\n",
       "      <td>ZnPc</td>\n",
       "      <td>19</td>\n",
       "      <td>0.78</td>\n",
       "      <td>0.02</td>\n",
       "      <td>3.56</td>\n",
       "      <td>0.17</td>\n",
       "      <td>0.40</td>\n",
       "      <td>0.01</td>\n",
       "      <td>1.38</td>\n",
       "      <td>0.01</td>\n",
       "      <td>...</td>\n",
       "      <td>0.01</td>\n",
       "      <td>0.199</td>\n",
       "      <td>0.01</td>\n",
       "      <td>0.004235</td>\n",
       "      <td>0.001388</td>\n",
       "      <td>1.13</td>\n",
       "      <td>1.21</td>\n",
       "      <td>DR46_D_5_ZnPc_C60_2</td>\n",
       "      <td>0.76</td>\n",
       "      <td>3.74</td>\n",
       "    </tr>\n",
       "    <tr>\n",
       "      <th>1</th>\n",
       "      <td>F4ZnPc</td>\n",
       "      <td>13</td>\n",
       "      <td>0.89</td>\n",
       "      <td>0.02</td>\n",
       "      <td>3.10</td>\n",
       "      <td>0.17</td>\n",
       "      <td>0.33</td>\n",
       "      <td>0.01</td>\n",
       "      <td>1.45</td>\n",
       "      <td>0.01</td>\n",
       "      <td>...</td>\n",
       "      <td>0.01</td>\n",
       "      <td>0.136</td>\n",
       "      <td>0.03</td>\n",
       "      <td>0.000794</td>\n",
       "      <td>0.000506</td>\n",
       "      <td>1.13</td>\n",
       "      <td>1.20</td>\n",
       "      <td>DR40_B_5_F4ZnPc_C60_2</td>\n",
       "      <td>0.88</td>\n",
       "      <td>3.36</td>\n",
       "    </tr>\n",
       "    <tr>\n",
       "      <th>2</th>\n",
       "      <td>F8ZnPc</td>\n",
       "      <td>12</td>\n",
       "      <td>1.14</td>\n",
       "      <td>0.02</td>\n",
       "      <td>1.02</td>\n",
       "      <td>0.05</td>\n",
       "      <td>0.30</td>\n",
       "      <td>0.01</td>\n",
       "      <td>1.59</td>\n",
       "      <td>0.01</td>\n",
       "      <td>...</td>\n",
       "      <td>0.01</td>\n",
       "      <td>0.151</td>\n",
       "      <td>0.01</td>\n",
       "      <td>0.000097</td>\n",
       "      <td>0.000019</td>\n",
       "      <td>NaN</td>\n",
       "      <td>1.25</td>\n",
       "      <td>DR72_D_5_F8ZnPc_C60_1_(0.5TC)</td>\n",
       "      <td>1.14</td>\n",
       "      <td>1.09</td>\n",
       "    </tr>\n",
       "    <tr>\n",
       "      <th>3</th>\n",
       "      <td>F16ZnPc</td>\n",
       "      <td>15</td>\n",
       "      <td>1.21</td>\n",
       "      <td>0.02</td>\n",
       "      <td>0.82</td>\n",
       "      <td>0.05</td>\n",
       "      <td>0.29</td>\n",
       "      <td>0.01</td>\n",
       "      <td>1.61</td>\n",
       "      <td>0.01</td>\n",
       "      <td>...</td>\n",
       "      <td>0.01</td>\n",
       "      <td>0.159</td>\n",
       "      <td>0.01</td>\n",
       "      <td>0.000035</td>\n",
       "      <td>NaN</td>\n",
       "      <td>NaN</td>\n",
       "      <td>1.18</td>\n",
       "      <td>DR71_B_5_F16ZnPc_C60_2 (2)</td>\n",
       "      <td>1.24</td>\n",
       "      <td>0.87</td>\n",
       "    </tr>\n",
       "    <tr>\n",
       "      <th>4</th>\n",
       "      <td>C60</td>\n",
       "      <td>11</td>\n",
       "      <td>1.13</td>\n",
       "      <td>0.07</td>\n",
       "      <td>1.08</td>\n",
       "      <td>0.08</td>\n",
       "      <td>0.30</td>\n",
       "      <td>0.01</td>\n",
       "      <td>NaN</td>\n",
       "      <td>NaN</td>\n",
       "      <td>...</td>\n",
       "      <td>NaN</td>\n",
       "      <td>NaN</td>\n",
       "      <td>NaN</td>\n",
       "      <td>NaN</td>\n",
       "      <td>NaN</td>\n",
       "      <td>1.50</td>\n",
       "      <td>NaN</td>\n",
       "      <td>DR39_D_C60_2</td>\n",
       "      <td>1.26</td>\n",
       "      <td>0.99</td>\n",
       "    </tr>\n",
       "  </tbody>\n",
       "</table>\n",
       "<p>5 rows × 21 columns</p>\n",
       "</div>"
      ],
      "text/plain": [
       "  Material  Number  Voc (V)  Err_Voc (V)  Jsc (mA/cm2)  Err_Jsc (mA/cm2)  \\\n",
       "0     ZnPc      19     0.78         0.02          3.56              0.17   \n",
       "1   F4ZnPc      13     0.89         0.02          3.10              0.17   \n",
       "2   F8ZnPc      12     1.14         0.02          1.02              0.05   \n",
       "3  F16ZnPc      15     1.21         0.02          0.82              0.05   \n",
       "4      C60      11     1.13         0.07          1.08              0.08   \n",
       "\n",
       "     FF  Err_FF  ECT (eV)  Err_ECT (eV)    ...     Err_Eopt (eV)  l (eV)  \\\n",
       "0  0.40    0.01      1.38          0.01    ...              0.01   0.199   \n",
       "1  0.33    0.01      1.45          0.01    ...              0.01   0.136   \n",
       "2  0.30    0.01      1.59          0.01    ...              0.01   0.151   \n",
       "3  0.29    0.01      1.61          0.01    ...              0.01   0.159   \n",
       "4  0.30    0.01       NaN           NaN    ...               NaN     NaN   \n",
       "\n",
       "   Err_l (eV)   f (eV2)  Err_f (eV2)  T1_exp (eV)  T1_calc (eV)  \\\n",
       "0        0.01  0.004235     0.001388         1.13          1.21   \n",
       "1        0.03  0.000794     0.000506         1.13          1.20   \n",
       "2        0.01  0.000097     0.000019          NaN          1.25   \n",
       "3        0.01  0.000035          NaN          NaN          1.18   \n",
       "4         NaN       NaN          NaN         1.50           NaN   \n",
       "\n",
       "                        EQE File Best_Voc  Best_Jsc  \n",
       "0            DR46_D_5_ZnPc_C60_2     0.76      3.74  \n",
       "1          DR40_B_5_F4ZnPc_C60_2     0.88      3.36  \n",
       "2  DR72_D_5_F8ZnPc_C60_1_(0.5TC)     1.14      1.09  \n",
       "3     DR71_B_5_F16ZnPc_C60_2 (2)     1.24      0.87  \n",
       "4                   DR39_D_C60_2     1.26      0.99  \n",
       "\n",
       "[5 rows x 21 columns]"
      ]
     },
     "execution_count": 8,
     "metadata": {},
     "output_type": "execute_result"
    }
   ],
   "source": [
    "parameters = pd.read_excel('/home/jungbluth/Desktop/ZnPc_Data/FxZnPc_Voltage/Voltage_analysis/5_FxZnPc_Summary.xlsx')\n",
    "parameters.head()"
   ]
  },
  {
   "cell_type": "markdown",
   "metadata": {},
   "source": [
    "### Calculate Relevant Parameters"
   ]
  },
  {
   "cell_type": "markdown",
   "metadata": {},
   "source": [
    "#### Pull out relevant parameters"
   ]
  },
  {
   "cell_type": "code",
   "execution_count": 10,
   "metadata": {},
   "outputs": [],
   "source": [
    "columns = parameters['EQE File'][:-1]\n",
    "samples = [ZnPc_5, F4ZnPc_5, F8ZnPc_5, F16ZnPc_5]\n",
    "\n",
    "EIP = [1.75, 1.68, 1.78, 1.71] # from inflection point\n",
    "Voc = parameters['Voc (V)'][:-1]\n",
    "Jsc = parameters['Jsc (mA/cm2)'][:-1]\n",
    "ECT = parameters['ECT (eV)'][:-1]\n",
    "f = parameters['f (eV2)'][:-1]\n",
    "l = parameters['l (eV)'][:-1]"
   ]
  },
  {
   "cell_type": "code",
   "execution_count": 15,
   "metadata": {},
   "outputs": [],
   "source": [
    "def Vloss_Vandewal(Jsc, ECT, f, l):\n",
    "    \"\"\"\n",
    "    Function to calculate the radiative Voc loss defined using CT properties\n",
    "    :param Jsc: measured short-circuit current density [float] [mA/cm**2]\n",
    "    :param ET: fitted CT state energy [float] [eV]\n",
    "    :param f: fitted oscillator strength / pre-absorption factor [float] [ev**2]\n",
    "    :param l: fitted reorganization energy [float] [eV]\n",
    "    :return: Delta_V_rad: radiative Voc loss [float] [V]\n",
    "    \"\"\"\n",
    "    V_rad = ECT/q_eV + k_eV*T/q_eV * math.log((Jsc*h_eV**3*c**2)/(10*f*q*2*math.pi*(ECT-l))) # multiplied by q to convert eV to J\n",
    "    Delta_V_rad_eV = - k_eV*T/q_eV * math.log((Jsc*h_eV**3*c**2)/(10*f*q*2*math.pi*(ECT-l))) # multiplied by q to convert eV to J\n",
    "    \n",
    "    return V_rad, Delta_V_rad_eV"
   ]
  },
  {
   "cell_type": "code",
   "execution_count": 12,
   "metadata": {},
   "outputs": [],
   "source": [
    "def J0(EQE_EL, ECT, f, l):\n",
    "    a = (math.sqrt(4*np.pi*l*k_eV*T))*np.exp(-(ECT+l)**2 / (4*l*k_eV*T))\n",
    "    b = np.pi*(ECT-l)*np.exp(-ECT/(k_eV*T))\n",
    "    J0 = q/EQE_EL * f/(h_eV**3 * c**2) * (a + b)\n",
    "    \n",
    "    J0_2 = q/EQE_EL * f/(h_eV**3 * c**2) * (b)\n",
    "    \n",
    "    return J0, J0_2"
   ]
  },
  {
   "cell_type": "code",
   "execution_count": 78,
   "metadata": {},
   "outputs": [],
   "source": [
    "E = ZnPc_5['Energy']\n",
    "bb_df = bb(E)"
   ]
  },
  {
   "cell_type": "code",
   "execution_count": 79,
   "metadata": {},
   "outputs": [
    {
     "data": {
      "text/plain": [
       "(1.3630116790431607e-13, 1.3323086616564434e-13)"
      ]
     },
     "execution_count": 79,
     "metadata": {},
     "output_type": "execute_result"
    }
   ],
   "source": [
    "J0_(ZnPc_5, bb_df, 5.618478E-07)"
   ]
  },
  {
   "cell_type": "code",
   "execution_count": 38,
   "metadata": {
    "scrolled": false
   },
   "outputs": [
    {
     "data": {
      "text/html": [
       "<div>\n",
       "<style scoped>\n",
       "    .dataframe tbody tr th:only-of-type {\n",
       "        vertical-align: middle;\n",
       "    }\n",
       "\n",
       "    .dataframe tbody tr th {\n",
       "        vertical-align: top;\n",
       "    }\n",
       "\n",
       "    .dataframe thead th {\n",
       "        text-align: right;\n",
       "    }\n",
       "</style>\n",
       "<table border=\"1\" class=\"dataframe\">\n",
       "  <thead>\n",
       "    <tr style=\"text-align: right;\">\n",
       "      <th></th>\n",
       "      <th>Sample</th>\n",
       "      <th>Jsc [mA/cm2]</th>\n",
       "      <th>ECT [V]</th>\n",
       "      <th>Voc [V]</th>\n",
       "      <th>Voc,SQ [V]</th>\n",
       "      <th>J0,rad [mA/cm2]</th>\n",
       "      <th>Voc,rad [V]</th>\n",
       "      <th>Voc,rad [V] (Vandewal)</th>\n",
       "      <th>Delta Voc,SC [V] (Rau)</th>\n",
       "      <th>Delta Voc,rad [V] (Rau)</th>\n",
       "      <th>Delta Voc,rad [V] (Vandewal)</th>\n",
       "      <th>Delta Voc,rad [V] (ECT - Delta Voc,rad)</th>\n",
       "      <th>Delta Voc,nonrad [V]</th>\n",
       "      <th>Delta Voc,nonrad [V] (Rau)</th>\n",
       "      <th>LED QE</th>\n",
       "    </tr>\n",
       "  </thead>\n",
       "  <tbody>\n",
       "    <tr>\n",
       "      <th>0</th>\n",
       "      <td>DR46_D_5_ZnPc_C60_2</td>\n",
       "      <td>3.56</td>\n",
       "      <td>1.38</td>\n",
       "      <td>0.78</td>\n",
       "      <td>1.473443</td>\n",
       "      <td>7.658051e-20</td>\n",
       "      <td>1.143369</td>\n",
       "      <td>1.010989</td>\n",
       "      <td>0.044832</td>\n",
       "      <td>0.285242</td>\n",
       "      <td>0.369011</td>\n",
       "      <td>0.236631</td>\n",
       "      <td>0.363369</td>\n",
       "      <td>0.363369</td>\n",
       "      <td>5.618478e-07</td>\n",
       "    </tr>\n",
       "    <tr>\n",
       "      <th>1</th>\n",
       "      <td>DR40_B_5_F4ZnPc_C60_2</td>\n",
       "      <td>3.10</td>\n",
       "      <td>1.45</td>\n",
       "      <td>0.89</td>\n",
       "      <td>1.406645</td>\n",
       "      <td>1.562512e-21</td>\n",
       "      <td>1.238141</td>\n",
       "      <td>1.117069</td>\n",
       "      <td>0.050652</td>\n",
       "      <td>0.117852</td>\n",
       "      <td>0.332931</td>\n",
       "      <td>0.211859</td>\n",
       "      <td>0.348141</td>\n",
       "      <td>0.348141</td>\n",
       "      <td>1.026942e-06</td>\n",
       "    </tr>\n",
       "    <tr>\n",
       "      <th>2</th>\n",
       "      <td>DR72_D_5_F8ZnPc_C60_1_(0.5TC)</td>\n",
       "      <td>1.02</td>\n",
       "      <td>1.59</td>\n",
       "      <td>1.14</td>\n",
       "      <td>1.501703</td>\n",
       "      <td>1.523239e-24</td>\n",
       "      <td>1.385125</td>\n",
       "      <td>1.279791</td>\n",
       "      <td>0.075308</td>\n",
       "      <td>0.041270</td>\n",
       "      <td>0.310209</td>\n",
       "      <td>0.204875</td>\n",
       "      <td>0.245125</td>\n",
       "      <td>0.245125</td>\n",
       "      <td>6.075149e-05</td>\n",
       "    </tr>\n",
       "    <tr>\n",
       "      <th>3</th>\n",
       "      <td>DR71_B_5_F16ZnPc_C60_2 (2)</td>\n",
       "      <td>0.82</td>\n",
       "      <td>1.61</td>\n",
       "      <td>1.21</td>\n",
       "      <td>1.434923</td>\n",
       "      <td>9.675607e-24</td>\n",
       "      <td>1.332937</td>\n",
       "      <td>1.319808</td>\n",
       "      <td>0.083265</td>\n",
       "      <td>0.018721</td>\n",
       "      <td>0.290192</td>\n",
       "      <td>0.277063</td>\n",
       "      <td>0.122937</td>\n",
       "      <td>0.122937</td>\n",
       "      <td>7.679602e-03</td>\n",
       "    </tr>\n",
       "  </tbody>\n",
       "</table>\n",
       "</div>"
      ],
      "text/plain": [
       "                          Sample  Jsc [mA/cm2]  ECT [V]  Voc [V]  Voc,SQ [V]  \\\n",
       "0            DR46_D_5_ZnPc_C60_2          3.56     1.38     0.78    1.473443   \n",
       "1          DR40_B_5_F4ZnPc_C60_2          3.10     1.45     0.89    1.406645   \n",
       "2  DR72_D_5_F8ZnPc_C60_1_(0.5TC)          1.02     1.59     1.14    1.501703   \n",
       "3     DR71_B_5_F16ZnPc_C60_2 (2)          0.82     1.61     1.21    1.434923   \n",
       "\n",
       "   J0,rad [mA/cm2]  Voc,rad [V]  Voc,rad [V] (Vandewal)  \\\n",
       "0     7.658051e-20     1.143369                1.010989   \n",
       "1     1.562512e-21     1.238141                1.117069   \n",
       "2     1.523239e-24     1.385125                1.279791   \n",
       "3     9.675607e-24     1.332937                1.319808   \n",
       "\n",
       "   Delta Voc,SC [V] (Rau)  Delta Voc,rad [V] (Rau)  \\\n",
       "0                0.044832                 0.285242   \n",
       "1                0.050652                 0.117852   \n",
       "2                0.075308                 0.041270   \n",
       "3                0.083265                 0.018721   \n",
       "\n",
       "   Delta Voc,rad [V] (Vandewal)  Delta Voc,rad [V] (ECT - Delta Voc,rad)  \\\n",
       "0                      0.369011                                 0.236631   \n",
       "1                      0.332931                                 0.211859   \n",
       "2                      0.310209                                 0.204875   \n",
       "3                      0.290192                                 0.277063   \n",
       "\n",
       "   Delta Voc,nonrad [V]  Delta Voc,nonrad [V] (Rau)        LED QE  \n",
       "0              0.363369                    0.363369  5.618478e-07  \n",
       "1              0.348141                    0.348141  1.026942e-06  \n",
       "2              0.245125                    0.245125  6.075149e-05  \n",
       "3              0.122937                    0.122937  7.679602e-03  "
      ]
     },
     "execution_count": 38,
     "metadata": {},
     "output_type": "execute_result"
    }
   ],
   "source": [
    "summary = calculate_summary(columns, samples, Voc, Jsc, ECT, EIP, f, l)\n",
    "summary\n",
    "# summary.to_csv('/home/jungbluth/Desktop/Voc_Loss_comparison')"
   ]
  },
  {
   "cell_type": "code",
   "execution_count": 16,
   "metadata": {},
   "outputs": [
    {
     "data": {
      "text/plain": [
       "(1.0109892836297567, 0.36901071637024313)"
      ]
     },
     "execution_count": 16,
     "metadata": {},
     "output_type": "execute_result"
    }
   ],
   "source": [
    "x = 0\n",
    "\n",
    "Vloss_Vandewal(parameters['Jsc (mA/cm2)'][x], parameters['ECT (eV)'][x], parameters['f (eV2)'][x], parameters['l (eV)'][x])"
   ]
  },
  {
   "cell_type": "code",
   "execution_count": 29,
   "metadata": {},
   "outputs": [],
   "source": [
    "def revert_Voc_rad(V_rad, ECT, Jsc,l):\n",
    "    f = (Jsc/10)*(h_eV**3*c**2) /(q*2*math.pi*(ECT-l)*math.exp((ECT-q_eV*V_rad)/(k_eV*T)))\n",
    "#     f = (Jsc/10)*(h**3*c**2) /(q*2*math.pi*(ECT-l)*math.exp((ECT-q*V_rad)/(k*T)))\n",
    "    return f"
   ]
  },
  {
   "cell_type": "code",
   "execution_count": 30,
   "metadata": {},
   "outputs": [
    {
     "data": {
      "text/plain": [
       "1.619567827175709e-13"
      ]
     },
     "execution_count": 30,
     "metadata": {},
     "output_type": "execute_result"
    }
   ],
   "source": [
    "revert_Voc_rad(V_rad = summary['Voc,rad [V]'][0], ECT=summary['ECT [V]'][0], Jsc=summary['Jsc [mA/cm2]'][0], l = parameters['l (eV)'][0])"
   ]
  },
  {
   "cell_type": "code",
   "execution_count": 43,
   "metadata": {},
   "outputs": [],
   "source": [
    "from matplotlib import pyplot as mp\n",
    "import numpy as np\n",
    "\n",
    "T = 300\n",
    "def gaussian(ECT, l):\n",
    "    a = (math.sqrt(4*np.pi*l*k_eV*T))*np.exp(-(ECT+l)**2 / (4*l*k_eV*T))\n",
    "    b = np.pi*(ECT-l)*np.exp(-ECT/(k_eV*T))\n",
    "    \n",
    "    return a, b"
   ]
  },
  {
   "cell_type": "code",
   "execution_count": 44,
   "metadata": {},
   "outputs": [
    {
     "data": {
      "text/plain": [
       "(6.112567484334173e-54, 2.4340563777599585e-23)"
      ]
     },
     "execution_count": 44,
     "metadata": {},
     "output_type": "execute_result"
    }
   ],
   "source": [
    "gaussian(parameters['ECT (eV)'][0], parameters['l (eV)'][0])"
   ]
  },
  {
   "cell_type": "markdown",
   "metadata": {},
   "source": [
    "### Plot Parameters"
   ]
  },
  {
   "cell_type": "code",
   "execution_count": 10,
   "metadata": {},
   "outputs": [],
   "source": [
    "markersize = 7\n",
    "capsize = 5\n",
    "\n",
    "plot_colors = ['#f0d314', '#ff7f1e', '#ed0b4f', '#a80078', '#070d8b']"
   ]
  },
  {
   "cell_type": "markdown",
   "metadata": {},
   "source": [
    "#### EQE Fitting Results"
   ]
  },
  {
   "cell_type": "markdown",
   "metadata": {},
   "source": [
    "#### CT State & Voltage Trends"
   ]
  },
  {
   "cell_type": "code",
   "execution_count": 23,
   "metadata": {},
   "outputs": [
    {
     "data": {
      "text/plain": [
       "<matplotlib.legend.Legend at 0x7fd1bfe18978>"
      ]
     },
     "execution_count": 23,
     "metadata": {},
     "output_type": "execute_result"
    },
    {
     "data": {
      "image/png": "[encoded data removed]",
      "text/plain": [
       "<Figure size 900x600 with 1 Axes>"
      ]
     },
     "metadata": {},
     "output_type": "display_data"
    }
   ],
   "source": [
    "# Plot settings\n",
    "values = [ 0.25, 0.50, 0.75, 1]\n",
    "labels = ['ZnPc', 'F4ZnPc', 'F8ZnPc', 'F16ZnPc']\n",
    "x_label = None\n",
    "y_label = 'Energy / eV'\n",
    "plot_labels = ['$E_{CT}$', '$V_{OC}$', '$V_{OC},rad.$']\n",
    "\n",
    "# Set up & draw plot\n",
    "fig = set_up_plot(x_label = x_label, y_label = y_label, values = values, labels = labels)\n",
    "\n",
    "plt.plot(values, summary['ECT [V]'], 'D', markersize=8, linestyle='--', linewidth=2, label=plot_labels[0], color=plot_colors[3])\n",
    "plt.plot(values, summary['Voc,rad [V]'], 'D', markersize=8, linestyle='--', linewidth=2, label=plot_labels[1], color='#b7b7b7ff')\n",
    "plt.plot(values, summary['Voc [V]'], '^', markersize=8, linestyle='--', linewidth=2, label=plot_labels[2], color='black')\n",
    "\n",
    "plt.xlim(0.15, 1.1)\n",
    "plt.ylim(0.5, 2)\n",
    "plt.legend(fontsize = 15, loc=2, ncol=3, mode=\"expand\", borderaxespad=0.) # bbox_to_anchor=(0.05, 1.1, 0.9, .102),\n",
    "\n",
    "# plt.savefig('/home/jungbluth/Desktop/100_FxZnPc_Voc_Trends.png')"
   ]
  }
 ],
 "metadata": {
  "kernelspec": {
   "display_name": "Python 3",
   "language": "python",
   "name": "python3"
  },
  "language_info": {
   "codemirror_mode": {
    "name": "ipython",
    "version": 3
   },
   "file_extension": ".py",
   "mimetype": "text/x-python",
   "name": "python",
   "nbconvert_exporter": "python",
   "pygments_lexer": "ipython3",
   "version": "3.6.9"
  }
 },
 "nbformat": 4,
 "nbformat_minor": 2
}
